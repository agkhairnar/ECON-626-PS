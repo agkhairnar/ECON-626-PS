{
 "cells": [
  {
   "cell_type": "code",
   "execution_count": 25,
   "metadata": {},
   "outputs": [],
   "source": [
    "%matplotlib inline\n",
    "import pandas as pd\n",
    "import numpy as np\n",
    "from tqdm import tqdm_notebook\n",
    "from progressbar import progressbar\n",
    "import scipy.stats\n",
    "import statsmodels.stats.power as power\n",
    "from functools import partial\n",
    "import matplotlib.pyplot as plt\n",
    "plt.rcParams.update({\n",
    "    \"lines.color\": \"white\",\n",
    "    \"patch.edgecolor\": \"white\",\n",
    "    \"text.color\": \"black\",\n",
    "    \"axes.facecolor\": \"white\",\n",
    "    \"axes.edgecolor\": \"lightgray\",\n",
    "    \"axes.labelcolor\": \"white\",\n",
    "    \"xtick.color\": \"white\",\n",
    "    \"ytick.color\": \"white\",\n",
    "    \"grid.color\": \"lightgray\",\n",
    "    \"figure.facecolor\": \"black\",\n",
    "    \"figure.edgecolor\": \"black\",\n",
    "    \"savefig.facecolor\": \"black\",\n",
    "    \"savefig.edgecolor\": \"black\"})\n",
    "np.random.seed(94115)"
   ]
  },
  {
   "cell_type": "markdown",
   "metadata": {},
   "source": [
    "# 1.1 Simulating basic distributions "
   ]
  },
  {
   "cell_type": "markdown",
   "metadata": {},
   "source": [
    "# 1)"
   ]
  },
  {
   "cell_type": "code",
   "execution_count": 26,
   "metadata": {},
   "outputs": [],
   "source": [
    "n_obs = 10000\n",
    "n = 1\n",
    "p = 0.25\n",
    "Xi = np.random.binomial(n, p, size=n_obs)"
   ]
  },
  {
   "cell_type": "code",
   "execution_count": 27,
   "metadata": {},
   "outputs": [
    {
     "name": "stdout",
     "output_type": "stream",
     "text": [
      "`Xi.mean()` =  0.2543\n",
      "mu =  0.25\n",
      "\n",
      "\n",
      "`Xi.std()` =  0.4354670021941961\n",
      "sigma =  0.4330127018922193\n"
     ]
    }
   ],
   "source": [
    "print(\"`Xi.mean()` = \", Xi.mean())\n",
    "print(\"mu = \", n*p)\n",
    "print(\"\\n\")\n",
    "print(\"`Xi.std()` = \", Xi.std())\n",
    "print(\"sigma = \", np.sqrt(n*p*(1-p)))"
   ]
  },
  {
   "cell_type": "code",
   "execution_count": 28,
   "metadata": {},
   "outputs": [],
   "source": [
    "n_obs = 10000\n",
    "k = 3\n",
    "Xi = np.random.exponential(k, size=n_obs)\n"
   ]
  },
  {
   "cell_type": "code",
   "execution_count": 29,
   "metadata": {},
   "outputs": [
    {
     "name": "stdout",
     "output_type": "stream",
     "text": [
      "`Xi.mean()` =  2.982138336657323\n",
      "mu =  3\n",
      "\n",
      "\n",
      "`Xi.std()` =  3.0068122860217503\n",
      "sigma =  3\n"
     ]
    }
   ],
   "source": [
    "print(\"`Xi.mean()` = \", Xi.mean())\n",
    "print(\"mu = \", k)\n",
    "print(\"\\n\")\n",
    "print(\"`Xi.std()` = \", Xi.std())\n",
    "print(\"sigma = \", k)"
   ]
  },
  {
   "cell_type": "markdown",
   "metadata": {},
   "source": [
    "# 2)"
   ]
  },
  {
   "cell_type": "markdown",
   "metadata": {},
   "source": [
    "# i) "
   ]
  },
  {
   "cell_type": "code",
   "execution_count": 33,
   "metadata": {},
   "outputs": [],
   "source": [
    "def draw_one_sample_binomial(p = 0.25, n=1000):\n",
    "    \"\"\"Randomly generate one dataset of size n\"\"\"\n",
    "    Xi = np.random.binomial(1,p, size=n)\n",
    "    return Xi\n",
    "def draw_one_sample_exponential(scale = 3, n=1000):\n",
    "    \"\"\"Randomly generate one dataset of size n\"\"\"\n",
    "    Xi = np.random.exponential(scale, size=n)\n",
    "    return Xi"
   ]
  },
  {
   "cell_type": "code",
   "execution_count": 34,
   "metadata": {},
   "outputs": [
    {
     "data": {
      "application/vnd.jupyter.widget-view+json": {
       "model_id": "b8cf7a4cf65f4d468decfd6ccf94ba4c",
       "version_major": 2,
       "version_minor": 0
      },
      "text/plain": [
       "HBox(children=(IntProgress(value=0, max=5000), HTML(value='')))"
      ]
     },
     "metadata": {},
     "output_type": "display_data"
    },
    {
     "data": {
      "application/vnd.jupyter.widget-view+json": {
       "model_id": "038601999a47468b8f6a8a4b9cffad42",
       "version_major": 2,
       "version_minor": 0
      },
      "text/plain": [
       "HBox(children=(IntProgress(value=0, max=5000), HTML(value='')))"
      ]
     },
     "metadata": {},
     "output_type": "display_data"
    }
   ],
   "source": [
    "b = 5000  # Total number of *samples* to generate\n",
    "n = 1000  # The number of data points in each sample\n",
    "\n",
    "sample_means_binomial = []  # We collect the 5000 Xbars here!\n",
    "sample_means_exponential = []\n",
    "\n",
    "list_of_samples_binomial = [draw_one_sample_binomial(n=n) for _ in tqdm_notebook(range(0, b))]\n",
    "list_of_samples_exponential = [draw_one_sample_exponential(n=n) for _ in tqdm_notebook(range(0, b))]\n",
    "\n",
    "sample_means_binomial = [sample.mean() for sample in list_of_samples_binomial]\n",
    "sample_means_exponential = [sample.mean() for sample in list_of_samples_exponential]\n",
    "\n",
    "sample_means_binomial = pd.Series(sample_means_binomial)\n",
    "sample_means_exponential = pd.Series(sample_means_exponential)"
   ]
  },
  {
   "cell_type": "code",
   "execution_count": 40,
   "metadata": {},
   "outputs": [
    {
     "name": "stdout",
     "output_type": "stream",
     "text": [
      "The simulated Xbar values have the expected theoretical distribution:\n",
      "Simulated mean of Xbar for binomial distribution 0.2498840000000001\n",
      "Theoretical expectation of Xbar for binomial distribution 0.25\n",
      "Simulated standard deviation of Xbar for binomial distribution 0.013557717593358682\n",
      "\n",
      "\n",
      "Simulated mean of Xbar for exponential distribution 2.9988857182321427\n",
      "Theoretical expectation of Xbar for exponential distribution 3\n",
      "Simulated standard deviation of Xbar for exponential distribution 0.09354723365203048\n"
     ]
    }
   ],
   "source": [
    "sample_means_binomial.mean()\n",
    "sample_means_exponential.mean()\n",
    "\n",
    "print(\"The simulated Xbar values have the expected theoretical distribution:\")\n",
    "print(\"Simulated mean of Xbar for binomial distribution\", sample_means_binomial.mean())\n",
    "print(\"Theoretical expectation of Xbar for binomial distribution\",0.25)\n",
    "print(\"Simulated standard deviation of Xbar for binomial distribution\", sample_means_binomial.std())\n",
    "\n",
    "print(\"\\n\")\n",
    "\n",
    "print(\"Simulated mean of Xbar for exponential distribution\", sample_means_exponential.mean())\n",
    "print(\"Theoretical expectation of Xbar for exponential distribution\", 3)\n",
    "print(\"Simulated standard deviation of Xbar for exponential distribution\", sample_means_exponential.std())\n",
    "\n"
   ]
  },
  {
   "cell_type": "code",
   "execution_count": 63,
   "metadata": {},
   "outputs": [
    {
     "data": {
      "image/png": "[encoded data removed]",
      "text/plain": [
       "<Figure size 432x288 with 1 Axes>"
      ]
     },
     "metadata": {},
     "output_type": "display_data"
    }
   ],
   "source": [
    "ax = sample_means_binomial.hist(bins=100, density=True)\n",
    "\n",
    "# Add a vertical marker line and labels\n",
    "# This time we will graph the mean of the probability distribution.\n",
    "ax.axvline(1*p, color='black', linestyle='--')\n",
    "ax.text(x=(1*p), y=30, s=r'$\\mu$', fontsize=16)\n",
    "ax.set_xlabel(r'$\\bar{X}$', fontsize=16)\n",
    "ax.set_ylabel('Density', fontsize=16)\n",
    "ax.set_title(\"Simulating the sampling distribution of the mean [Binomial distribution]\", fontsize=16, color = 'white')\n",
    "ax.tick_params(labelsize=16)\n"
   ]
  },
  {
   "cell_type": "code",
   "execution_count": 65,
   "metadata": {},
   "outputs": [
    {
     "data": {
      "image/png": "[encoded data removed]",
      "text/plain": [
       "<Figure size 432x288 with 1 Axes>"
      ]
     },
     "metadata": {},
     "output_type": "display_data"
    }
   ],
   "source": [
    "ax = sample_means_exponential.hist(bins=100, density=True)\n",
    "scale = 3\n",
    "# Add a vertical marker line and labels\n",
    "# This time we will graph the mean of the probability distribution.\n",
    "ax.axvline(scale, color='black', linestyle='--')\n",
    "ax.text(x=(scale), y=4.5, s=r'$\\mu$', fontsize=16)\n",
    "ax.set_xlabel(r'$\\bar{X}$', fontsize=16)\n",
    "ax.set_ylabel('Density', fontsize=16)\n",
    "ax.set_title(\"Simulating the sampling distribution of the mean [ Exponential Distribution ]\", fontsize=16, color ='white')\n",
    "\n",
    "ax.tick_params(labelsize=16)"
   ]
  },
  {
   "cell_type": "markdown",
   "metadata": {},
   "source": [
    "# 1.2 "
   ]
  },
  {
   "cell_type": "markdown",
   "metadata": {},
   "source": [
    "## 1)\n"
   ]
  },
  {
   "cell_type": "code",
   "execution_count": 66,
   "metadata": {},
   "outputs": [],
   "source": [
    "def draw_one_sample_two_groups(ATE, mu, sigma, n, share_treatment):\n",
    "    \"\"\"Randomly generate one dataset of size n.\n",
    "    \n",
    "    args:\n",
    "    ATE: The true average treatment effect\n",
    "    expectation_Y0: The average of the outcome when there is no treatment, E[Y^0]\n",
    "    N: The total sample size\n",
    "    share_treatment: The proportion of N in the treatment group\n",
    "    \n",
    "    \"\"\"\n",
    "    units = np.arange(0, n)\n",
    "    treatment_units = np.random.choice(units, int(len(units) * share_treatment), replace=False)\n",
    "    df = pd.DataFrame({'i': units})\n",
    "    # Set the treatment units to have d_i = 1\n",
    "    df['d'] = df['i'].isin(treatment_units).astype('float')\n",
    "    # The outcome of interest is Y. \n",
    "    # Let's make the treatment give a boost of 0.5!\n",
    "    # The ATE will be 0.5!\n",
    "    Yi = np.random.normal(loc=mu + ATE * df['d'], scale=sigma, size=n)\n",
    "    df['y'] = Yi\n",
    "    return df\n",
    "\n",
    "  \n",
    "def get_difference_in_means(df):\n",
    "    # Calculate means by each group. Then take the difference.\n",
    "    means = df.groupby('d')['y'].mean()\n",
    "    diff = means.loc[1] - means.loc[0]\n",
    "\n",
    "    N = df.shape[0]\n",
    "    N_treatment = df['d'].sum()\n",
    "    \n",
    "    return {\n",
    "        'N': N,\n",
    "        'N_treatment': N_treatment,\n",
    "        'mean_treatment': means.loc[1],\n",
    "        'mean_control': means.loc[0],\n",
    "        'diff': diff\n",
    "    }"
   ]
  },
  {
   "cell_type": "code",
   "execution_count": 121,
   "metadata": {},
   "outputs": [
    {
     "data": {
      "application/vnd.jupyter.widget-view+json": {
       "model_id": "cfe7582552a1487c85d2c7c67291d016",
       "version_major": 2,
       "version_minor": 0
      },
      "text/plain": [
       "HBox(children=(IntProgress(value=0, max=5000), HTML(value='')))"
      ]
     },
     "metadata": {},
     "output_type": "display_data"
    },
    {
     "data": {
      "application/vnd.jupyter.widget-view+json": {
       "model_id": "19416e18ebed4473b5977bc8c25d1853",
       "version_major": 2,
       "version_minor": 0
      },
      "text/plain": [
       "HBox(children=(IntProgress(value=0, max=5000), HTML(value='')))"
      ]
     },
     "metadata": {},
     "output_type": "display_data"
    }
   ],
   "source": [
    "mu = 1\n",
    "sigma = 2\n",
    "\n",
    "b = 5000  # Total number of *samples* to generate\n",
    "n = 1000  # The number of data points in each sample\n",
    "\n",
    "share_treatment = 0.5\n",
    "\n",
    "ATE = 0.5\n",
    "list_of_samples = [draw_one_sample_two_groups(ATE=ATE, mu=mu, sigma=sigma, n=n, share_treatment=share_treatment) for _ in tqdm_notebook(range(0, b))]\n",
    "sample_results = pd.DataFrame([get_difference_in_means(sample) for sample in tqdm_notebook(list_of_samples)])\n",
    "\n",
    "assert((sample_results['N'] == n).all())\n",
    "assert((sample_results['N_treatment'] == int(n * share_treatment)).all())"
   ]
  },
  {
   "cell_type": "code",
   "execution_count": 122,
   "metadata": {},
   "outputs": [
    {
     "name": "stdout",
     "output_type": "stream",
     "text": [
      "count    5000.000000\n",
      "mean        0.500370\n",
      "std         0.128181\n",
      "min         0.066013\n",
      "25%         0.415241\n",
      "50%         0.500440\n",
      "75%         0.585504\n",
      "max         0.967540\n",
      "Name: diff, dtype: float64\n"
     ]
    },
    {
     "data": {
      "image/png": "[encoded data removed]",
      "text/plain": [
       "<Figure size 432x288 with 1 Axes>"
      ]
     },
     "metadata": {},
     "output_type": "display_data"
    }
   ],
   "source": [
    "ax = sample_results['diff'].hist(bins=100, density=True)\n",
    "\n",
    "# Normal PDF assuming equally-sized treatment and control groups\n",
    "normal_pdf = partial(scipy.stats.norm.pdf, loc=0.5, scale=(sigma * np.sqrt((2/n) + 2/n)))\n",
    "grid_of_x_values = np.arange(-0.20, 1.2, 0.01)\n",
    "pdf = pd.DataFrame({'x': grid_of_x_values})\n",
    "pdf['fx'] = pdf['x'].apply(normal_pdf)\n",
    "pdf.plot(x='x', y='fx', ax=ax, linewidth=2, alpha=0.85, color='black', label=r'Theoretical density: 50/50 split')\n",
    "\n",
    "\n",
    "# Add a vertical marker line and labels\n",
    "# This time we will graph the mean of the probability distribution.\n",
    "ax.axvline(ATE, color='black', linestyle='--')\n",
    "ax.text(x=ATE, y=pdf['fx'].max()*0.05, s=r'$ATE$', fontsize=16)\n",
    "ax.set_xlabel('estimate', fontsize=16)\n",
    "ax.set_ylabel('Density', fontsize=16)\n",
    "ax.set_title(\"Simulating the sampling distribution of the mean\", fontsize=16)\n",
    "ax.legend(fontsize=10)\n",
    "ax.tick_params(labelsize=16)\n",
    "\n",
    "print(sample_results['diff'].describe())\n"
   ]
  },
  {
   "cell_type": "code",
   "execution_count": 140,
   "metadata": {},
   "outputs": [],
   "source": [
    "std = sample_results['diff'].std()"
   ]
  },
  {
   "cell_type": "code",
   "execution_count": 141,
   "metadata": {},
   "outputs": [
    {
     "name": "stdout",
     "output_type": "stream",
     "text": [
      "Probability( ATE > 0.7): 0.058\n",
      "Probability 2 std away from true ATE: 0.0496\n"
     ]
    }
   ],
   "source": [
    "print('Probability( ATE > 0.7):',len(sample_results[sample_results['diff'] > 0.7]) / len(sample_results['diff']))\n",
    "print('Probability 2 std away from true ATE:',len(sample_results[(sample_results['diff'] > (0.5 + 2*std)) | (sample_results['diff'] < (0.5 -2*std))])/len(sample_results))"
   ]
  },
  {
   "cell_type": "code",
   "execution_count": null,
   "metadata": {},
   "outputs": [],
   "source": [
    "sample_results[sample_results['diff'] > (0.5 + 2*std)]"
   ]
  },
  {
   "cell_type": "markdown",
   "metadata": {},
   "source": [
    "## 2)"
   ]
  },
  {
   "cell_type": "code",
   "execution_count": 104,
   "metadata": {},
   "outputs": [
    {
     "data": {
      "application/vnd.jupyter.widget-view+json": {
       "model_id": "fa421d52f364488b881d4acca4a81884",
       "version_major": 2,
       "version_minor": 0
      },
      "text/plain": [
       "HBox(children=(IntProgress(value=0, max=5000), HTML(value='')))"
      ]
     },
     "metadata": {},
     "output_type": "display_data"
    },
    {
     "data": {
      "application/vnd.jupyter.widget-view+json": {
       "model_id": "9dda4be7b5e042828650741fabd63275",
       "version_major": 2,
       "version_minor": 0
      },
      "text/plain": [
       "HBox(children=(IntProgress(value=0, max=5000), HTML(value='')))"
      ]
     },
     "metadata": {},
     "output_type": "display_data"
    }
   ],
   "source": [
    "mu = 1\n",
    "sigma = 2\n",
    "\n",
    "b = 5000  # Total number of *samples* to generate\n",
    "n = 1000  # The number of data points in each sample\n",
    "\n",
    "share_treatment = 0.2\n",
    "\n",
    "ATE = 0.5\n",
    "list_of_samples = [draw_one_sample_two_groups(ATE=ATE, mu=mu, sigma=sigma, n=n, share_treatment=share_treatment) for _ in tqdm_notebook(range(0, b))]\n",
    "sample_results = pd.DataFrame([get_difference_in_means(sample) for sample in tqdm_notebook(list_of_samples)])\n",
    "\n",
    "assert((sample_results['N'] == n).all())\n",
    "assert((sample_results['N_treatment'] == int(n * share_treatment)).all())"
   ]
  },
  {
   "cell_type": "code",
   "execution_count": 120,
   "metadata": {},
   "outputs": [
    {
     "name": "stdout",
     "output_type": "stream",
     "text": [
      "count    5000.000000\n",
      "mean        0.502288\n",
      "std         0.156147\n",
      "min        -0.078318\n",
      "25%         0.399252\n",
      "50%         0.504740\n",
      "75%         0.606095\n",
      "max         1.050902\n",
      "Name: diff, dtype: float64\n"
     ]
    },
    {
     "data": {
      "image/png": "[encoded data removed]",
      "text/plain": [
       "<Figure size 432x288 with 1 Axes>"
      ]
     },
     "metadata": {},
     "output_type": "display_data"
    }
   ],
   "source": [
    "ax = sample_results['diff'].hist(bins=100, density=True)\n",
    "\n",
    "# Normal PDF assuming unequally-sized treatment and control groups\n",
    "normal_pdf = partial(scipy.stats.norm.pdf, loc=0.5, scale=(sigma * np.sqrt((1/(0.2*n)) + 1/(0.8*n))))\n",
    "grid_of_x_values = np.arange(-0.20, 1.2, 0.01)\n",
    "pdf = pd.DataFrame({'x': grid_of_x_values})\n",
    "pdf['fx'] = pdf['x'].apply(normal_pdf)\n",
    "pdf.plot(x='x', y='fx', ax=ax, linewidth=2, alpha=0.85, color='black', label=r'Theoretical density: 20/80 split')\n",
    "\n",
    "\n",
    "# Add a vertical marker line and labels\n",
    "# This time we will graph the mean of the probability distribution.\n",
    "ax.axvline(ATE, color='black', linestyle='--')\n",
    "ax.text(x=ATE, y=pdf['fx'].max()*0.05, s=r'$ATE$', fontsize=16)\n",
    "ax.set_xlabel('estimate', fontsize=16)\n",
    "ax.set_ylabel('Density', fontsize=16)\n",
    "ax.set_title(\"Simulating the sampling distribution of the mean\", fontsize=16, color = 'white')\n",
    "ax.legend(fontsize=10)\n",
    "ax.tick_params(labelsize=16)\n",
    "\n",
    "print(sample_results['diff'].describe())\n"
   ]
  },
  {
   "cell_type": "code",
   "execution_count": 106,
   "metadata": {},
   "outputs": [
    {
     "data": {
      "text/plain": [
       "0.15614705845574503"
      ]
     },
     "execution_count": 106,
     "metadata": {},
     "output_type": "execute_result"
    }
   ],
   "source": [
    "sample_results['diff'].std()"
   ]
  },
  {
   "cell_type": "code",
   "execution_count": 119,
   "metadata": {},
   "outputs": [
    {
     "name": "stdout",
     "output_type": "stream",
     "text": [
      "Probability( ATE > 0.7): 0.1008\n"
     ]
    }
   ],
   "source": []
  },
  {
   "cell_type": "markdown",
   "metadata": {},
   "source": [
    "# ii)"
   ]
  },
  {
   "cell_type": "code",
   "execution_count": 93,
   "metadata": {},
   "outputs": [],
   "source": [
    "control_sample_mean = [i.groupby('d')['y'].mean()[0] for i in list_of_samples]\n",
    "control_sample_mean = pd.Series(control_sample_mean)\n",
    "treatment_sample_mean = [i.groupby('d')['y'].mean()[1] for i in list_of_samples]\n",
    "treatment_sample_mean = pd.Series(treatment_sample_mean)"
   ]
  },
  {
   "cell_type": "code",
   "execution_count": 103,
   "metadata": {},
   "outputs": [
    {
     "data": {
      "text/plain": [
       "<matplotlib.legend.Legend at 0x7ffc7aa5ce90>"
      ]
     },
     "execution_count": 103,
     "metadata": {},
     "output_type": "execute_result"
    },
    {
     "data": {
      "image/png": "[encoded data removed]",
      "text/plain": [
       "<Figure size 432x288 with 1 Axes>"
      ]
     },
     "metadata": {},
     "output_type": "display_data"
    }
   ],
   "source": [
    "ax = control_sample_mean.hist(bins = 100, density = True, label = 'control group')\n",
    "treatment_sample_mean.hist(bins = 100, density = True, ax= ax, label = 'Treatment group')\n",
    "ax.axvline(mu, color = 'black', linestyle = '--')\n",
    "ax.axvline(mu + ATE, color = 'black', linestyle = '--')\n",
    "ax.set_xlabel('estimate', fontsize=16)\n",
    "ax.set_ylabel('Density', fontsize=16)\n",
    "ax.set_title(\"Simulating the sampling distribution of the mean\", fontsize=16, color = 'white')\n",
    "ax.text(x=mu, y=6, s=r'$mu$', fontsize=16)\n",
    "ax.text(x=mu+ATE, y=4, s=r'$mu+ATE$', fontsize=16)\n",
    "ax.legend()"
   ]
  },
  {
   "cell_type": "markdown",
   "metadata": {},
   "source": [
    "# 2."
   ]
  },
  {
   "cell_type": "markdown",
   "metadata": {},
   "source": [
    "## 2)"
   ]
  },
  {
   "cell_type": "code",
   "execution_count": 146,
   "metadata": {},
   "outputs": [],
   "source": [
    "def get_difference_in_means_with_ttest(df, alpha):\n",
    "    # Calculate means by each group. Then take the difference and do a t-test.\n",
    "    means = df.groupby('d')['y'].mean()\n",
    "    diff = means.loc[1] - means.loc[0]\n",
    "\n",
    "    N = df.shape[0]\n",
    "    N_treatment = df['d'].sum()\n",
    "    ttest_results = get_ttest_analysis(df)\n",
    "    reject_null = (ttest_results['p'] < alpha).astype('float')\n",
    "    \n",
    "    return {\n",
    "        'N': N,\n",
    "        'N_treatment': N_treatment,\n",
    "        'mean_treatment': means.loc[1],\n",
    "        'mean_control': means.loc[0],\n",
    "        'diff': diff,\n",
    "        't': ttest_results['t'],\n",
    "        'p': ttest_results['p'],\n",
    "        'reject_null': reject_null\n",
    "    }\n",
    "\n",
    "def get_simulation_results(expectation_Y0, ATE, share_treatment, n, B, sigma, alpha):\n",
    "  params = dict(ATE=ATE, mu=expectation_Y0, n=n, share_treatment=share_treatment, sigma=sigma)\n",
    "  list_of_samples = [draw_one_sample_two_groups(**params) for _ in tqdm_notebook(range(0, B))]\n",
    "  simulations = pd.DataFrame([get_difference_in_means_with_ttest(sample, alpha) for sample in tqdm_notebook(list_of_samples)])\n",
    "  \n",
    "  # Return a summary of the simulations and the specified paramters.\n",
    "  return {\n",
    "      'diff_mean': simulations['diff'].mean(),\n",
    "      'diff_std': simulations['diff'].std(),\n",
    "      't_mean': simulations['t'].mean(),\n",
    "      't_std': simulations['t'].std(),\n",
    "      'alpha': alpha,\n",
    "      'p_reject': simulations['reject_null'].mean(),\n",
    "      'B': B,\n",
    "      'N': simulations['N'].mean(),\n",
    "      'N_treatment': simulations['N_treatment'].mean(),\n",
    "      'share_treatment': share_treatment,\n",
    "      'expectation_Y0': expectation_Y0,\n",
    "      'sigma': sigma,\n",
    "      'ATE': ATE\n",
    "  }\n",
    "\n",
    "def get_ttest_analysis(df):    \n",
    "    # A slower way to do this:\n",
    "    treatment_group =  (df['d'] == 1)\n",
    "    #diff = df.loc[treatment_group, 'y'].mean() - df.loc[~treatment_group, 'y'].mean()\n",
    "    results = scipy.stats.ttest_ind(\n",
    "        df.loc[treatment_group, 'y'], \n",
    "        df.loc[~treatment_group, 'y'])\n",
    "    return {'t': results.statistic, 'p': results.pvalue}"
   ]
  },
  {
   "cell_type": "code",
   "execution_count": 147,
   "metadata": {},
   "outputs": [
    {
     "data": {
      "application/vnd.jupyter.widget-view+json": {
       "model_id": "7c15588388be404fb3a5edae5f1e4111",
       "version_major": 2,
       "version_minor": 0
      },
      "text/plain": [
       "HBox(children=(IntProgress(value=0, max=5000), HTML(value='')))"
      ]
     },
     "metadata": {},
     "output_type": "display_data"
    },
    {
     "data": {
      "application/vnd.jupyter.widget-view+json": {
       "model_id": "3ea62417947c4f5b931a89f9969a5edf",
       "version_major": 2,
       "version_minor": 0
      },
      "text/plain": [
       "HBox(children=(IntProgress(value=0, max=5000), HTML(value='')))"
      ]
     },
     "metadata": {},
     "output_type": "display_data"
    },
    {
     "data": {
      "application/vnd.jupyter.widget-view+json": {
       "model_id": "365450d877074a14b1b14e274cd1bd40",
       "version_major": 2,
       "version_minor": 0
      },
      "text/plain": [
       "HBox(children=(IntProgress(value=0, max=5000), HTML(value='')))"
      ]
     },
     "metadata": {},
     "output_type": "display_data"
    },
    {
     "data": {
      "application/vnd.jupyter.widget-view+json": {
       "model_id": "17f84a29942c4810ba70eaa091db6e6f",
       "version_major": 2,
       "version_minor": 0
      },
      "text/plain": [
       "HBox(children=(IntProgress(value=0, max=5000), HTML(value='')))"
      ]
     },
     "metadata": {},
     "output_type": "display_data"
    },
    {
     "data": {
      "application/vnd.jupyter.widget-view+json": {
       "model_id": "58bff04e77874f2586ed9dd104290b07",
       "version_major": 2,
       "version_minor": 0
      },
      "text/plain": [
       "HBox(children=(IntProgress(value=0, max=5000), HTML(value='')))"
      ]
     },
     "metadata": {},
     "output_type": "display_data"
    },
    {
     "data": {
      "application/vnd.jupyter.widget-view+json": {
       "model_id": "d3c2119f238a4ca89e673ae0b27a0eaf",
       "version_major": 2,
       "version_minor": 0
      },
      "text/plain": [
       "HBox(children=(IntProgress(value=0, max=5000), HTML(value='')))"
      ]
     },
     "metadata": {},
     "output_type": "display_data"
    },
    {
     "data": {
      "application/vnd.jupyter.widget-view+json": {
       "model_id": "3d1c697a6ce542e69eb7ee1d82314db9",
       "version_major": 2,
       "version_minor": 0
      },
      "text/plain": [
       "HBox(children=(IntProgress(value=0, max=5000), HTML(value='')))"
      ]
     },
     "metadata": {},
     "output_type": "display_data"
    },
    {
     "data": {
      "application/vnd.jupyter.widget-view+json": {
       "model_id": "5ac73237a4e54d928143079c7077725a",
       "version_major": 2,
       "version_minor": 0
      },
      "text/plain": [
       "HBox(children=(IntProgress(value=0, max=5000), HTML(value='')))"
      ]
     },
     "metadata": {},
     "output_type": "display_data"
    },
    {
     "data": {
      "application/vnd.jupyter.widget-view+json": {
       "model_id": "515d70ec9cbb440a8ef3ea6efe696247",
       "version_major": 2,
       "version_minor": 0
      },
      "text/plain": [
       "HBox(children=(IntProgress(value=0, max=5000), HTML(value='')))"
      ]
     },
     "metadata": {},
     "output_type": "display_data"
    },
    {
     "data": {
      "application/vnd.jupyter.widget-view+json": {
       "model_id": "29da01bc669f44869438ad8b3b8592f6",
       "version_major": 2,
       "version_minor": 0
      },
      "text/plain": [
       "HBox(children=(IntProgress(value=0, max=5000), HTML(value='')))"
      ]
     },
     "metadata": {},
     "output_type": "display_data"
    }
   ],
   "source": [
    "# Simulation results over a grid of parameter values\n",
    "B = 5000\n",
    "ATE = 0.0\n",
    "parameter_grid = [\n",
    "    dict(B = B, n = 1000, expectation_Y0 = 3, ATE = ATE, share_treatment = 0.10, sigma = 1, alpha = 0.05),\n",
    "    dict(B = B, n = 1000, expectation_Y0 = 3, ATE = ATE, share_treatment = 0.25, sigma = 1, alpha = 0.05),\n",
    "    dict(B = B, n = 1000, expectation_Y0 = 3, ATE = ATE, share_treatment = 0.50, sigma = 1, alpha = 0.05),\n",
    "    dict(B = B, n = 1000, expectation_Y0 = 3, ATE = ATE, share_treatment = 0.75, sigma = 1, alpha = 0.05),\n",
    "    dict(B = B, n = 1000, expectation_Y0 = 3, ATE = ATE, share_treatment = 0.90, sigma = 1, alpha = 0.05),\n",
    "]\n",
    "\n",
    "simulation_results =  pd.DataFrame([get_simulation_results(**params) for params in parameter_grid])\n",
    "\n",
    "# We can also test that the simulations worked as expected.\n",
    "# For example:\n",
    "assert((simulation_results['share_treatment'] == simulation_results.eval(\"N_treatment / N\")).all())"
   ]
  },
  {
   "cell_type": "code",
   "execution_count": 148,
   "metadata": {},
   "outputs": [
    {
     "data": {
      "text/html": [
       "<div>\n",
       "<style scoped>\n",
       "    .dataframe tbody tr th:only-of-type {\n",
       "        vertical-align: middle;\n",
       "    }\n",
       "\n",
       "    .dataframe tbody tr th {\n",
       "        vertical-align: top;\n",
       "    }\n",
       "\n",
       "    .dataframe thead th {\n",
       "        text-align: right;\n",
       "    }\n",
       "</style>\n",
       "<table border=\"1\" class=\"dataframe\">\n",
       "  <thead>\n",
       "    <tr style=\"text-align: right;\">\n",
       "      <th></th>\n",
       "      <th>diff_mean</th>\n",
       "      <th>diff_std</th>\n",
       "      <th>t_mean</th>\n",
       "      <th>t_std</th>\n",
       "      <th>alpha</th>\n",
       "      <th>p_reject</th>\n",
       "      <th>B</th>\n",
       "      <th>N</th>\n",
       "      <th>N_treatment</th>\n",
       "      <th>share_treatment</th>\n",
       "      <th>expectation_Y0</th>\n",
       "      <th>sigma</th>\n",
       "      <th>ATE</th>\n",
       "    </tr>\n",
       "  </thead>\n",
       "  <tbody>\n",
       "    <tr>\n",
       "      <th>0</th>\n",
       "      <td>-0.002376</td>\n",
       "      <td>0.104162</td>\n",
       "      <td>-0.022893</td>\n",
       "      <td>0.988910</td>\n",
       "      <td>0.05</td>\n",
       "      <td>0.0448</td>\n",
       "      <td>5000</td>\n",
       "      <td>1000.0</td>\n",
       "      <td>100.0</td>\n",
       "      <td>0.10</td>\n",
       "      <td>3</td>\n",
       "      <td>1</td>\n",
       "      <td>0.0</td>\n",
       "    </tr>\n",
       "    <tr>\n",
       "      <th>1</th>\n",
       "      <td>0.001047</td>\n",
       "      <td>0.073026</td>\n",
       "      <td>0.013998</td>\n",
       "      <td>1.001174</td>\n",
       "      <td>0.05</td>\n",
       "      <td>0.0480</td>\n",
       "      <td>5000</td>\n",
       "      <td>1000.0</td>\n",
       "      <td>250.0</td>\n",
       "      <td>0.25</td>\n",
       "      <td>3</td>\n",
       "      <td>1</td>\n",
       "      <td>0.0</td>\n",
       "    </tr>\n",
       "    <tr>\n",
       "      <th>2</th>\n",
       "      <td>-0.000546</td>\n",
       "      <td>0.062983</td>\n",
       "      <td>-0.008386</td>\n",
       "      <td>0.997150</td>\n",
       "      <td>0.05</td>\n",
       "      <td>0.0492</td>\n",
       "      <td>5000</td>\n",
       "      <td>1000.0</td>\n",
       "      <td>500.0</td>\n",
       "      <td>0.50</td>\n",
       "      <td>3</td>\n",
       "      <td>1</td>\n",
       "      <td>0.0</td>\n",
       "    </tr>\n",
       "    <tr>\n",
       "      <th>3</th>\n",
       "      <td>-0.000269</td>\n",
       "      <td>0.072756</td>\n",
       "      <td>-0.003446</td>\n",
       "      <td>0.997711</td>\n",
       "      <td>0.05</td>\n",
       "      <td>0.0510</td>\n",
       "      <td>5000</td>\n",
       "      <td>1000.0</td>\n",
       "      <td>750.0</td>\n",
       "      <td>0.75</td>\n",
       "      <td>3</td>\n",
       "      <td>1</td>\n",
       "      <td>0.0</td>\n",
       "    </tr>\n",
       "    <tr>\n",
       "      <th>4</th>\n",
       "      <td>0.001103</td>\n",
       "      <td>0.106948</td>\n",
       "      <td>0.010008</td>\n",
       "      <td>1.016032</td>\n",
       "      <td>0.05</td>\n",
       "      <td>0.0542</td>\n",
       "      <td>5000</td>\n",
       "      <td>1000.0</td>\n",
       "      <td>900.0</td>\n",
       "      <td>0.90</td>\n",
       "      <td>3</td>\n",
       "      <td>1</td>\n",
       "      <td>0.0</td>\n",
       "    </tr>\n",
       "  </tbody>\n",
       "</table>\n",
       "</div>"
      ],
      "text/plain": [
       "   diff_mean  diff_std    t_mean     t_std  alpha  p_reject     B       N  \\\n",
       "0  -0.002376  0.104162 -0.022893  0.988910   0.05    0.0448  5000  1000.0   \n",
       "1   0.001047  0.073026  0.013998  1.001174   0.05    0.0480  5000  1000.0   \n",
       "2  -0.000546  0.062983 -0.008386  0.997150   0.05    0.0492  5000  1000.0   \n",
       "3  -0.000269  0.072756 -0.003446  0.997711   0.05    0.0510  5000  1000.0   \n",
       "4   0.001103  0.106948  0.010008  1.016032   0.05    0.0542  5000  1000.0   \n",
       "\n",
       "   N_treatment  share_treatment  expectation_Y0  sigma  ATE  \n",
       "0        100.0             0.10               3      1  0.0  \n",
       "1        250.0             0.25               3      1  0.0  \n",
       "2        500.0             0.50               3      1  0.0  \n",
       "3        750.0             0.75               3      1  0.0  \n",
       "4        900.0             0.90               3      1  0.0  "
      ]
     },
     "execution_count": 148,
     "metadata": {},
     "output_type": "execute_result"
    }
   ],
   "source": [
    "\n",
    "simulation_results"
   ]
  },
  {
   "cell_type": "code",
   "execution_count": 265,
   "metadata": {},
   "outputs": [],
   "source": [
    "def dist_plot(mu,sigma,label):\n",
    "    x = np.linspace(mu - 3*sigma, mu + 3*sigma, 100)\n",
    "    ax = plt.gca()\n",
    "    ax.plot(x, scipy.stats.norm.pdf(x, mu, sigma),label = label)\n",
    "    ax.legend()"
   ]
  },
  {
   "cell_type": "code",
   "execution_count": 266,
   "metadata": {},
   "outputs": [
    {
     "data": {
      "text/plain": [
       "[None, None, None, None, None]"
      ]
     },
     "execution_count": 266,
     "metadata": {},
     "output_type": "execute_result"
    },
    {
     "data": {
      "image/png": "[encoded data removed]",
      "text/plain": [
       "<Figure size 432x288 with 1 Axes>"
      ]
     },
     "metadata": {},
     "output_type": "display_data"
    }
   ],
   "source": [
    "[dist_plot(simulation_results['diff_mean'].loc[i],simulation_results['diff_std'].loc[i], simulation_results['share_treatment'].loc[i]) for i in range(0,5)]"
   ]
  },
  {
   "cell_type": "code",
   "execution_count": 267,
   "metadata": {},
   "outputs": [
    {
     "data": {
      "text/plain": [
       "[None, None, None, None, None]"
      ]
     },
     "execution_count": 267,
     "metadata": {},
     "output_type": "execute_result"
    },
    {
     "data": {
      "image/png": "[encoded data removed]",
      "text/plain": [
       "<Figure size 432x288 with 1 Axes>"
      ]
     },
     "metadata": {},
     "output_type": "display_data"
    }
   ],
   "source": [
    "[dist_plot(simulation_results['t_mean'].loc[i],simulation_results['t_std'].loc[i], simulation_results['share_treatment'].loc[i]) for i in range(0,5)]"
   ]
  },
  {
   "cell_type": "code",
   "execution_count": 272,
   "metadata": {},
   "outputs": [
    {
     "data": {
      "text/plain": [
       "Text(0.5, 1.0, 'share_treatment Vs.p_reject')"
      ]
     },
     "execution_count": 272,
     "metadata": {},
     "output_type": "execute_result"
    },
    {
     "data": {
      "image/png": "[encoded data removed]",
      "text/plain": [
       "<Figure size 432x288 with 1 Axes>"
      ]
     },
     "metadata": {},
     "output_type": "display_data"
    }
   ],
   "source": [
    "plt.plot(simulation_results['share_treatment'],simulation_results['p_reject'])\n",
    "plt.title(\"share_treatment Vs.p_reject\", color ='white')"
   ]
  },
  {
   "cell_type": "markdown",
   "metadata": {},
   "source": [
    "## 3)"
   ]
  },
  {
   "cell_type": "code",
   "execution_count": 273,
   "metadata": {},
   "outputs": [
    {
     "data": {
      "application/vnd.jupyter.widget-view+json": {
       "model_id": "b96f0c6dc9704aff9e7a6b5ea0850b64",
       "version_major": 2,
       "version_minor": 0
      },
      "text/plain": [
       "HBox(children=(IntProgress(value=0, max=5000), HTML(value='')))"
      ]
     },
     "metadata": {},
     "output_type": "display_data"
    },
    {
     "data": {
      "application/vnd.jupyter.widget-view+json": {
       "model_id": "b7a7c1d43b4b41f6bb38511205d53806",
       "version_major": 2,
       "version_minor": 0
      },
      "text/plain": [
       "HBox(children=(IntProgress(value=0, max=5000), HTML(value='')))"
      ]
     },
     "metadata": {},
     "output_type": "display_data"
    },
    {
     "data": {
      "application/vnd.jupyter.widget-view+json": {
       "model_id": "093c02bedc214edd98ed478b97027a69",
       "version_major": 2,
       "version_minor": 0
      },
      "text/plain": [
       "HBox(children=(IntProgress(value=0, max=5000), HTML(value='')))"
      ]
     },
     "metadata": {},
     "output_type": "display_data"
    },
    {
     "data": {
      "application/vnd.jupyter.widget-view+json": {
       "model_id": "1f5c7520ccde460ca781816555f7ba3a",
       "version_major": 2,
       "version_minor": 0
      },
      "text/plain": [
       "HBox(children=(IntProgress(value=0, max=5000), HTML(value='')))"
      ]
     },
     "metadata": {},
     "output_type": "display_data"
    },
    {
     "data": {
      "application/vnd.jupyter.widget-view+json": {
       "model_id": "ac0de943c0f44232a564319a33dbef7d",
       "version_major": 2,
       "version_minor": 0
      },
      "text/plain": [
       "HBox(children=(IntProgress(value=0, max=5000), HTML(value='')))"
      ]
     },
     "metadata": {},
     "output_type": "display_data"
    },
    {
     "data": {
      "application/vnd.jupyter.widget-view+json": {
       "model_id": "4976474abb18488a8c42404e05be5ae1",
       "version_major": 2,
       "version_minor": 0
      },
      "text/plain": [
       "HBox(children=(IntProgress(value=0, max=5000), HTML(value='')))"
      ]
     },
     "metadata": {},
     "output_type": "display_data"
    }
   ],
   "source": [
    "# Simulation results over a grid of parameter values\n",
    "B = 5000\n",
    "ATE = 0.0\n",
    "parameter_grid = [\n",
    "    dict(B = B, n = 100, expectation_Y0 = 3, ATE = ATE, share_treatment = 0.50, sigma = 1, alpha = 0.05),\n",
    "    dict(B = B, n = 1000, expectation_Y0 = 3, ATE = ATE, share_treatment = 0.50, sigma = 1, alpha = 0.05),\n",
    "    dict(B = B, n = 10000, expectation_Y0 = 3, ATE = ATE, share_treatment = 0.50, sigma = 1, alpha = 0.05)\n",
    "]\n",
    "\n",
    "simulation_results =  pd.DataFrame([get_simulation_results(**params) for params in parameter_grid])\n",
    "\n",
    "# We can also test that the simulations worked as expected.\n",
    "# For example:\n",
    "assert((simulation_results['share_treatment'] == simulation_results.eval(\"N_treatment / N\")).all())"
   ]
  },
  {
   "cell_type": "code",
   "execution_count": 285,
   "metadata": {},
   "outputs": [
    {
     "data": {
      "text/html": [
       "<div>\n",
       "<style scoped>\n",
       "    .dataframe tbody tr th:only-of-type {\n",
       "        vertical-align: middle;\n",
       "    }\n",
       "\n",
       "    .dataframe tbody tr th {\n",
       "        vertical-align: top;\n",
       "    }\n",
       "\n",
       "    .dataframe thead th {\n",
       "        text-align: right;\n",
       "    }\n",
       "</style>\n",
       "<table border=\"1\" class=\"dataframe\">\n",
       "  <thead>\n",
       "    <tr style=\"text-align: right;\">\n",
       "      <th></th>\n",
       "      <th>diff_mean</th>\n",
       "      <th>diff_std</th>\n",
       "      <th>t_mean</th>\n",
       "      <th>t_std</th>\n",
       "      <th>alpha</th>\n",
       "      <th>p_reject</th>\n",
       "      <th>B</th>\n",
       "      <th>N</th>\n",
       "      <th>N_treatment</th>\n",
       "      <th>share_treatment</th>\n",
       "      <th>expectation_Y0</th>\n",
       "      <th>sigma</th>\n",
       "      <th>ATE</th>\n",
       "    </tr>\n",
       "  </thead>\n",
       "  <tbody>\n",
       "    <tr>\n",
       "      <th>0</th>\n",
       "      <td>-0.000677</td>\n",
       "      <td>0.201722</td>\n",
       "      <td>-0.003007</td>\n",
       "      <td>1.017609</td>\n",
       "      <td>0.05</td>\n",
       "      <td>0.0510</td>\n",
       "      <td>5000</td>\n",
       "      <td>100.0</td>\n",
       "      <td>50.0</td>\n",
       "      <td>0.5</td>\n",
       "      <td>3</td>\n",
       "      <td>1</td>\n",
       "      <td>0.0</td>\n",
       "    </tr>\n",
       "    <tr>\n",
       "      <th>1</th>\n",
       "      <td>0.000614</td>\n",
       "      <td>0.065166</td>\n",
       "      <td>0.010003</td>\n",
       "      <td>1.032119</td>\n",
       "      <td>0.05</td>\n",
       "      <td>0.0616</td>\n",
       "      <td>5000</td>\n",
       "      <td>1000.0</td>\n",
       "      <td>500.0</td>\n",
       "      <td>0.5</td>\n",
       "      <td>3</td>\n",
       "      <td>1</td>\n",
       "      <td>0.0</td>\n",
       "    </tr>\n",
       "    <tr>\n",
       "      <th>2</th>\n",
       "      <td>-0.000456</td>\n",
       "      <td>0.019842</td>\n",
       "      <td>-0.022869</td>\n",
       "      <td>0.992018</td>\n",
       "      <td>0.05</td>\n",
       "      <td>0.0474</td>\n",
       "      <td>5000</td>\n",
       "      <td>10000.0</td>\n",
       "      <td>5000.0</td>\n",
       "      <td>0.5</td>\n",
       "      <td>3</td>\n",
       "      <td>1</td>\n",
       "      <td>0.0</td>\n",
       "    </tr>\n",
       "  </tbody>\n",
       "</table>\n",
       "</div>"
      ],
      "text/plain": [
       "   diff_mean  diff_std    t_mean     t_std  alpha  p_reject     B        N  \\\n",
       "0  -0.000677  0.201722 -0.003007  1.017609   0.05    0.0510  5000    100.0   \n",
       "1   0.000614  0.065166  0.010003  1.032119   0.05    0.0616  5000   1000.0   \n",
       "2  -0.000456  0.019842 -0.022869  0.992018   0.05    0.0474  5000  10000.0   \n",
       "\n",
       "   N_treatment  share_treatment  expectation_Y0  sigma  ATE  \n",
       "0         50.0              0.5               3      1  0.0  \n",
       "1        500.0              0.5               3      1  0.0  \n",
       "2       5000.0              0.5               3      1  0.0  "
      ]
     },
     "execution_count": 285,
     "metadata": {},
     "output_type": "execute_result"
    }
   ],
   "source": [
    "simulation_results"
   ]
  },
  {
   "cell_type": "code",
   "execution_count": 282,
   "metadata": {},
   "outputs": [
    {
     "data": {
      "text/plain": [
       "Text(0.5, 1.0, 'Distribution of diff')"
      ]
     },
     "execution_count": 282,
     "metadata": {},
     "output_type": "execute_result"
    },
    {
     "data": {
      "image/png": "[encoded data removed]",
      "text/plain": [
       "<Figure size 432x288 with 1 Axes>"
      ]
     },
     "metadata": {},
     "output_type": "display_data"
    }
   ],
   "source": [
    "[dist_plot(simulation_results['diff_mean'].loc[i],simulation_results['diff_std'].loc[i], simulation_results['N'].loc[i]) for i in range(0,len(parameter_grid))]\n",
    "plt.gca().set_title(\"Distribution of diff\",color = 'white')"
   ]
  },
  {
   "cell_type": "code",
   "execution_count": 283,
   "metadata": {},
   "outputs": [
    {
     "data": {
      "text/plain": [
       "Text(0.5, 1.0, 'Distribution of t')"
      ]
     },
     "execution_count": 283,
     "metadata": {},
     "output_type": "execute_result"
    },
    {
     "data": {
      "image/png": "[encoded data removed]",
      "text/plain": [
       "<Figure size 432x288 with 1 Axes>"
      ]
     },
     "metadata": {},
     "output_type": "display_data"
    }
   ],
   "source": [
    "[dist_plot(simulation_results['t_mean'].loc[i],simulation_results['t_std'].loc[i], simulation_results['N'].loc[i]) for i in range(0,len(parameter_grid))]\n",
    "plt.gca().set_title(\"Distribution of t\",color = 'white')"
   ]
  },
  {
   "cell_type": "code",
   "execution_count": 284,
   "metadata": {},
   "outputs": [
    {
     "data": {
      "text/plain": [
       "Text(0.5, 1.0, 'N Vs.p_reject')"
      ]
     },
     "execution_count": 284,
     "metadata": {},
     "output_type": "execute_result"
    },
    {
     "data": {
      "image/png": "[encoded data removed]",
      "text/plain": [
       "<Figure size 432x288 with 1 Axes>"
      ]
     },
     "metadata": {},
     "output_type": "display_data"
    }
   ],
   "source": [
    "plt.plot(simulation_results['N'],simulation_results['p_reject'])\n",
    "plt.title(\"N Vs.p_reject\", color ='white')"
   ]
  },
  {
   "cell_type": "markdown",
   "metadata": {},
   "source": [
    "## 4)"
   ]
  },
  {
   "cell_type": "code",
   "execution_count": 286,
   "metadata": {},
   "outputs": [
    {
     "data": {
      "application/vnd.jupyter.widget-view+json": {
       "model_id": "756faab57eb74ce1bfdc9333f88e9018",
       "version_major": 2,
       "version_minor": 0
      },
      "text/plain": [
       "HBox(children=(IntProgress(value=0, max=5000), HTML(value='')))"
      ]
     },
     "metadata": {},
     "output_type": "display_data"
    },
    {
     "data": {
      "application/vnd.jupyter.widget-view+json": {
       "model_id": "7d0a27f9d11b41e6854987aea34422cc",
       "version_major": 2,
       "version_minor": 0
      },
      "text/plain": [
       "HBox(children=(IntProgress(value=0, max=5000), HTML(value='')))"
      ]
     },
     "metadata": {},
     "output_type": "display_data"
    }
   ],
   "source": [
    "B = 5000\n",
    "ATE = 0.0\n",
    "parameter_grid = [\n",
    "    dict(B = B, n = 1000, expectation_Y0 = 10, ATE = ATE, share_treatment = 0.50, sigma = 20, alpha = 0.05)\n",
    "]\n",
    "\n",
    "simulation_results =  pd.DataFrame([get_simulation_results(**params) for params in parameter_grid])\n",
    "\n",
    "# We can also test that the simulations worked as expected.\n",
    "# For example:\n",
    "assert((simulation_results['share_treatment'] == simulation_results.eval(\"N_treatment / N\")).all())"
   ]
  },
  {
   "cell_type": "code",
   "execution_count": 287,
   "metadata": {},
   "outputs": [
    {
     "data": {
      "text/html": [
       "<div>\n",
       "<style scoped>\n",
       "    .dataframe tbody tr th:only-of-type {\n",
       "        vertical-align: middle;\n",
       "    }\n",
       "\n",
       "    .dataframe tbody tr th {\n",
       "        vertical-align: top;\n",
       "    }\n",
       "\n",
       "    .dataframe thead th {\n",
       "        text-align: right;\n",
       "    }\n",
       "</style>\n",
       "<table border=\"1\" class=\"dataframe\">\n",
       "  <thead>\n",
       "    <tr style=\"text-align: right;\">\n",
       "      <th></th>\n",
       "      <th>diff_mean</th>\n",
       "      <th>diff_std</th>\n",
       "      <th>t_mean</th>\n",
       "      <th>t_std</th>\n",
       "      <th>alpha</th>\n",
       "      <th>p_reject</th>\n",
       "      <th>B</th>\n",
       "      <th>N</th>\n",
       "      <th>N_treatment</th>\n",
       "      <th>share_treatment</th>\n",
       "      <th>expectation_Y0</th>\n",
       "      <th>sigma</th>\n",
       "      <th>ATE</th>\n",
       "    </tr>\n",
       "  </thead>\n",
       "  <tbody>\n",
       "    <tr>\n",
       "      <th>0</th>\n",
       "      <td>0.011378</td>\n",
       "      <td>1.260418</td>\n",
       "      <td>0.009133</td>\n",
       "      <td>0.996432</td>\n",
       "      <td>0.05</td>\n",
       "      <td>0.0458</td>\n",
       "      <td>5000</td>\n",
       "      <td>1000.0</td>\n",
       "      <td>500.0</td>\n",
       "      <td>0.5</td>\n",
       "      <td>10</td>\n",
       "      <td>20</td>\n",
       "      <td>0.0</td>\n",
       "    </tr>\n",
       "  </tbody>\n",
       "</table>\n",
       "</div>"
      ],
      "text/plain": [
       "   diff_mean  diff_std    t_mean     t_std  alpha  p_reject     B       N  \\\n",
       "0   0.011378  1.260418  0.009133  0.996432   0.05    0.0458  5000  1000.0   \n",
       "\n",
       "   N_treatment  share_treatment  expectation_Y0  sigma  ATE  \n",
       "0        500.0              0.5              10     20  0.0  "
      ]
     },
     "execution_count": 287,
     "metadata": {},
     "output_type": "execute_result"
    }
   ],
   "source": [
    "simulation_results"
   ]
  },
  {
   "cell_type": "markdown",
   "metadata": {},
   "source": [
    "## 5)"
   ]
  },
  {
   "cell_type": "code",
   "execution_count": 288,
   "metadata": {},
   "outputs": [
    {
     "data": {
      "application/vnd.jupyter.widget-view+json": {
       "model_id": "e3fca794ba204d1f8bcbaad03c2231ed",
       "version_major": 2,
       "version_minor": 0
      },
      "text/plain": [
       "HBox(children=(IntProgress(value=0, max=5000), HTML(value='')))"
      ]
     },
     "metadata": {},
     "output_type": "display_data"
    },
    {
     "data": {
      "application/vnd.jupyter.widget-view+json": {
       "model_id": "f9333ee840004efe9d10889587dc7a59",
       "version_major": 2,
       "version_minor": 0
      },
      "text/plain": [
       "HBox(children=(IntProgress(value=0, max=5000), HTML(value='')))"
      ]
     },
     "metadata": {},
     "output_type": "display_data"
    },
    {
     "data": {
      "application/vnd.jupyter.widget-view+json": {
       "model_id": "2b21c1641e79414e841c713f21192daf",
       "version_major": 2,
       "version_minor": 0
      },
      "text/plain": [
       "HBox(children=(IntProgress(value=0, max=5000), HTML(value='')))"
      ]
     },
     "metadata": {},
     "output_type": "display_data"
    },
    {
     "data": {
      "application/vnd.jupyter.widget-view+json": {
       "model_id": "6fe2723936584e5fb4f3cb9b80f6d728",
       "version_major": 2,
       "version_minor": 0
      },
      "text/plain": [
       "HBox(children=(IntProgress(value=0, max=5000), HTML(value='')))"
      ]
     },
     "metadata": {},
     "output_type": "display_data"
    },
    {
     "data": {
      "application/vnd.jupyter.widget-view+json": {
       "model_id": "b95dfd753425496ebb3c1753dcbf25e7",
       "version_major": 2,
       "version_minor": 0
      },
      "text/plain": [
       "HBox(children=(IntProgress(value=0, max=5000), HTML(value='')))"
      ]
     },
     "metadata": {},
     "output_type": "display_data"
    },
    {
     "data": {
      "application/vnd.jupyter.widget-view+json": {
       "model_id": "a5c8c599d9b84772b4b0a4f5a72ee933",
       "version_major": 2,
       "version_minor": 0
      },
      "text/plain": [
       "HBox(children=(IntProgress(value=0, max=5000), HTML(value='')))"
      ]
     },
     "metadata": {},
     "output_type": "display_data"
    }
   ],
   "source": [
    "# Simulation results over a grid of parameter values\n",
    "B = 5000\n",
    "ATE = 0.0\n",
    "parameter_grid = [\n",
    "    dict(B = B, n = 100, expectation_Y0 = 3, ATE = ATE, share_treatment = 0.50, sigma = 1, alpha = 0.1),\n",
    "    dict(B = B, n = 1000, expectation_Y0 = 3, ATE = ATE, share_treatment = 0.50, sigma = 1, alpha = 0.1),\n",
    "    dict(B = B, n = 10000, expectation_Y0 = 3, ATE = ATE, share_treatment = 0.50, sigma = 1, alpha = 0.1)\n",
    "]\n",
    "\n",
    "simulation_results =  pd.DataFrame([get_simulation_results(**params) for params in parameter_grid])\n",
    "\n",
    "# We can also test that the simulations worked as expected.\n",
    "# For example:\n",
    "assert((simulation_results['share_treatment'] == simulation_results.eval(\"N_treatment / N\")).all())"
   ]
  },
  {
   "cell_type": "code",
   "execution_count": 289,
   "metadata": {},
   "outputs": [
    {
     "data": {
      "text/html": [
       "<div>\n",
       "<style scoped>\n",
       "    .dataframe tbody tr th:only-of-type {\n",
       "        vertical-align: middle;\n",
       "    }\n",
       "\n",
       "    .dataframe tbody tr th {\n",
       "        vertical-align: top;\n",
       "    }\n",
       "\n",
       "    .dataframe thead th {\n",
       "        text-align: right;\n",
       "    }\n",
       "</style>\n",
       "<table border=\"1\" class=\"dataframe\">\n",
       "  <thead>\n",
       "    <tr style=\"text-align: right;\">\n",
       "      <th></th>\n",
       "      <th>diff_mean</th>\n",
       "      <th>diff_std</th>\n",
       "      <th>t_mean</th>\n",
       "      <th>t_std</th>\n",
       "      <th>alpha</th>\n",
       "      <th>p_reject</th>\n",
       "      <th>B</th>\n",
       "      <th>N</th>\n",
       "      <th>N_treatment</th>\n",
       "      <th>share_treatment</th>\n",
       "      <th>expectation_Y0</th>\n",
       "      <th>sigma</th>\n",
       "      <th>ATE</th>\n",
       "    </tr>\n",
       "  </thead>\n",
       "  <tbody>\n",
       "    <tr>\n",
       "      <th>0</th>\n",
       "      <td>0.004392</td>\n",
       "      <td>0.201687</td>\n",
       "      <td>0.022298</td>\n",
       "      <td>1.019268</td>\n",
       "      <td>0.1</td>\n",
       "      <td>0.1004</td>\n",
       "      <td>5000</td>\n",
       "      <td>100.0</td>\n",
       "      <td>50.0</td>\n",
       "      <td>0.5</td>\n",
       "      <td>3</td>\n",
       "      <td>1</td>\n",
       "      <td>0.0</td>\n",
       "    </tr>\n",
       "    <tr>\n",
       "      <th>1</th>\n",
       "      <td>0.001614</td>\n",
       "      <td>0.062770</td>\n",
       "      <td>0.024996</td>\n",
       "      <td>0.993008</td>\n",
       "      <td>0.1</td>\n",
       "      <td>0.0952</td>\n",
       "      <td>5000</td>\n",
       "      <td>1000.0</td>\n",
       "      <td>500.0</td>\n",
       "      <td>0.5</td>\n",
       "      <td>3</td>\n",
       "      <td>1</td>\n",
       "      <td>0.0</td>\n",
       "    </tr>\n",
       "    <tr>\n",
       "      <th>2</th>\n",
       "      <td>-0.000051</td>\n",
       "      <td>0.019967</td>\n",
       "      <td>-0.002634</td>\n",
       "      <td>0.998443</td>\n",
       "      <td>0.1</td>\n",
       "      <td>0.1008</td>\n",
       "      <td>5000</td>\n",
       "      <td>10000.0</td>\n",
       "      <td>5000.0</td>\n",
       "      <td>0.5</td>\n",
       "      <td>3</td>\n",
       "      <td>1</td>\n",
       "      <td>0.0</td>\n",
       "    </tr>\n",
       "  </tbody>\n",
       "</table>\n",
       "</div>"
      ],
      "text/plain": [
       "   diff_mean  diff_std    t_mean     t_std  alpha  p_reject     B        N  \\\n",
       "0   0.004392  0.201687  0.022298  1.019268    0.1    0.1004  5000    100.0   \n",
       "1   0.001614  0.062770  0.024996  0.993008    0.1    0.0952  5000   1000.0   \n",
       "2  -0.000051  0.019967 -0.002634  0.998443    0.1    0.1008  5000  10000.0   \n",
       "\n",
       "   N_treatment  share_treatment  expectation_Y0  sigma  ATE  \n",
       "0         50.0              0.5               3      1  0.0  \n",
       "1        500.0              0.5               3      1  0.0  \n",
       "2       5000.0              0.5               3      1  0.0  "
      ]
     },
     "execution_count": 289,
     "metadata": {},
     "output_type": "execute_result"
    }
   ],
   "source": [
    "simulation_results"
   ]
  },
  {
   "cell_type": "markdown",
   "metadata": {},
   "source": [
    "## 6)\n"
   ]
  },
  {
   "cell_type": "code",
   "execution_count": 290,
   "metadata": {},
   "outputs": [
    {
     "data": {
      "application/vnd.jupyter.widget-view+json": {
       "model_id": "6290fab781b24b189eaec9691798cc02",
       "version_major": 2,
       "version_minor": 0
      },
      "text/plain": [
       "HBox(children=(IntProgress(value=0, max=5000), HTML(value='')))"
      ]
     },
     "metadata": {},
     "output_type": "display_data"
    },
    {
     "data": {
      "application/vnd.jupyter.widget-view+json": {
       "model_id": "314b0c63b34f49c3a0c208109aa92d26",
       "version_major": 2,
       "version_minor": 0
      },
      "text/plain": [
       "HBox(children=(IntProgress(value=0, max=5000), HTML(value='')))"
      ]
     },
     "metadata": {},
     "output_type": "display_data"
    },
    {
     "data": {
      "application/vnd.jupyter.widget-view+json": {
       "model_id": "a206d8b131094a1596ab7d89c6a92bad",
       "version_major": 2,
       "version_minor": 0
      },
      "text/plain": [
       "HBox(children=(IntProgress(value=0, max=5000), HTML(value='')))"
      ]
     },
     "metadata": {},
     "output_type": "display_data"
    },
    {
     "data": {
      "application/vnd.jupyter.widget-view+json": {
       "model_id": "e7e45b119ce242d49696f2eb073ec50c",
       "version_major": 2,
       "version_minor": 0
      },
      "text/plain": [
       "HBox(children=(IntProgress(value=0, max=5000), HTML(value='')))"
      ]
     },
     "metadata": {},
     "output_type": "display_data"
    },
    {
     "data": {
      "application/vnd.jupyter.widget-view+json": {
       "model_id": "80d4779635e24c6996fc7180c230d75a",
       "version_major": 2,
       "version_minor": 0
      },
      "text/plain": [
       "HBox(children=(IntProgress(value=0, max=5000), HTML(value='')))"
      ]
     },
     "metadata": {},
     "output_type": "display_data"
    },
    {
     "data": {
      "application/vnd.jupyter.widget-view+json": {
       "model_id": "f7ed901b0c0c4e0db8dcaff854a7738e",
       "version_major": 2,
       "version_minor": 0
      },
      "text/plain": [
       "HBox(children=(IntProgress(value=0, max=5000), HTML(value='')))"
      ]
     },
     "metadata": {},
     "output_type": "display_data"
    },
    {
     "data": {
      "application/vnd.jupyter.widget-view+json": {
       "model_id": "609f93bc29864301ad3e8a79505b0167",
       "version_major": 2,
       "version_minor": 0
      },
      "text/plain": [
       "HBox(children=(IntProgress(value=0, max=5000), HTML(value='')))"
      ]
     },
     "metadata": {},
     "output_type": "display_data"
    },
    {
     "data": {
      "application/vnd.jupyter.widget-view+json": {
       "model_id": "9d0aa564f5774585ac784472ae0855e5",
       "version_major": 2,
       "version_minor": 0
      },
      "text/plain": [
       "HBox(children=(IntProgress(value=0, max=5000), HTML(value='')))"
      ]
     },
     "metadata": {},
     "output_type": "display_data"
    },
    {
     "data": {
      "application/vnd.jupyter.widget-view+json": {
       "model_id": "a58d08dd0de347d2a1b3f22a4ddd381b",
       "version_major": 2,
       "version_minor": 0
      },
      "text/plain": [
       "HBox(children=(IntProgress(value=0, max=5000), HTML(value='')))"
      ]
     },
     "metadata": {},
     "output_type": "display_data"
    },
    {
     "data": {
      "application/vnd.jupyter.widget-view+json": {
       "model_id": "42df92e840f14320851da0779cfc70c1",
       "version_major": 2,
       "version_minor": 0
      },
      "text/plain": [
       "HBox(children=(IntProgress(value=0, max=5000), HTML(value='')))"
      ]
     },
     "metadata": {},
     "output_type": "display_data"
    },
    {
     "data": {
      "application/vnd.jupyter.widget-view+json": {
       "model_id": "efdf396b09404a6bbc6cf296292e47b8",
       "version_major": 2,
       "version_minor": 0
      },
      "text/plain": [
       "HBox(children=(IntProgress(value=0, max=5000), HTML(value='')))"
      ]
     },
     "metadata": {},
     "output_type": "display_data"
    },
    {
     "data": {
      "application/vnd.jupyter.widget-view+json": {
       "model_id": "b4eacb0a388342cd996de0fe61d9d377",
       "version_major": 2,
       "version_minor": 0
      },
      "text/plain": [
       "HBox(children=(IntProgress(value=0, max=5000), HTML(value='')))"
      ]
     },
     "metadata": {},
     "output_type": "display_data"
    }
   ],
   "source": [
    "# Simulation results over a grid of parameter values\n",
    "B = 5000\n",
    "ATE = 0.15\n",
    "parameter_grid = [\n",
    "    dict(B = B, n = 1000, expectation_Y0 = 3, ATE = ATE, share_treatment = 0.50, sigma = 1, alpha = 0.01),\n",
    "    dict(B = B, n = 1000, expectation_Y0 = 3, ATE = ATE, share_treatment = 0.50, sigma = 1, alpha = 0.05),\n",
    "    dict(B = B, n = 1000, expectation_Y0 = 3, ATE = ATE, share_treatment = 0.50, sigma = 1, alpha = 0.1),\n",
    "    dict(B = B, n = 1000, expectation_Y0 = 3, ATE = ATE, share_treatment = 0.50, sigma = 1, alpha = 0.15),\n",
    "    dict(B = B, n = 1000, expectation_Y0 = 3, ATE = ATE, share_treatment = 0.50, sigma = 1, alpha = 0.25),\n",
    "    dict(B = B, n = 1000, expectation_Y0 = 3, ATE = ATE, share_treatment = 0.50, sigma = 1, alpha = 0.35)\n",
    "]\n",
    "\n",
    "simulation_results =  pd.DataFrame([get_simulation_results(**params) for params in parameter_grid])\n",
    "\n",
    "# We can also test that the simulations worked as expected.\n",
    "# For example:\n",
    "assert((simulation_results['share_treatment'] == simulation_results.eval(\"N_treatment / N\")).all())"
   ]
  },
  {
   "cell_type": "code",
   "execution_count": 294,
   "metadata": {},
   "outputs": [
    {
     "data": {
      "text/html": [
       "<div>\n",
       "<style scoped>\n",
       "    .dataframe tbody tr th:only-of-type {\n",
       "        vertical-align: middle;\n",
       "    }\n",
       "\n",
       "    .dataframe tbody tr th {\n",
       "        vertical-align: top;\n",
       "    }\n",
       "\n",
       "    .dataframe thead th {\n",
       "        text-align: right;\n",
       "    }\n",
       "</style>\n",
       "<table border=\"1\" class=\"dataframe\">\n",
       "  <thead>\n",
       "    <tr style=\"text-align: right;\">\n",
       "      <th></th>\n",
       "      <th>alpha</th>\n",
       "      <th>p_reject</th>\n",
       "    </tr>\n",
       "  </thead>\n",
       "  <tbody>\n",
       "    <tr>\n",
       "      <th>0</th>\n",
       "      <td>0.01</td>\n",
       "      <td>0.4188</td>\n",
       "    </tr>\n",
       "    <tr>\n",
       "      <th>1</th>\n",
       "      <td>0.05</td>\n",
       "      <td>0.6616</td>\n",
       "    </tr>\n",
       "    <tr>\n",
       "      <th>2</th>\n",
       "      <td>0.10</td>\n",
       "      <td>0.7720</td>\n",
       "    </tr>\n",
       "    <tr>\n",
       "      <th>3</th>\n",
       "      <td>0.15</td>\n",
       "      <td>0.8204</td>\n",
       "    </tr>\n",
       "    <tr>\n",
       "      <th>4</th>\n",
       "      <td>0.25</td>\n",
       "      <td>0.8922</td>\n",
       "    </tr>\n",
       "    <tr>\n",
       "      <th>5</th>\n",
       "      <td>0.35</td>\n",
       "      <td>0.9224</td>\n",
       "    </tr>\n",
       "  </tbody>\n",
       "</table>\n",
       "</div>"
      ],
      "text/plain": [
       "   alpha  p_reject\n",
       "0   0.01    0.4188\n",
       "1   0.05    0.6616\n",
       "2   0.10    0.7720\n",
       "3   0.15    0.8204\n",
       "4   0.25    0.8922\n",
       "5   0.35    0.9224"
      ]
     },
     "execution_count": 294,
     "metadata": {},
     "output_type": "execute_result"
    }
   ],
   "source": [
    "simulation_results[['alpha','p_reject']]"
   ]
  },
  {
   "cell_type": "code",
   "execution_count": 303,
   "metadata": {},
   "outputs": [
    {
     "data": {
      "text/plain": [
       "Text(0.5, 1.0, 'Power Vs. Alpha')"
      ]
     },
     "execution_count": 303,
     "metadata": {},
     "output_type": "execute_result"
    },
    {
     "data": {
      "image/png": "[encoded data removed]",
      "text/plain": [
       "<Figure size 432x288 with 1 Axes>"
      ]
     },
     "metadata": {},
     "output_type": "display_data"
    }
   ],
   "source": [
    "plt.plot(simulation_results['p_reject'], simulation_results['alpha'])\n",
    "plt.gca().set_ylabel('Power')\n",
    "plt.gca().set_xlabel('alpha')\n",
    "plt.title('Power Vs. Alpha', color = 'white')"
   ]
  },
  {
   "cell_type": "markdown",
   "metadata": {},
   "source": [
    "## 3)\n"
   ]
  },
  {
   "cell_type": "code",
   "execution_count": 305,
   "metadata": {},
   "outputs": [
    {
     "data": {
      "application/vnd.jupyter.widget-view+json": {
       "model_id": "b1d229c943ba43dca828ff18503f7593",
       "version_major": 2,
       "version_minor": 0
      },
      "text/plain": [
       "HBox(children=(IntProgress(value=0, max=5000), HTML(value='')))"
      ]
     },
     "metadata": {},
     "output_type": "display_data"
    },
    {
     "data": {
      "application/vnd.jupyter.widget-view+json": {
       "model_id": "db01eb6a19e84471a98af79b3d7abfae",
       "version_major": 2,
       "version_minor": 0
      },
      "text/plain": [
       "HBox(children=(IntProgress(value=0, max=5000), HTML(value='')))"
      ]
     },
     "metadata": {},
     "output_type": "display_data"
    },
    {
     "data": {
      "application/vnd.jupyter.widget-view+json": {
       "model_id": "e59bf4ed18474f68805747c25e3b7780",
       "version_major": 2,
       "version_minor": 0
      },
      "text/plain": [
       "HBox(children=(IntProgress(value=0, max=5000), HTML(value='')))"
      ]
     },
     "metadata": {},
     "output_type": "display_data"
    },
    {
     "data": {
      "application/vnd.jupyter.widget-view+json": {
       "model_id": "a210cdc987814261ad3d8fd67520d881",
       "version_major": 2,
       "version_minor": 0
      },
      "text/plain": [
       "HBox(children=(IntProgress(value=0, max=5000), HTML(value='')))"
      ]
     },
     "metadata": {},
     "output_type": "display_data"
    },
    {
     "data": {
      "application/vnd.jupyter.widget-view+json": {
       "model_id": "bee50c11142d412691ef9783f428f0a9",
       "version_major": 2,
       "version_minor": 0
      },
      "text/plain": [
       "HBox(children=(IntProgress(value=0, max=5000), HTML(value='')))"
      ]
     },
     "metadata": {},
     "output_type": "display_data"
    },
    {
     "data": {
      "application/vnd.jupyter.widget-view+json": {
       "model_id": "2f4b3889b83a46d4a9598adb4c2e9dbb",
       "version_major": 2,
       "version_minor": 0
      },
      "text/plain": [
       "HBox(children=(IntProgress(value=0, max=5000), HTML(value='')))"
      ]
     },
     "metadata": {},
     "output_type": "display_data"
    },
    {
     "data": {
      "application/vnd.jupyter.widget-view+json": {
       "model_id": "6aa245e671b748f4b888c48c29f66eee",
       "version_major": 2,
       "version_minor": 0
      },
      "text/plain": [
       "HBox(children=(IntProgress(value=0, max=5000), HTML(value='')))"
      ]
     },
     "metadata": {},
     "output_type": "display_data"
    },
    {
     "data": {
      "application/vnd.jupyter.widget-view+json": {
       "model_id": "fcb7cf222ca348e9ae7cb4ca8903e87a",
       "version_major": 2,
       "version_minor": 0
      },
      "text/plain": [
       "HBox(children=(IntProgress(value=0, max=5000), HTML(value='')))"
      ]
     },
     "metadata": {},
     "output_type": "display_data"
    },
    {
     "data": {
      "application/vnd.jupyter.widget-view+json": {
       "model_id": "e82ca9be5e134104a3680df588ff2fbe",
       "version_major": 2,
       "version_minor": 0
      },
      "text/plain": [
       "HBox(children=(IntProgress(value=0, max=5000), HTML(value='')))"
      ]
     },
     "metadata": {},
     "output_type": "display_data"
    },
    {
     "data": {
      "application/vnd.jupyter.widget-view+json": {
       "model_id": "2b8dfd847f544f8d9403d5a71c1ecbe4",
       "version_major": 2,
       "version_minor": 0
      },
      "text/plain": [
       "HBox(children=(IntProgress(value=0, max=5000), HTML(value='')))"
      ]
     },
     "metadata": {},
     "output_type": "display_data"
    }
   ],
   "source": [
    "# Simulation results over a grid of parameter values\n",
    "B = 5000\n",
    "ATE = 0.15\n",
    "parameter_grid = [\n",
    "    dict(B = B, n = 1000, expectation_Y0 = 3, ATE = ATE, share_treatment = 0.10, sigma = 1, alpha = 0.05),\n",
    "    dict(B = B, n = 1000, expectation_Y0 = 3, ATE = ATE, share_treatment = 0.25, sigma = 1, alpha = 0.05),\n",
    "    dict(B = B, n = 1000, expectation_Y0 = 3, ATE = ATE, share_treatment = 0.50, sigma = 1, alpha = 0.05),\n",
    "    dict(B = B, n = 1000, expectation_Y0 = 3, ATE = ATE, share_treatment = 0.75, sigma = 1, alpha = 0.05),\n",
    "    dict(B = B, n = 1000, expectation_Y0 = 3, ATE = ATE, share_treatment = 0.90, sigma = 1, alpha = 0.05),\n",
    "]\n",
    "\n",
    "simulation_results =  pd.DataFrame([get_simulation_results(**params) for params in parameter_grid])\n",
    "\n",
    "# We can also test that the simulations worked as expected.\n",
    "# For example:\n",
    "assert((simulation_results['share_treatment'] == simulation_results.eval(\"N_treatment / N\")).all())"
   ]
  },
  {
   "cell_type": "code",
   "execution_count": 308,
   "metadata": {},
   "outputs": [
    {
     "data": {
      "text/html": [
       "<div>\n",
       "<style scoped>\n",
       "    .dataframe tbody tr th:only-of-type {\n",
       "        vertical-align: middle;\n",
       "    }\n",
       "\n",
       "    .dataframe tbody tr th {\n",
       "        vertical-align: top;\n",
       "    }\n",
       "\n",
       "    .dataframe thead th {\n",
       "        text-align: right;\n",
       "    }\n",
       "</style>\n",
       "<table border=\"1\" class=\"dataframe\">\n",
       "  <thead>\n",
       "    <tr style=\"text-align: right;\">\n",
       "      <th></th>\n",
       "      <th>share_treatment</th>\n",
       "      <th>p_reject</th>\n",
       "    </tr>\n",
       "  </thead>\n",
       "  <tbody>\n",
       "    <tr>\n",
       "      <th>0</th>\n",
       "      <td>0.10</td>\n",
       "      <td>0.3034</td>\n",
       "    </tr>\n",
       "    <tr>\n",
       "      <th>1</th>\n",
       "      <td>0.25</td>\n",
       "      <td>0.5330</td>\n",
       "    </tr>\n",
       "    <tr>\n",
       "      <th>2</th>\n",
       "      <td>0.50</td>\n",
       "      <td>0.6608</td>\n",
       "    </tr>\n",
       "    <tr>\n",
       "      <th>3</th>\n",
       "      <td>0.75</td>\n",
       "      <td>0.5304</td>\n",
       "    </tr>\n",
       "    <tr>\n",
       "      <th>4</th>\n",
       "      <td>0.90</td>\n",
       "      <td>0.2950</td>\n",
       "    </tr>\n",
       "  </tbody>\n",
       "</table>\n",
       "</div>"
      ],
      "text/plain": [
       "   share_treatment  p_reject\n",
       "0             0.10    0.3034\n",
       "1             0.25    0.5330\n",
       "2             0.50    0.6608\n",
       "3             0.75    0.5304\n",
       "4             0.90    0.2950"
      ]
     },
     "execution_count": 308,
     "metadata": {},
     "output_type": "execute_result"
    }
   ],
   "source": [
    "simulation_results[['share_treatment','p_reject']]"
   ]
  },
  {
   "cell_type": "code",
   "execution_count": 309,
   "metadata": {},
   "outputs": [
    {
     "data": {
      "text/plain": [
       "Text(0.5, 1.0, 'Power Vs. Share treatment')"
      ]
     },
     "execution_count": 309,
     "metadata": {},
     "output_type": "execute_result"
    },
    {
     "data": {
      "image/png": "[encoded data removed]",
      "text/plain": [
       "<Figure size 432x288 with 1 Axes>"
      ]
     },
     "metadata": {},
     "output_type": "display_data"
    }
   ],
   "source": [
    "plt.plot(simulation_results['share_treatment'],simulation_results['p_reject'])\n",
    "plt.gca().set_ylabel('Power')\n",
    "plt.gca().set_xlabel('Share treatment')\n",
    "plt.title('Power Vs. Share treatment', color = 'white')"
   ]
  },
  {
   "cell_type": "markdown",
   "metadata": {},
   "source": [
    "## 5)"
   ]
  },
  {
   "cell_type": "markdown",
   "metadata": {},
   "source": [
    "### i)"
   ]
  },
  {
   "cell_type": "code",
   "execution_count": 310,
   "metadata": {},
   "outputs": [],
   "source": [
    "# Set up functions that calculate power as a function of sample size.\n",
    "ATE = 0.15\n",
    "alpha = 0.05\n",
    "sigma = 1\n",
    "\n",
    "def power_function(nobs1):\n",
    "    \"\"\"Calculate power for the given sample size.\n",
    "    \n",
    "    Assumes that treatment and control groups are the same size.\n",
    "    Assumes that the effect_size is ATE / sigma.\n",
    "    Assumes that alpha (test size) is alpha.\n",
    "    args:\n",
    "    nobs1: The sample size of one group.\n",
    "    \"\"\"\n",
    "    return power.tt_ind_solve_power( \n",
    "        effect_size=ATE / sigma,\n",
    "        nobs1=nobs1,\n",
    "        alpha=alpha,\n",
    "        ratio=1.0  # ratio of sample sizes in treatment group vs. control group\n",
    "    )\n"
   ]
  },
  {
   "cell_type": "code",
   "execution_count": 312,
   "metadata": {},
   "outputs": [
    {
     "data": {
      "text/plain": [
       "0.6589069549458351"
      ]
     },
     "execution_count": 312,
     "metadata": {},
     "output_type": "execute_result"
    }
   ],
   "source": [
    "power_function(500)"
   ]
  },
  {
   "cell_type": "markdown",
   "metadata": {},
   "source": [
    "## BONUS"
   ]
  },
  {
   "cell_type": "markdown",
   "metadata": {},
   "source": [
    "## 1."
   ]
  },
  {
   "cell_type": "code",
   "execution_count": 367,
   "metadata": {},
   "outputs": [],
   "source": [
    "# Set up functions that calculate power as a function of sample size.\n",
    "ATE = 0.15\n",
    "alpha = 0.05\n",
    "sigma = 1\n",
    "\n",
    "def power_function(nobs1):\n",
    "    \"\"\"Calculate power for the given sample size.\n",
    "    \n",
    "    Assumes that treatment and control groups are the same size.\n",
    "    Assumes that the effect_size is ATE / sigma.\n",
    "    Assumes that alpha (test size) is alpha.\n",
    "    args:\n",
    "    nobs1: The sample size of one group.\n",
    "    \"\"\"\n",
    "    return power.tt_ind_solve_power( \n",
    "        effect_size=ATE / sigma,\n",
    "        nobs1=nobs1,\n",
    "        alpha=alpha,\n",
    "        ratio=9  # ratio of sample sizes in treatment group vs. control group\n",
    "    )\n"
   ]
  },
  {
   "cell_type": "code",
   "execution_count": 376,
   "metadata": {},
   "outputs": [
    {
     "data": {
      "text/plain": [
       "0.8022251248655252"
      ]
     },
     "execution_count": 376,
     "metadata": {},
     "output_type": "execute_result"
    }
   ],
   "source": [
    "power_function(390)"
   ]
  },
  {
   "cell_type": "markdown",
   "metadata": {},
   "source": [
    "### ii)"
   ]
  },
  {
   "cell_type": "code",
   "execution_count": 377,
   "metadata": {},
   "outputs": [],
   "source": [
    "# Set up functions that calculate power as a function of sample size.\n",
    "ATE = 0.15\n",
    "alpha = 0.01\n",
    "sigma = 1\n",
    "\n",
    "def power_function(nobs1):\n",
    "    \"\"\"Calculate power for the given sample size.\n",
    "    \n",
    "    Assumes that treatment and control groups are the same size.\n",
    "    Assumes that the effect_size is ATE / sigma.\n",
    "    Assumes that alpha (test size) is alpha.\n",
    "    args:\n",
    "    nobs1: The sample size of one group.\n",
    "    \"\"\"\n",
    "    return power.tt_ind_solve_power( \n",
    "        effect_size=ATE / sigma,\n",
    "        nobs1=nobs1,\n",
    "        alpha=alpha,\n",
    "        ratio=9  # ratio of sample sizes in treatment group vs. control group\n",
    "    )\n"
   ]
  },
  {
   "cell_type": "code",
   "execution_count": 385,
   "metadata": {},
   "outputs": [
    {
     "data": {
      "text/plain": [
       "0.8024175210665379"
      ]
     },
     "execution_count": 385,
     "metadata": {},
     "output_type": "execute_result"
    }
   ],
   "source": [
    "power_function(580)"
   ]
  },
  {
   "cell_type": "code",
   "execution_count": null,
   "metadata": {},
   "outputs": [],
   "source": []
  }
 ],
 "metadata": {
  "kernelspec": {
   "display_name": "Python 3",
   "language": "python",
   "name": "python3"
  },
  "language_info": {
   "codemirror_mode": {
    "name": "ipython",
    "version": 3
   },
   "file_extension": ".py",
   "mimetype": "text/x-python",
   "name": "python",
   "nbconvert_exporter": "python",
   "pygments_lexer": "ipython3",
   "version": "3.7.4"
  }
 },
 "nbformat": 4,
 "nbformat_minor": 2
}
