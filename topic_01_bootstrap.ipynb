{
  "nbformat": 4,
  "nbformat_minor": 0,
  "metadata": {
    "colab": {
      "name": "topic-01-bootstrap.ipynb",
      "provenance": [],
      "collapsed_sections": [],
      "include_colab_link": true
    },
    "kernelspec": {
      "name": "python3",
      "display_name": "Python 3"
    }
  },
  "cells": [
    {
      "cell_type": "markdown",
      "metadata": {
        "id": "view-in-github",
        "colab_type": "text"
      },
      "source": [
        "<a href=\"https://colab.research.google.com/github/agkhairnar/ECON-626-PS/blob/master/topic_01_bootstrap.ipynb\" target=\"_parent\"><img src=\"https://colab.research.google.com/assets/colab-badge.svg\" alt=\"Open In Colab\"/></a>"
      ]
    },
    {
      "cell_type": "markdown",
      "metadata": {
        "id": "qRS7s2oIsoPh",
        "colab_type": "text"
      },
      "source": [
        "It is critically important to mimic the original experiment in every way, down to the last detail, in order to compute the bootstrapped standard errors correctly. In this short example, we demonstrate how a small subtlety leads to different standard errors."
      ]
    },
    {
      "cell_type": "markdown",
      "metadata": {
        "id": "TIsQICzus6T6",
        "colab_type": "text"
      },
      "source": [
        "Suppose we run an experiment, and have the following data. "
      ]
    },
    {
      "cell_type": "code",
      "metadata": {
        "id": "knzWRcOytf7F",
        "colab_type": "code",
        "colab": {
          "base_uri": "https://localhost:8080/",
          "height": 54
        },
        "outputId": "2dbbfc38-22e3-409d-b4dd-8a822974a76e"
      },
      "source": [
        "import numpy as np\n",
        "np.random.seed(100)\n",
        "\n",
        "y = np.array([4,3,2,4,1,2,3,5,2,4,7,3,5,6,4,3,1,3,4,3])\n",
        "t = np.array([0,0,0,0,0,0,0,0,0,1,1,1,1,1,1,1,1,1,1,1])\n",
        "effect = y[np.where(t == 1)[0]].mean() - y[np.where(t == 0)[0]].mean()\n",
        "\n",
        "print(\"Estimated effect of treatment is: \" + str(round(effect, 3)))\n",
        "\n",
        "print(\"There are \" + str(sum(t)) + \" treated units and \" + \n",
        "      str(len(t) - sum(t)) + \" control units\")"
      ],
      "execution_count": null,
      "outputs": [
        {
          "output_type": "stream",
          "text": [
            "Estimated effect of treatment is: 1.02\n",
            "There are 11 treated units and 9 control units\n"
          ],
          "name": "stdout"
        }
      ]
    },
    {
      "cell_type": "markdown",
      "metadata": {
        "id": "GlCmI5039JG_",
        "colab_type": "text"
      },
      "source": [
        "Before we move on, take a moment to think about the different ways we might compute the bootstrapped standard errors.\n",
        "\n",
        "Be specific about the re-sampling design that you might implement, and why you made the design choices that you did."
      ]
    },
    {
      "cell_type": "markdown",
      "metadata": {
        "id": "4KqeFdxyvQ_g",
        "colab_type": "text"
      },
      "source": [
        "In doing so, notice that there are nine control units, and eleven treated units. There are a few plausible hypotheses:\n",
        "\n",
        "\n",
        "1.   There are supposed to be exactly nine control units and exactly eleven treated units.\n",
        "2.   Each unit is allocated with 55% probability to treatment.\n",
        "2.   Each unit is allocated with 50% probability to treatment. Due to some random chance, there are more treated than control units.\n",
        "\n",
        "Notice how the setup of the bootstrap computation differs for each one, and how the results change.\n",
        "\n"
      ]
    },
    {
      "cell_type": "code",
      "metadata": {
        "id": "w27ufYPWwNjQ",
        "colab_type": "code",
        "colab": {
          "base_uri": "https://localhost:8080/",
          "height": 72
        },
        "outputId": "fe1aa1c5-3d90-49ec-ce26-6066bef66de7"
      },
      "source": [
        "samples1 = []\n",
        "samples2 = []\n",
        "samples3 = []\n",
        "\n",
        "# Pick a large number of iterations to wash away sampling noise\n",
        "for i in range(50000):\n",
        "\n",
        "  # Approach 1: exactly nine and eleven units\n",
        "  # So we sample the nine control units and eleven treated units separately\n",
        "  treatment_mean = y[np.random.choice(np.where(t == 1)[0], \n",
        "    len(np.where(t == 1)[0]), replace = True)].mean()\n",
        "  control_mean = y[np.random.choice(np.where(t == 0)[0], \n",
        "    len(np.where(t == 0)[0]), replace = True)].mean()\n",
        "  samples1.append(treatment_mean - control_mean)\n",
        "\n",
        "  # Approach 2: units get allocated to treatment with 55% chance\n",
        "  # So we sample among all twenty units with equal weights, \n",
        "  # and so our samples will have 55% treatment on average\n",
        "  index = np.random.choice(range(len(t)), len(t), replace = True)\n",
        "  if len(np.where(t[index] == 1)[0]) >0 and len(np.where(t[index] == 0)[0]) >0:\n",
        "    treatment_mean = y[index][np.where(t[index] == 1)[0]].mean()\n",
        "    control_mean = y[index][np.where(t[index] == 0)[0]].mean()\n",
        "    samples2.append(treatment_mean - control_mean)\n",
        "\n",
        "  # Approach 3: units get allocated to treatment with 50% chance\n",
        "  # So we sample among all twenty units with unequal weights, \n",
        "  # and so our samples will have 50% treatment on average\n",
        "  p = np.repeat(sum(t)/len(t), len(np.where(t == 0)[0]))\n",
        "  p = np.append(p, np.repeat(1 - sum(t)/len(t), len(np.where(t == 1)[0])))\n",
        "  index = np.random.choice(range(len(t)), len(t), replace = True, p = p/sum(p))\n",
        "  if len(np.where(t[index] == 1)[0]) >0 and len(np.where(t[index] == 0)[0]) >0:\n",
        "    treatment_mean = y[index][np.where(t[index] == 1)[0]].mean()\n",
        "    control_mean = y[index][np.where(t[index] == 0)[0]].mean()\n",
        "    samples3.append(treatment_mean - control_mean)\n",
        "\n",
        "print(round(np.std(samples1), 4))\n",
        "print(round(np.std(samples2), 4))\n",
        "print(round(np.std(samples3), 4))"
      ],
      "execution_count": null,
      "outputs": [
        {
          "output_type": "stream",
          "text": [
            "0.6171\n",
            "0.6332\n",
            "0.6408\n"
          ],
          "name": "stdout"
        }
      ]
    }
  ]
}