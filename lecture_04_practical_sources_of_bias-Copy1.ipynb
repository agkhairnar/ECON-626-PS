{
 "cells": [
  {
   "cell_type": "code",
   "execution_count": 2,
   "metadata": {
    "colab": {
     "base_uri": "https://localhost:8080/",
     "height": 34
    },
    "colab_type": "code",
    "id": "ea8sptZr6RQV",
    "outputId": "8a1319be-e606-4d6b-c884-cd5a3a813430"
   },
   "outputs": [
    {
     "name": "stdout",
     "output_type": "stream",
     "text": [
      "Requirement already satisfied: stargazer in /home/aboli/anaconda3/lib/python3.7/site-packages (0.0.4)\r\n"
     ]
    }
   ],
   "source": [
    "#@title Boilerplate imports {display-mode: \"form\"}\n",
    "\n",
    "# This code will be hidden when the notebook is loaded.\n",
    "%matplotlib inline\n",
    "!pip install stargazer\n",
    "from stargazer.stargazer import Stargazer\n",
    "import pandas as pd\n",
    "import numpy as np\n",
    "from tqdm import tqdm_notebook\n",
    "import scipy.stats\n",
    "import statsmodels.stats.power as power\n",
    "import statsmodels.formula.api as sfa\n",
    "from functools import partial\n",
    "import matplotlib.pyplot as plt\n",
    "from IPython.display import display, HTML\n",
    "plt.rcParams.update({\n",
    "    \"lines.color\": \"white\",\n",
    "    \"patch.edgecolor\": \"white\",\n",
    "    \"text.color\": \"black\",\n",
    "    \"axes.facecolor\": \"white\",\n",
    "    \"axes.edgecolor\": \"lightgray\",\n",
    "    \"axes.labelcolor\": \"white\",\n",
    "    \"xtick.color\": \"white\",\n",
    "    \"ytick.color\": \"white\",\n",
    "    \"grid.color\": \"lightgray\",\n",
    "    \"figure.facecolor\": \"black\",\n",
    "    \"figure.edgecolor\": \"black\",\n",
    "    \"savefig.facecolor\": \"black\",\n",
    "    \"savefig.edgecolor\": \"black\"})\n",
    "\n",
    "np.random.seed(94115)"
   ]
  },
  {
   "cell_type": "markdown",
   "metadata": {
    "colab_type": "text",
    "id": "HY67iLaIvEF5"
   },
   "source": [
    "# Practical sources of bias in experiments\n",
    "\n",
    "This notebook has identification analyses of three cases:\n",
    "- Bias case 1: Adjusting randomization proportions during experiment\n",
    "- Bias case 2: Non-compliance and \"exposure\" to treatment\n",
    "- Bias case 3: Charitability influences viewing probability *and treatment effect*\n",
    "\n",
    "\n"
   ]
  },
  {
   "cell_type": "markdown",
   "metadata": {
    "colab_type": "text",
    "id": "HBX4oaKnX1YD"
   },
   "source": [
    "# Bias case 1: Adjusting randomization proportions during experiment\n",
    "\n",
    "This example demonstrates a real problem that can easily happen in a software environment. Experiments (A/B tests) on websites are often implemented with a **feature flag**, which in a binary \"switch\" in the code that causes the visitor to see one of two version of the site. Feature flags can be set to show the treatment version \"randomly\" to a specific percentage of the visitors. It is easy to adjust the percentage. But, changing the percentage can easily bias your experiment if the analysis does not account for this.\n",
    "\n",
    "So far we have only considered experiments where the probability of treatment $P(D=1)$ is fixed and constant across all units. However, in some cases there may be reasons to change $P(D=1)$ during the experiment. In other words we would have a function $p(t) = P_t(D=1)$ where $t$ is the time that the unit is assigned to treatment. That can cause biased estimates of the treatment effect **even though the treatment is assigned \"randomly\"**! However, we will see that we may be able to adjust our analysis to remove the bias.\n",
    "\n",
    "We are back in the world of **identification** so we will use very large data sets as an approximation to \"infinite\" data.\n",
    "\n",
    "The first function below `generate_one_experiment` generates data from a simulated experiment. (Although remember that no real data set can actually have both $Y^1$ and $Y^0$ for any given unit!) This experiment will involve visitors to a charity website. The treatment is a redesign of some messages on the site, which we hope will increase the probability that a user donates. We will call this \"conversion.\"\n",
    "\n",
    "The data-generating process of the experiment has these key characteristics:\n",
    "\n",
    "- On average 100,000 users visit the site each day. The number of visitors does not depend on the day of the week (note: unrealistic, simplifying assumption). **However**, the conversion rate does depend on the day of the week. Weekdays have a conversion rate of 0.30 while on weekends it is 0.10.\n",
    "- We decide to run an experiment for 14 days which we number from 0,...,13.\n",
    "- Day 0 is a Monday, and we started the experiment with a random 5 percent of users seeing the new site. We started with a low percentage to be cautious of possible negative effects of the change. The experiment ran at 5 percent through the end of Day 4: Friday of the first week.\n",
    "- At the end of Friday we checked the results and saw a positive effect from the treatment. Feeling comfortable we decided to get more data by changing to a 50/50 split at the start of Day 5 (Saturday). We know from our previous exercises we will get more power with a 50/50 split!\n",
    "- On Monday morning we come back and check the results again. Shock! There is a huge negative effect from the new site! \n",
    "- Unsure which results to believe and sticking to our original plan, we let the experiment run for the originally planned 2 weeks.\n",
    "- At the end of 2 weeks we check the results and see a slight negative effect from the treatment.\n",
    "- What happened?\n",
    "\n",
    "*Note: The results we see will be abnormally stable because we have assumed relatively large \"effects\" and have a very large (approximately infinite) sample size. We can view this exercise as a stylized experiment designed to demonstrate a specific bias.*"
   ]
  },
  {
   "cell_type": "code",
   "execution_count": 3,
   "metadata": {
    "colab": {},
    "colab_type": "code",
    "id": "-ekcxp2h6Wb8"
   },
   "outputs": [],
   "source": [
    "def generate_one_experiment():\n",
    "  # Average number of users of the site per day\n",
    "  avg_N_per_day = 100000\n",
    "\n",
    "  # Set experiment to last for 14 days\n",
    "  length_of_experiment = 14\n",
    "  dates = np.arange(0, length_of_experiment)\n",
    "\n",
    "  # This function causes our treatment percentage to go from 5% to 50%.\n",
    "  def treatment_percent(date):\n",
    "    if date <= 4:\n",
    "      return 0.05\n",
    "    else:\n",
    "      return 0.50\n",
    "\n",
    "  # Conversion on the weekend is 20 pp lower.\n",
    "  def daily_conversion_rates(day_of_week):\n",
    "    if day_of_week in [5, 6]:\n",
    "      return 0.10\n",
    "    else:\n",
    "      return 0.30\n",
    "\n",
    "  # Determine the number of units on each day (use a Poisson distribution for convenience).\n",
    "  N_each_day = np.random.poisson(avg_N_per_day, size=length_of_experiment)\n",
    "\n",
    "  # Generate a row for each unit determined in the previous step.\n",
    "  dates_of_units = np.concatenate(\n",
    "      [dates[ii] * np.ones(shape=N) for ii, N in np.ndenumerate(N_each_day)]\n",
    "  )\n",
    "\n",
    "  # Make a dataframe tracking the date on which each unit visited the site\n",
    "  # and the day of the week.\n",
    "  df = pd.DataFrame({\n",
    "      'date': dates_of_units.astype('int'),\n",
    "      'day_of_week': np.mod(dates_of_units, 7).astype('int8')\n",
    "  })\n",
    "  # Number the units from 0 through N.\n",
    "  # We assume that each unit is a distinct individual human.\n",
    "  df['unit'] = df.index.values\n",
    "\n",
    "  # The true ATE is 0.03, that is, the new site increases the probability \n",
    "  # of donation by 0.03.\n",
    "  ATE = 0.03\n",
    "  p_y0 = df['day_of_week'].apply(daily_conversion_rates)\n",
    "  df['y0'] = np.random.binomial(n=1, p=p_y0).astype('int8')\n",
    "  df['y1'] = np.random.binomial(n=1, p=p_y0 + ATE).astype('int8')\n",
    "\n",
    "  # Apply the function that determines the percentage treated on each day.\n",
    "  df['treatment_percent_by_day'] = df['date'].apply(treatment_percent)\n",
    "  df['d'] = np.random.binomial(n=1, p=df['treatment_percent_by_day']).astype('int8')\n",
    "  df['y'] = df.eval(\"d * y1 + (1 - d) * y0\")\n",
    "\n",
    "  df['hour_of_day'] = np.random.randint(1, 24, size=df.shape[0])\n",
    "\n",
    "  return df"
   ]
  },
  {
   "cell_type": "code",
   "execution_count": 4,
   "metadata": {
    "colab": {},
    "colab_type": "code",
    "id": "xeJV2lqPgvev"
   },
   "outputs": [],
   "source": [
    "avg_N_per_day = 100000\n",
    "\n",
    "# Set experiment to last for 14 days\n",
    "length_of_experiment = 14\n",
    "dates = np.arange(0, length_of_experiment)\n",
    "\n",
    "# This function causes our treatment percentage to go from 5% to 50%.\n",
    "def treatment_percent(date):\n",
    "  if date <= 4:\n",
    "    return 0.05\n",
    "  else:\n",
    "    return 0.50\n",
    "\n",
    "# Conversion on the weekend is 20 pp lower.\n",
    "def daily_conversion_rates(day_of_week):\n",
    "  if day_of_week in [5, 6]:\n",
    "    return 0.10\n",
    "  else:\n",
    "    return 0.30\n",
    "\n",
    "# Determine the number of units on each day (use a Poisson distribution for convenience).\n",
    "N_each_day = np.random.poisson(avg_N_per_day, size=length_of_experiment)\n",
    "\n",
    "# Generate a row for each unit determined in the previous step.\n",
    "dates_of_units = np.concatenate(\n",
    "    [dates[ii] * np.ones(shape=N) for ii, N in np.ndenumerate(N_each_day)]\n",
    ")\n"
   ]
  },
  {
   "cell_type": "markdown",
   "metadata": {
    "colab_type": "text",
    "id": "N2zsJ1ANu_S0"
   },
   "source": [
    "## Basic description of the data\n",
    "\n",
    "### Distribution of treatment/control each day\n",
    "\n",
    "First, let's graph the total users each day, split by treatment vs. control. We see what we expected, in the first 5 days about ~5 percent of users are in the treatment group. After that we have about 50% of users in the treatment group on each day.\n",
    "\n",
    "### Daily conversion rates\n",
    "\n",
    "We also plot the conversion rates each day. As we had specified in the data generating process, on weekdays the conversion rate is about 0.30, but on weekends the conversion rate drops to about 0.10. When we compare treatment and control, the results are again as we expect. The treatment conversion rate is about 0.03 higher![link text](https://)"
   ]
  },
  {
   "cell_type": "code",
   "execution_count": 5,
   "metadata": {
    "colab": {
     "base_uri": "https://localhost:8080/",
     "height": 550
    },
    "colab_type": "code",
    "id": "OYNltrx-QCD_",
    "outputId": "c3a80c4c-177d-4170-b927-0cb6061e8b7f"
   },
   "outputs": [
    {
     "data": {
      "image/png": "[encoded data removed]",
      "text/plain": [
       "<Figure size 648x576 with 2 Axes>"
      ]
     },
     "metadata": {},
     "output_type": "display_data"
    }
   ],
   "source": [
    "df = generate_one_experiment()\n",
    "f, axs = plt.subplots(nrows=2, ncols=1, sharex=True, figsize=(9, 8))\n",
    "df.groupby(['date', 'd'])['unit'].count().unstack(-1) \\\n",
    "  .rename(columns={0: 'Control', 1: 'Treatment'}) \\\n",
    "  .plot(ax=axs[0], kind='bar', stacked=True, rot=0)\n",
    "axs[0].set_ylabel(\"# of users\", fontsize=18)\n",
    "axs[0].set_xlabel(\"Date of user's visit\", fontsize=18)\n",
    "axs[0].tick_params(labelsize=18)\n",
    "axs[0].legend(fontsize=18, loc='center left', bbox_to_anchor=(1, 0.5))\n",
    "\n",
    "df.groupby(['date', 'd'])['y'].mean().unstack(-1) \\\n",
    "  .rename(columns={0: 'Control', 1: 'Treatment'}) \\\n",
    "  .plot(ax=axs[1], kind='line', marker='o', linewidth=4, markersize=10, alpha=0.8, legend=False)\n",
    "axs[1].set_ylabel(\"Conversion rate\", fontsize=18)\n",
    "axs[1].set_xlabel(\"Date of user's visit\", fontsize=18)\n",
    "axs[1].tick_params(labelsize=18)\n",
    "axs[1].set_ylim(0, 0.4);"
   ]
  },
  {
   "cell_type": "markdown",
   "metadata": {
    "colab_type": "text",
    "id": "h4EXFbrXwoAk"
   },
   "source": [
    "## Naive (and biased) approach to estimating the average treatment effect (ATE)\n",
    "\n",
    "Below we calculate the simple difference in conversion rates between the treatment and control groups. That difference estimates the NATE, but this gives us a biased estimate of the ATE.\n",
    "\n",
    "Suppose that we eagerly check the results on the first Friday after we start the experiment and then again on Monday morning after the weekend. Finally, we check the results again at the end of the experiment. The results are in the figure \"Results from simulated experiment.\"\n",
    "\n",
    "On Friday evening our results tell us the treatment effect is about a 3 percentage point increase in conversion, which is close to the true ATE. However, on Monday morning we see nearly a 10 percent point **decrease** from the treatment. Finally, at the end of the experiment, the estimated treatment effect is about -0.01.\n",
    "\n",
    "To investigate in more detail, let's look at the figure \"Daily checks of experiment results.\" It shows what happens to the naively estimated treatment effect when we check it _every day_. The graph shows that the estimate starts out stable near the true ATE. However, during the first weekend it drops to a very low level before slowly growing during the second week. However, during the second weekend it starts to dip again before ending at a negative estimate.\n",
    "\n",
    "### Why is the estimate moving over time in this way?\n",
    "\n",
    "Intuitively, the reason for this is that we have stacked the treatment group with a large proportion of low-conversion-rate users from the weekend.\n",
    "\n",
    "To start understanding why this is happening look at the plot \"What proportion of the group was collected on weekends\"? That plot shows that over the course of the experiment there large changes in the proportion of *weekend users* in the treatment group. At the end of the first weekend, about 80 percent of the treatment group was collected over the weekend. But only about 20 percent of the control group was collected over the weekend. The difference appears because on Friday we moved from 5% treatment to 50% treatment. \n",
    "\n",
    "At the end of the experiment, we can compare each group. This is in the figure \"Day-of-week distribution of users in each group\". We can see that the treatment group has substantially more Saturday and Sunday users.\n",
    "\n",
    "### How can we understand this in terms of causal inference?\n",
    "\n",
    "This problem is a form of *selection bias* introduced by changing the randomization proportion during the experiment.\n",
    "\n",
    "We can see this in the plot \"Average baseline outcome in each group\". The baseline outcome $E[Y^0]$, the conversion rate without any treatment, is substantially lower in the treatment group. This is exactly selection bias. \n",
    "\n",
    "To see how we remove the selection bias, continue to the next section on perfect stratification.\n"
   ]
  },
  {
   "cell_type": "code",
   "execution_count": 6,
   "metadata": {
    "colab": {},
    "colab_type": "code",
    "id": "IVxQs2EETiG4"
   },
   "outputs": [],
   "source": [
    "# This function just estimates the NATE by taking the difference in rates.\n",
    "def estimate_nate(df):\n",
    "  means = df.groupby('d')['y'].mean()\n",
    "  return means[1] - means[0]\n",
    "\n",
    "# This function estimates the NATE on Friday, Monday, and the end of the experiment.\n",
    "def check_experiment_results(df):\n",
    "  return {\n",
    "      'estimate_01_on_end_of_friday': estimate_nate(df.query(\"date <= 4\")),\n",
    "      'estimate_02_on_monday_morning': estimate_nate(df.query(\"date <= 6\")),\n",
    "      'estimate_03_end_of_experiment': estimate_nate(df),\n",
    "  }"
   ]
  },
  {
   "cell_type": "code",
   "execution_count": 7,
   "metadata": {
    "colab": {
     "base_uri": "https://localhost:8080/",
     "height": 442
    },
    "colab_type": "code",
    "id": "XlwKoSys02Em",
    "outputId": "17530ebb-9e69-4866-fbcf-8043f836379b"
   },
   "outputs": [
    {
     "data": {
      "text/html": [
       "<div>\n",
       "<style scoped>\n",
       "    .dataframe tbody tr th:only-of-type {\n",
       "        vertical-align: middle;\n",
       "    }\n",
       "\n",
       "    .dataframe tbody tr th {\n",
       "        vertical-align: top;\n",
       "    }\n",
       "\n",
       "    .dataframe thead th {\n",
       "        text-align: right;\n",
       "    }\n",
       "</style>\n",
       "<table border=\"1\" class=\"dataframe\">\n",
       "  <thead>\n",
       "    <tr style=\"text-align: right;\">\n",
       "      <th></th>\n",
       "      <th>Results @ Friday (end of day)</th>\n",
       "      <th>Results @ Monday (start of day)</th>\n",
       "      <th>Results @ End of experiment</th>\n",
       "    </tr>\n",
       "    <tr>\n",
       "      <th>d</th>\n",
       "      <th></th>\n",
       "      <th></th>\n",
       "      <th></th>\n",
       "    </tr>\n",
       "  </thead>\n",
       "  <tbody>\n",
       "    <tr>\n",
       "      <th>0</th>\n",
       "      <td>0.299672</td>\n",
       "      <td>0.265157</td>\n",
       "      <td>0.256689</td>\n",
       "    </tr>\n",
       "    <tr>\n",
       "      <th>1</th>\n",
       "      <td>0.331139</td>\n",
       "      <td>0.168459</td>\n",
       "      <td>0.245516</td>\n",
       "    </tr>\n",
       "  </tbody>\n",
       "</table>\n",
       "</div>"
      ],
      "text/plain": [
       "   Results @ Friday (end of day)  Results @ Monday (start of day)  \\\n",
       "d                                                                   \n",
       "0                       0.299672                         0.265157   \n",
       "1                       0.331139                         0.168459   \n",
       "\n",
       "   Results @ End of experiment  \n",
       "d                               \n",
       "0                     0.256689  \n",
       "1                     0.245516  "
      ]
     },
     "metadata": {},
     "output_type": "display_data"
    },
    {
     "data": {
      "image/png": "[encoded data removed]",
      "text/plain": [
       "<Figure size 432x288 with 1 Axes>"
      ]
     },
     "metadata": {},
     "output_type": "display_data"
    }
   ],
   "source": [
    "staged_results = df.query(\"date <= 4\").groupby('d')['y'].mean().to_frame('Results @ Friday (end of day)') \\\n",
    "  .join(df.query(\"date <= 6\").groupby('d')['y'].mean().to_frame(\"Results @ Monday (start of day)\")) \\\n",
    "  .join(df.groupby('d')['y'].mean().to_frame('Results @ End of experiment'))\n",
    "\n",
    "display(staged_results)\n",
    "\n",
    "data_to_plot = pd.DataFrame([check_experiment_results(df)]).T.sort_index(ascending=False)\n",
    "data_to_plot.columns = ['Estimated treatment effect']\n",
    "ax = data_to_plot.plot(kind='barh', figsize=(6, 4), legend=False, width=0.9)\n",
    "ax.set_title(\"Results from simulated experiment\", fontsize=18)\n",
    "ax.axvline(0, alpha=0.5, color='grey')\n",
    "ax.tick_params(labelsize=20)\n",
    "ax.set_xlabel(\"Estimated treatment effect\", fontsize=18)\n",
    "# Plot the true ATE\n",
    "ax.axvline(0.03, alpha=0.8, color='green', linestyle='--', label='True ATE')\n",
    "ax.legend();"
   ]
  },
  {
   "cell_type": "code",
   "execution_count": 8,
   "metadata": {
    "colab": {
     "base_uri": "https://localhost:8080/",
     "height": 317
    },
    "colab_type": "code",
    "id": "CcXuT2lqZx3G",
    "outputId": "ec990e72-0fa4-4033-8b62-944f855c0d70"
   },
   "outputs": [
    {
     "data": {
      "image/png": "[encoded data removed]",
      "text/plain": [
       "<Figure size 576x288 with 1 Axes>"
      ]
     },
     "metadata": {},
     "output_type": "display_data"
    }
   ],
   "source": [
    "daily_results = pd.DataFrame(\n",
    "    [{'date': dd, 'Estimate': estimate_nate(df.query(\"date<=@dd\"))} for dd in df['date'].unique()]\n",
    ")\n",
    "ax = daily_results.set_index('date').plot(figsize=(8, 4), linewidth=4, marker='o')\n",
    "ax.tick_params(labelsize=18)\n",
    "ax.set_xlabel(\"Date\", fontsize=20)\n",
    "ax.set_ylabel(\"Naiely estimated\\ntreatment effect\", fontsize=20)\n",
    "ax.axhline(0, color='grey', alpha=0.7)\n",
    "ax.set_title(\"Daily checks of experiment results\", fontsize=20, color='white')\n",
    "ax.legend(fontsize=20);"
   ]
  },
  {
   "cell_type": "code",
   "execution_count": 9,
   "metadata": {
    "colab": {
     "base_uri": "https://localhost:8080/",
     "height": 339
    },
    "colab_type": "code",
    "id": "Y6chm507P6m-",
    "outputId": "61d8d284-06d6-4402-b853-d7239cfa92ef"
   },
   "outputs": [
    {
     "data": {
      "image/png": "[encoded data removed]",
      "text/plain": [
       "<Figure size 576x288 with 1 Axes>"
      ]
     },
     "metadata": {},
     "output_type": "display_data"
    }
   ],
   "source": [
    "daily_percent_from_weekend = pd.DataFrame([\n",
    "      {\n",
    "      'date': dd,\n",
    "      'treatment': df.query(\"date<=@dd and d==1\").eval(\"day_of_week in [5, 6]\").mean(),\n",
    "      'control': df.query(\"date<=@dd and d==0\").eval(\"day_of_week in [5, 6]\").mean(),\n",
    "      } for dd in df['date'].unique()\n",
    "])\n",
    "ax = daily_percent_from_weekend.set_index('date').plot(figsize=(8, 4), linewidth=4, marker='o')\n",
    "ax.tick_params(labelsize=18)\n",
    "ax.set_xlabel(\"Date\", fontsize=20)\n",
    "ax.set_ylabel(\"Proportion weekend users\", fontsize=20)\n",
    "ax.axhline(0, color='grey', alpha=0.7)\n",
    "ax.set_title(\"What proportion of the group\\nwas collected on weekends?\", fontsize=20, color='white')\n",
    "ax.legend(fontsize=20);"
   ]
  },
  {
   "cell_type": "code",
   "execution_count": 10,
   "metadata": {
    "colab": {
     "base_uri": "https://localhost:8080/",
     "height": 293
    },
    "colab_type": "code",
    "id": "IpxMHJuEejrd",
    "outputId": "f0a4dca1-7442-4857-a388-589314684a67"
   },
   "outputs": [
    {
     "data": {
      "image/png": "[encoded data removed]",
      "text/plain": [
       "<Figure size 576x288 with 1 Axes>"
      ]
     },
     "metadata": {},
     "output_type": "display_data"
    }
   ],
   "source": [
    "data_to_plot = df.groupby(['day_of_week', 'd'])['unit'].count().unstack(0) \n",
    "data_to_plot = data_to_plot.divide(data_to_plot.sum(axis=1), axis=0)\n",
    "\n",
    "ax = data_to_plot.rename(index={0: 'Control', 1: 'Treatment'},\n",
    "                        columns={0: 'Monday', 1: 'Tuesday', 2: \"Wednesday\", 3: 'Thursday', 4: \"Friday\", 5: 'Saturday', 6: 'Sunday'}) \\\n",
    "  .plot(kind='bar', stacked=True, figsize=(8, 4), colormap='coolwarm', rot=0, width=0.8)\n",
    "ax.set_ylabel(\"Share of users\", fontsize=18)\n",
    "ax.set_xlabel(\"\")\n",
    "ax.tick_params(labelsize=18)\n",
    "ax.set_title(\"Day-of-week distribution of users in each group\", fontsize=18, color='white')\n",
    "ax.legend(loc='center left', bbox_to_anchor=(1, 0.5), fontsize=20);\n"
   ]
  },
  {
   "cell_type": "code",
   "execution_count": 16,
   "metadata": {
    "colab": {
     "base_uri": "https://localhost:8080/",
     "height": 387
    },
    "colab_type": "code",
    "id": "dRiOY7Z3gUCC",
    "outputId": "5ee55e8c-45ca-414a-b74e-223513b90778"
   },
   "outputs": [
    {
     "name": "stdout",
     "output_type": "stream",
     "text": [
      "d\n",
      "0    0.256689\n",
      "1    0.217279\n",
      "Name: y0, dtype: float64\n"
     ]
    },
    {
     "data": {
      "image/png": "[encoded data removed]",
      "text/plain": [
       "<Figure size 720x360 with 1 Axes>"
      ]
     },
     "metadata": {},
     "output_type": "display_data"
    }
   ],
   "source": [
    "data_to_plot = df.groupby(['d'])['y0'].mean()\n",
    "print(data_to_plot)\n",
    "ax = data_to_plot.rename(index={0: 'Control', 1: 'Treatment'}) \\\n",
    "  .plot(kind='bar', figsize=(10, 5), colormap='coolwarm', legend=False, width=0.8, rot=0)\n",
    "ax.set_ylabel(r\"$E[Y^0]$\", fontsize=28, rotation=90)\n",
    "ax.set_xlabel(\"\", fontsize=24)\n",
    "ax.set_title(\"Average baseline outcome\\nin each group\", fontsize=24, color=\"white\")\n",
    "ax.tick_params(labelsize=24);"
   ]
  },
  {
   "cell_type": "markdown",
   "metadata": {
    "colab_type": "text",
    "id": "dMagJgef9Goo"
   },
   "source": [
    "## Removing the selection bias via perfect stratification\n",
    "\n",
    "We will use a **perfect stratification** to remove bias. This means that we will stratify the data into several subgroups (strata). \"Perfect\" means that we can put each person in the experiment into exactly the right group such that all selection bias is accounted for. \n",
    "\n",
    "With the data split into several strata, we will get a separate estimate of the ATE within each one. Then we will average together the estimates of each of the strata.\n",
    "\n",
    "Note that this approach *sometimes* removes bias. The key condition is that we know what the **strata** (or groups) in the data account for the bias. This means we need to know conceptually what they are and have data on the strata. In this case, we do have these! We know that the date determines the randomization proportions.\n",
    "\n",
    "For a detailed discussion of stratification, see chapter 4 (especially section 2) of Morgan and Winship, _Counterfactuals and Causal Inference_ (2007), which is available as a PDF from the USF library.\n",
    "\n",
    "The stratification approach relies on an alternative to the _independence assumption_. It is the _conditional (mean) independence assumption_, $$E[Y_i^t \\vert D_i, X_i = x] = E[Y_i^t \\vert X_i = x_i]$$\n",
    "\n",
    "for each potential outcome $t=0,1$ and all strata $x_i$. Another way to say this is that the (mean) independence assumption holds within each stratum. In this example case the strata could be the date, so $x_i \\in \\{0, 1, 2, \\ldots, 13\\}$.\n"
   ]
  },
  {
   "cell_type": "code",
   "execution_count": 12,
   "metadata": {
    "colab": {
     "base_uri": "https://localhost:8080/",
     "height": 554
    },
    "colab_type": "code",
    "id": "Md61f71I6kjh",
    "outputId": "d587ff2b-7cbe-40b3-aea4-6943fe5c78fb"
   },
   "outputs": [
    {
     "data": {
      "text/html": [
       "<div>\n",
       "<style scoped>\n",
       "    .dataframe tbody tr th:only-of-type {\n",
       "        vertical-align: middle;\n",
       "    }\n",
       "\n",
       "    .dataframe tbody tr th {\n",
       "        vertical-align: top;\n",
       "    }\n",
       "\n",
       "    .dataframe thead th {\n",
       "        text-align: right;\n",
       "    }\n",
       "</style>\n",
       "<table border=\"1\" class=\"dataframe\">\n",
       "  <thead>\n",
       "    <tr style=\"text-align: right;\">\n",
       "      <th></th>\n",
       "      <th>control</th>\n",
       "      <th>treatment</th>\n",
       "      <th>difference</th>\n",
       "      <th>counts</th>\n",
       "    </tr>\n",
       "    <tr>\n",
       "      <th>date</th>\n",
       "      <th></th>\n",
       "      <th></th>\n",
       "      <th></th>\n",
       "      <th></th>\n",
       "    </tr>\n",
       "  </thead>\n",
       "  <tbody>\n",
       "    <tr>\n",
       "      <th>0</th>\n",
       "      <td>0.300099</td>\n",
       "      <td>0.331908</td>\n",
       "      <td>0.031809</td>\n",
       "      <td>100203</td>\n",
       "    </tr>\n",
       "    <tr>\n",
       "      <th>1</th>\n",
       "      <td>0.301405</td>\n",
       "      <td>0.330396</td>\n",
       "      <td>0.028992</td>\n",
       "      <td>100112</td>\n",
       "    </tr>\n",
       "    <tr>\n",
       "      <th>2</th>\n",
       "      <td>0.297899</td>\n",
       "      <td>0.332450</td>\n",
       "      <td>0.034551</td>\n",
       "      <td>100133</td>\n",
       "    </tr>\n",
       "    <tr>\n",
       "      <th>3</th>\n",
       "      <td>0.299512</td>\n",
       "      <td>0.331206</td>\n",
       "      <td>0.031695</td>\n",
       "      <td>100240</td>\n",
       "    </tr>\n",
       "    <tr>\n",
       "      <th>4</th>\n",
       "      <td>0.299449</td>\n",
       "      <td>0.329753</td>\n",
       "      <td>0.030304</td>\n",
       "      <td>100326</td>\n",
       "    </tr>\n",
       "    <tr>\n",
       "      <th>5</th>\n",
       "      <td>0.099208</td>\n",
       "      <td>0.129531</td>\n",
       "      <td>0.030323</td>\n",
       "      <td>100207</td>\n",
       "    </tr>\n",
       "    <tr>\n",
       "      <th>6</th>\n",
       "      <td>0.100776</td>\n",
       "      <td>0.126991</td>\n",
       "      <td>0.026216</td>\n",
       "      <td>99523</td>\n",
       "    </tr>\n",
       "    <tr>\n",
       "      <th>7</th>\n",
       "      <td>0.302915</td>\n",
       "      <td>0.326871</td>\n",
       "      <td>0.023956</td>\n",
       "      <td>100172</td>\n",
       "    </tr>\n",
       "    <tr>\n",
       "      <th>8</th>\n",
       "      <td>0.299308</td>\n",
       "      <td>0.330724</td>\n",
       "      <td>0.031416</td>\n",
       "      <td>100220</td>\n",
       "    </tr>\n",
       "    <tr>\n",
       "      <th>9</th>\n",
       "      <td>0.300181</td>\n",
       "      <td>0.333721</td>\n",
       "      <td>0.033540</td>\n",
       "      <td>100021</td>\n",
       "    </tr>\n",
       "    <tr>\n",
       "      <th>10</th>\n",
       "      <td>0.297856</td>\n",
       "      <td>0.330097</td>\n",
       "      <td>0.032241</td>\n",
       "      <td>99685</td>\n",
       "    </tr>\n",
       "    <tr>\n",
       "      <th>11</th>\n",
       "      <td>0.298963</td>\n",
       "      <td>0.330346</td>\n",
       "      <td>0.031382</td>\n",
       "      <td>99714</td>\n",
       "    </tr>\n",
       "    <tr>\n",
       "      <th>12</th>\n",
       "      <td>0.099890</td>\n",
       "      <td>0.130285</td>\n",
       "      <td>0.030395</td>\n",
       "      <td>99985</td>\n",
       "    </tr>\n",
       "    <tr>\n",
       "      <th>13</th>\n",
       "      <td>0.100138</td>\n",
       "      <td>0.130022</td>\n",
       "      <td>0.029883</td>\n",
       "      <td>100258</td>\n",
       "    </tr>\n",
       "  </tbody>\n",
       "</table>\n",
       "</div>"
      ],
      "text/plain": [
       "       control  treatment  difference  counts\n",
       "date                                         \n",
       "0     0.300099   0.331908    0.031809  100203\n",
       "1     0.301405   0.330396    0.028992  100112\n",
       "2     0.297899   0.332450    0.034551  100133\n",
       "3     0.299512   0.331206    0.031695  100240\n",
       "4     0.299449   0.329753    0.030304  100326\n",
       "5     0.099208   0.129531    0.030323  100207\n",
       "6     0.100776   0.126991    0.026216   99523\n",
       "7     0.302915   0.326871    0.023956  100172\n",
       "8     0.299308   0.330724    0.031416  100220\n",
       "9     0.300181   0.333721    0.033540  100021\n",
       "10    0.297856   0.330097    0.032241   99685\n",
       "11    0.298963   0.330346    0.031382   99714\n",
       "12    0.099890   0.130285    0.030395   99985\n",
       "13    0.100138   0.130022    0.029883  100258"
      ]
     },
     "metadata": {},
     "output_type": "display_data"
    },
    {
     "name": "stdout",
     "output_type": "stream",
     "text": [
      "\n",
      "Estimate of ATE (perfect stratification) = 0.03048\n"
     ]
    }
   ],
   "source": [
    "# Calculate an estimate of the ATE for each day of the week.\n",
    "STRATA_VARIABLE = 'date'\n",
    "conversion_rates_by_strata = df.groupby([STRATA_VARIABLE, 'd'])['y'].mean().unstack(-1)\n",
    "conversion_rates_by_strata.columns = ['control', 'treatment']\n",
    "conversion_rates_by_strata['difference'] = conversion_rates_by_strata.eval(\"treatment - control\")\n",
    "\n",
    "# Calculate the number of units in each stratum\n",
    "counts_by_strata = df.groupby([STRATA_VARIABLE])['y'].count()\n",
    "\n",
    "conversion_rates_by_strata['counts'] = counts_by_strata\n",
    "\n",
    "display(conversion_rates_by_strata)\n",
    "\n",
    "# Calculate the *weighted-average* of the estimates.\n",
    "# Note that in this very simple case we would get an unbiased estimate even\n",
    "# if we did not weight the average. However, the weighted average has two advantages:\n",
    "# (1) it gives a more precise estimate and a test with more power, and (2)\n",
    "# if the treatment effects vary by strata it is still unbiased for the ATE.\n",
    "print(\"\\nEstimate of ATE (perfect stratification) = {:.5f}\".format(\n",
    "      (conversion_rates_by_strata.eval(\"difference * counts\").sum() / conversion_rates_by_strata['counts'].sum()))\n",
    ")"
   ]
  },
  {
   "cell_type": "markdown",
   "metadata": {},
   "source": [
    "# Modify the “perfect stratification\" analysis, which uses the date of visit to stratify. If we stratify by the day of the week, do we get an unbiased estimate of the ATE? Why does this work?"
   ]
  },
  {
   "cell_type": "code",
   "execution_count": 24,
   "metadata": {},
   "outputs": [
    {
     "data": {
      "text/html": [
       "<div>\n",
       "<style scoped>\n",
       "    .dataframe tbody tr th:only-of-type {\n",
       "        vertical-align: middle;\n",
       "    }\n",
       "\n",
       "    .dataframe tbody tr th {\n",
       "        vertical-align: top;\n",
       "    }\n",
       "\n",
       "    .dataframe thead th {\n",
       "        text-align: right;\n",
       "    }\n",
       "</style>\n",
       "<table border=\"1\" class=\"dataframe\">\n",
       "  <thead>\n",
       "    <tr style=\"text-align: right;\">\n",
       "      <th></th>\n",
       "      <th>control</th>\n",
       "      <th>treatment</th>\n",
       "      <th>difference</th>\n",
       "      <th>counts</th>\n",
       "    </tr>\n",
       "    <tr>\n",
       "      <th>day_of_week</th>\n",
       "      <th></th>\n",
       "      <th></th>\n",
       "      <th></th>\n",
       "      <th></th>\n",
       "    </tr>\n",
       "  </thead>\n",
       "  <tbody>\n",
       "    <tr>\n",
       "      <th>0</th>\n",
       "      <td>0.301070</td>\n",
       "      <td>0.327322</td>\n",
       "      <td>0.026252</td>\n",
       "      <td>200375</td>\n",
       "    </tr>\n",
       "    <tr>\n",
       "      <th>1</th>\n",
       "      <td>0.300682</td>\n",
       "      <td>0.330695</td>\n",
       "      <td>0.030012</td>\n",
       "      <td>200332</td>\n",
       "    </tr>\n",
       "    <tr>\n",
       "      <th>2</th>\n",
       "      <td>0.298687</td>\n",
       "      <td>0.333607</td>\n",
       "      <td>0.034921</td>\n",
       "      <td>200154</td>\n",
       "    </tr>\n",
       "    <tr>\n",
       "      <th>3</th>\n",
       "      <td>0.298941</td>\n",
       "      <td>0.330199</td>\n",
       "      <td>0.031258</td>\n",
       "      <td>199925</td>\n",
       "    </tr>\n",
       "    <tr>\n",
       "      <th>4</th>\n",
       "      <td>0.299283</td>\n",
       "      <td>0.330293</td>\n",
       "      <td>0.031010</td>\n",
       "      <td>200040</td>\n",
       "    </tr>\n",
       "    <tr>\n",
       "      <th>5</th>\n",
       "      <td>0.099550</td>\n",
       "      <td>0.129907</td>\n",
       "      <td>0.030357</td>\n",
       "      <td>200192</td>\n",
       "    </tr>\n",
       "    <tr>\n",
       "      <th>6</th>\n",
       "      <td>0.100456</td>\n",
       "      <td>0.128512</td>\n",
       "      <td>0.028056</td>\n",
       "      <td>199781</td>\n",
       "    </tr>\n",
       "  </tbody>\n",
       "</table>\n",
       "</div>"
      ],
      "text/plain": [
       "              control  treatment  difference  counts\n",
       "day_of_week                                         \n",
       "0            0.301070   0.327322    0.026252  200375\n",
       "1            0.300682   0.330695    0.030012  200332\n",
       "2            0.298687   0.333607    0.034921  200154\n",
       "3            0.298941   0.330199    0.031258  199925\n",
       "4            0.299283   0.330293    0.031010  200040\n",
       "5            0.099550   0.129907    0.030357  200192\n",
       "6            0.100456   0.128512    0.028056  199781"
      ]
     },
     "metadata": {},
     "output_type": "display_data"
    },
    {
     "name": "stdout",
     "output_type": "stream",
     "text": [
      "\n",
      "Estimate of ATE (perfect stratification) = 0.03027\n"
     ]
    }
   ],
   "source": [
    "# Calculate an estimate of the ATE for each day of the week.\n",
    "STRATA_VARIABLE = 'day_of_week'\n",
    "conversion_rates_by_strata = df.groupby([STRATA_VARIABLE, 'd'])['y'].mean().unstack(-1)\n",
    "conversion_rates_by_strata.columns = ['control', 'treatment']\n",
    "conversion_rates_by_strata['difference'] = conversion_rates_by_strata.eval(\"treatment - control\")\n",
    "\n",
    "# Calculate the number of units in each stratum\n",
    "counts_by_strata = df.groupby([STRATA_VARIABLE])['y'].count()\n",
    "\n",
    "conversion_rates_by_strata['counts'] = counts_by_strata\n",
    "\n",
    "display(conversion_rates_by_strata)\n",
    "\n",
    "# Calculate the *weighted-average* of the estimates.\n",
    "# Note that in this very simple case we would get an unbiased estimate even\n",
    "# if we did not weight the average. However, the weighted average has two advantages:\n",
    "# (1) it gives a more precise estimate and a test with more power, and (2)\n",
    "# if the treatment effects vary by strata it is still unbiased for the ATE.\n",
    "print(\"\\nEstimate of ATE (perfect stratification) = {:.5f}\".format(\n",
    "      (conversion_rates_by_strata.eval(\"difference * counts\").sum() / conversion_rates_by_strata['counts'].sum()))\n",
    ")"
   ]
  },
  {
   "cell_type": "markdown",
   "metadata": {
    "colab_type": "text",
    "id": "jviEg3uk6k6p"
   },
   "source": [
    "## Regression as a way to implement a stratification\n",
    "\n",
    "Regression can be a convenient tool to implement a stratification. The example below shows we get the correct result by including a dummy variable for each day of the week. The estimate is also near identical to the one from the perfect stratification.\n",
    "\n",
    "_Note that by specifying the regression this way, we have implicitly assumed that the ATE is the same within each strata. This assumption is a substantive one. It happens to hold in this example, but it is not always true. The regression approach can give a biased estimate in those cases._\n",
    "\n",
    "For a discussion of regression and stratification, see chapter 5 (especially section 1) of Morgan and Winship, _Counterfactuals and Causal Inference_ (2007)."
   ]
  },
  {
   "cell_type": "code",
   "execution_count": 13,
   "metadata": {
    "colab": {
     "base_uri": "https://localhost:8080/",
     "height": 694
    },
    "colab_type": "code",
    "id": "2Fysbyy9LZ5x",
    "outputId": "3b608082-3113-444b-f689-1533763d9219"
   },
   "outputs": [
    {
     "name": "stderr",
     "output_type": "stream",
     "text": [
      "/home/aboli/anaconda3/lib/python3.7/site-packages/statsmodels/compat/pandas.py:49: FutureWarning: The Panel class is removed from pandas. Accessing it from the top-level namespace will also be removed in the next version\n",
      "  data_klasses = (pandas.Series, pandas.DataFrame, pandas.Panel)\n"
     ]
    },
    {
     "name": "stdout",
     "output_type": "stream",
     "text": [
      "Estimate of ATE = 0.03007\n",
      "                            OLS Regression Results                            \n",
      "==============================================================================\n",
      "Dep. Variable:             Conversion   R-squared:                       0.041\n",
      "Model:                            OLS   Adj. R-squared:                  0.041\n",
      "Method:                 Least Squares   F-statistic:                     5891.\n",
      "Date:                Sat, 22 Feb 2020   Prob (F-statistic):               0.00\n",
      "Time:                        15:02:48   Log-Likelihood:            -7.9089e+05\n",
      "No. Observations:             1400799   AIC:                         1.582e+06\n",
      "Df Residuals:                 1400784   BIC:                         1.582e+06\n",
      "Df Model:                          14                                         \n",
      "Covariance Type:                  HC1                                         \n",
      "=================================================================================\n",
      "                    coef    std err          z      P>|z|      [0.025      0.975]\n",
      "---------------------------------------------------------------------------------\n",
      "Intercept         0.3002      0.001    206.983      0.000       0.297       0.303\n",
      "C(date)[T.1]      0.0012      0.002      0.569      0.570      -0.003       0.005\n",
      "C(date)[T.2]     -0.0021      0.002     -1.008      0.313      -0.006       0.002\n",
      "C(date)[T.3]     -0.0006      0.002     -0.288      0.773      -0.005       0.003\n",
      "C(date)[T.4]     -0.0007      0.002     -0.353      0.724      -0.005       0.003\n",
      "C(date)[T.5]     -0.2009      0.002   -111.739      0.000      -0.204      -0.197\n",
      "C(date)[T.6]     -0.2013      0.002   -111.875      0.000      -0.205      -0.198\n",
      "C(date)[T.7]     -0.0003      0.002     -0.153      0.878      -0.004       0.004\n",
      "C(date)[T.8]     -0.0002      0.002     -0.097      0.923      -0.004       0.004\n",
      "C(date)[T.9]      0.0017      0.002      0.823      0.411      -0.002       0.006\n",
      "C(date)[T.10]    -0.0013      0.002     -0.597      0.551      -0.005       0.003\n",
      "C(date)[T.11]    -0.0006      0.002     -0.267      0.790      -0.005       0.004\n",
      "C(date)[T.12]    -0.2001      0.002   -111.236      0.000      -0.204      -0.197\n",
      "C(date)[T.13]    -0.2001      0.002   -111.224      0.000      -0.204      -0.197\n",
      "d                 0.0301      0.001     36.350      0.000       0.028       0.032\n",
      "==============================================================================\n",
      "Omnibus:                   256857.501   Durbin-Watson:                   1.999\n",
      "Prob(Omnibus):                  0.000   Jarque-Bera (JB):           284563.273\n",
      "Skew:                           1.044   Prob(JB):                         0.00\n",
      "Kurtosis:                       2.284   Cond. No.                         16.1\n",
      "==============================================================================\n",
      "\n",
      "Warnings:\n",
      "[1] Standard Errors are heteroscedasticity robust (HC1)\n"
     ]
    }
   ],
   "source": [
    "# Compute a regression of the outcome on the treatment indicator\n",
    "# and dummy variables for each date.\n",
    "# Use HC1 standard error estimator because binary dependent variable!\n",
    "r = sfa.ols(\"y ~ d + C(date)\", df).fit(cov_type='HC1')\n",
    "\n",
    "print(\"Estimate of ATE = {:.5f}\".format(r.params['d']))\n",
    "print(r.summary(yname=\"Conversion\"))"
   ]
  },
  {
   "cell_type": "markdown",
   "metadata": {},
   "source": [
    "# We can also use regression to implement a stratification. First, run a simple regression of Y on D and confirm that you get the same naive estimate of the ATE. Then add ‘day_of_week‘ as a control variable. You need to use the ‘C()‘ dummy variable operator. Show that this gives you an unbiased estimate."
   ]
  },
  {
   "cell_type": "code",
   "execution_count": 29,
   "metadata": {},
   "outputs": [
    {
     "name": "stdout",
     "output_type": "stream",
     "text": [
      "Estimate of ATE = 0.03019\n",
      "                            OLS Regression Results                            \n",
      "==============================================================================\n",
      "Dep. Variable:             Conversion   R-squared:                       0.041\n",
      "Model:                            OLS   Adj. R-squared:                  0.041\n",
      "Method:                 Least Squares   F-statistic:                 1.177e+04\n",
      "Date:                Sat, 22 Feb 2020   Prob (F-statistic):               0.00\n",
      "Time:                        16:10:47   Log-Likelihood:            -7.9090e+05\n",
      "No. Observations:             1400799   AIC:                         1.582e+06\n",
      "Df Residuals:                 1400791   BIC:                         1.582e+06\n",
      "Df Model:                           7                                         \n",
      "Covariance Type:                  HC1                                         \n",
      "=======================================================================================\n",
      "                          coef    std err          z      P>|z|      [0.025      0.975]\n",
      "---------------------------------------------------------------------------------------\n",
      "Intercept               0.3000      0.001    285.397      0.000       0.298       0.302\n",
      "C(day_of_week)[T.1]     0.0006      0.001      0.440      0.660      -0.002       0.004\n",
      "C(day_of_week)[T.2] -1.133e-05      0.001     -0.008      0.994      -0.003       0.003\n",
      "C(day_of_week)[T.3]    -0.0008      0.001     -0.520      0.603      -0.004       0.002\n",
      "C(day_of_week)[T.4]    -0.0005      0.001     -0.330      0.741      -0.003       0.002\n",
      "C(day_of_week)[T.5]    -0.2004      0.001   -158.681      0.000      -0.203      -0.198\n",
      "C(day_of_week)[T.6]    -0.2006      0.001   -158.779      0.000      -0.203      -0.198\n",
      "d                       0.0302      0.001     39.032      0.000       0.029       0.032\n",
      "==============================================================================\n",
      "Omnibus:                   256869.668   Durbin-Watson:                   1.999\n",
      "Prob(Omnibus):                  0.000   Jarque-Bera (JB):           284566.395\n",
      "Skew:                           1.044   Prob(JB):                         0.00\n",
      "Kurtosis:                       2.284   Cond. No.                         8.35\n",
      "==============================================================================\n",
      "\n",
      "Warnings:\n",
      "[1] Standard Errors are heteroscedasticity robust (HC1)\n"
     ]
    }
   ],
   "source": [
    "# Compute a regression of the outcome on the treatment indicator\n",
    "# and dummy variables for each date.\n",
    "# Use HC1 standard error estimator because binary dependent variable!\n",
    "r = sfa.ols(\"y ~ d + C(day_of_week)\", df).fit(cov_type='HC1')\n",
    "\n",
    "print(\"Estimate of ATE = {:.5f}\".format(r.params['d']))\n",
    "print(r.summary(yname=\"Conversion\"))"
   ]
  },
  {
   "cell_type": "code",
   "execution_count": 25,
   "metadata": {},
   "outputs": [
    {
     "name": "stdout",
     "output_type": "stream",
     "text": [
      "Estimate of NATE = -0.01117\n"
     ]
    }
   ],
   "source": [
    "r = sfa.ols(\"y ~ d\", df).fit(cov_type='HC1')\n",
    "print(\"Estimate of NATE = {:.5f}\".format(r.params['d']))"
   ]
  },
  {
   "cell_type": "code",
   "execution_count": 28,
   "metadata": {},
   "outputs": [
    {
     "data": {
      "text/plain": [
       "-0.011173061644001642"
      ]
     },
     "execution_count": 28,
     "metadata": {},
     "output_type": "execute_result"
    }
   ],
   "source": [
    "NATE = df.query('d == 1')['y1'].mean() - df.query('d == 0')['y0'].mean()\n",
    "NATE"
   ]
  },
  {
   "cell_type": "code",
   "execution_count": 20,
   "metadata": {},
   "outputs": [
    {
     "data": {
      "text/plain": [
       "0.03"
      ]
     },
     "execution_count": 20,
     "metadata": {},
     "output_type": "execute_result"
    }
   ],
   "source": [
    "round(df['y1'].mean() - df['y0'].mean(),2)"
   ]
  },
  {
   "cell_type": "markdown",
   "metadata": {},
   "source": [
    "# Note that the data set also has a field for ‘hour_of_day‘, which ranges over 1,2,3,...,24. This is the hour that the user visited the site. Does doing a perfect stratification analysis by the hour of the day give you an unbiased estimate of the ATE? Show and explain your answer."
   ]
  },
  {
   "cell_type": "code",
   "execution_count": 31,
   "metadata": {},
   "outputs": [
    {
     "name": "stdout",
     "output_type": "stream",
     "text": [
      "Estimate of ATE = -0.01117\n",
      "                            OLS Regression Results                            \n",
      "==============================================================================\n",
      "Dep. Variable:             Conversion   R-squared:                       0.000\n",
      "Model:                            OLS   Adj. R-squared:                  0.000\n",
      "Method:                 Least Squares   F-statistic:                     10.48\n",
      "Date:                Sat, 22 Feb 2020   Prob (F-statistic):           3.07e-38\n",
      "Time:                        17:54:58   Log-Likelihood:            -8.2044e+05\n",
      "No. Observations:             1400799   AIC:                         1.641e+06\n",
      "Df Residuals:                 1400775   BIC:                         1.641e+06\n",
      "Df Model:                          23                                         \n",
      "Covariance Type:                  HC1                                         \n",
      "========================================================================================\n",
      "                           coef    std err          z      P>|z|      [0.025      0.975]\n",
      "----------------------------------------------------------------------------------------\n",
      "Intercept                0.2573      0.002    144.385      0.000       0.254       0.261\n",
      "C(hour_of_day)[T.2]   7.599e-05      0.002      0.030      0.976      -0.005       0.005\n",
      "C(hour_of_day)[T.3]     -0.0010      0.002     -0.403      0.687      -0.006       0.004\n",
      "C(hour_of_day)[T.4]     -0.0003      0.002     -0.104      0.917      -0.005       0.005\n",
      "C(hour_of_day)[T.5]     -0.0001      0.002     -0.060      0.952      -0.005       0.005\n",
      "C(hour_of_day)[T.6]     -0.0028      0.002     -1.124      0.261      -0.008       0.002\n",
      "C(hour_of_day)[T.7]     -0.0025      0.002     -0.997      0.319      -0.007       0.002\n",
      "C(hour_of_day)[T.8]      0.0026      0.002      1.053      0.293      -0.002       0.008\n",
      "C(hour_of_day)[T.9]   5.058e-05      0.002      0.020      0.984      -0.005       0.005\n",
      "C(hour_of_day)[T.10]     0.0011      0.002      0.457      0.648      -0.004       0.006\n",
      "C(hour_of_day)[T.11]     0.0019      0.002      0.750      0.453      -0.003       0.007\n",
      "C(hour_of_day)[T.12]    -0.0007      0.002     -0.296      0.768      -0.006       0.004\n",
      "C(hour_of_day)[T.13]    -0.0031      0.002     -1.227      0.220      -0.008       0.002\n",
      "C(hour_of_day)[T.14]    -0.0045      0.002     -1.816      0.069      -0.009       0.000\n",
      "C(hour_of_day)[T.15]    -0.0002      0.002     -0.061      0.951      -0.005       0.005\n",
      "C(hour_of_day)[T.16]     0.0028      0.002      1.119      0.263      -0.002       0.008\n",
      "C(hour_of_day)[T.17]    -0.0001      0.002     -0.046      0.964      -0.005       0.005\n",
      "C(hour_of_day)[T.18]    -0.0041      0.002     -1.652      0.099      -0.009       0.001\n",
      "C(hour_of_day)[T.19]    -0.0014      0.002     -0.581      0.561      -0.006       0.003\n",
      "C(hour_of_day)[T.20]    -0.0039      0.002     -1.552      0.121      -0.009       0.001\n",
      "C(hour_of_day)[T.21]     0.0016      0.002      0.650      0.516      -0.003       0.007\n",
      "C(hour_of_day)[T.22]    -0.0004      0.002     -0.149      0.882      -0.005       0.005\n",
      "C(hour_of_day)[T.23]     0.0017      0.002      0.684      0.494      -0.003       0.007\n",
      "d                       -0.0112      0.001    -14.472      0.000      -0.013      -0.010\n",
      "==============================================================================\n",
      "Omnibus:                   276582.575   Durbin-Watson:                   1.919\n",
      "Prob(Omnibus):                  0.000   Jarque-Bera (JB):           330819.160\n",
      "Skew:                           1.137   Prob(JB):                         0.00\n",
      "Kurtosis:                       2.293   Cond. No.                         25.5\n",
      "==============================================================================\n",
      "\n",
      "Warnings:\n",
      "[1] Standard Errors are heteroscedasticity robust (HC1)\n"
     ]
    }
   ],
   "source": [
    "r = sfa.ols(\"y ~ d + C(hour_of_day)\", df).fit(cov_type='HC1')\n",
    "\n",
    "print(\"Estimate of ATE = {:.5f}\".format(r.params['d']))\n",
    "print(r.summary(yname=\"Conversion\"))"
   ]
  },
  {
   "cell_type": "code",
   "execution_count": 32,
   "metadata": {},
   "outputs": [
    {
     "data": {
      "text/html": [
       "<div>\n",
       "<style scoped>\n",
       "    .dataframe tbody tr th:only-of-type {\n",
       "        vertical-align: middle;\n",
       "    }\n",
       "\n",
       "    .dataframe tbody tr th {\n",
       "        vertical-align: top;\n",
       "    }\n",
       "\n",
       "    .dataframe thead th {\n",
       "        text-align: right;\n",
       "    }\n",
       "</style>\n",
       "<table border=\"1\" class=\"dataframe\">\n",
       "  <thead>\n",
       "    <tr style=\"text-align: right;\">\n",
       "      <th></th>\n",
       "      <th>control</th>\n",
       "      <th>treatment</th>\n",
       "      <th>difference</th>\n",
       "      <th>counts</th>\n",
       "    </tr>\n",
       "    <tr>\n",
       "      <th>hour_of_day</th>\n",
       "      <th></th>\n",
       "      <th></th>\n",
       "      <th></th>\n",
       "      <th></th>\n",
       "    </tr>\n",
       "  </thead>\n",
       "  <tbody>\n",
       "    <tr>\n",
       "      <th>1</th>\n",
       "      <td>0.256202</td>\n",
       "      <td>0.248167</td>\n",
       "      <td>-0.008035</td>\n",
       "      <td>60946</td>\n",
       "    </tr>\n",
       "    <tr>\n",
       "      <th>2</th>\n",
       "      <td>0.257548</td>\n",
       "      <td>0.245752</td>\n",
       "      <td>-0.011796</td>\n",
       "      <td>60914</td>\n",
       "    </tr>\n",
       "    <tr>\n",
       "      <th>3</th>\n",
       "      <td>0.258780</td>\n",
       "      <td>0.240200</td>\n",
       "      <td>-0.018579</td>\n",
       "      <td>61001</td>\n",
       "    </tr>\n",
       "    <tr>\n",
       "      <th>4</th>\n",
       "      <td>0.257286</td>\n",
       "      <td>0.245275</td>\n",
       "      <td>-0.012011</td>\n",
       "      <td>60726</td>\n",
       "    </tr>\n",
       "    <tr>\n",
       "      <th>5</th>\n",
       "      <td>0.255323</td>\n",
       "      <td>0.249406</td>\n",
       "      <td>-0.005917</td>\n",
       "      <td>60594</td>\n",
       "    </tr>\n",
       "    <tr>\n",
       "      <th>6</th>\n",
       "      <td>0.256004</td>\n",
       "      <td>0.240294</td>\n",
       "      <td>-0.015710</td>\n",
       "      <td>61030</td>\n",
       "    </tr>\n",
       "    <tr>\n",
       "      <th>7</th>\n",
       "      <td>0.254987</td>\n",
       "      <td>0.243200</td>\n",
       "      <td>-0.011788</td>\n",
       "      <td>60828</td>\n",
       "    </tr>\n",
       "    <tr>\n",
       "      <th>8</th>\n",
       "      <td>0.260981</td>\n",
       "      <td>0.246604</td>\n",
       "      <td>-0.014377</td>\n",
       "      <td>60799</td>\n",
       "    </tr>\n",
       "    <tr>\n",
       "      <th>9</th>\n",
       "      <td>0.256202</td>\n",
       "      <td>0.248308</td>\n",
       "      <td>-0.007894</td>\n",
       "      <td>60644</td>\n",
       "    </tr>\n",
       "    <tr>\n",
       "      <th>10</th>\n",
       "      <td>0.258786</td>\n",
       "      <td>0.246485</td>\n",
       "      <td>-0.012302</td>\n",
       "      <td>60871</td>\n",
       "    </tr>\n",
       "    <tr>\n",
       "      <th>11</th>\n",
       "      <td>0.257567</td>\n",
       "      <td>0.251020</td>\n",
       "      <td>-0.006547</td>\n",
       "      <td>60737</td>\n",
       "    </tr>\n",
       "    <tr>\n",
       "      <th>12</th>\n",
       "      <td>0.256715</td>\n",
       "      <td>0.244992</td>\n",
       "      <td>-0.011723</td>\n",
       "      <td>61211</td>\n",
       "    </tr>\n",
       "    <tr>\n",
       "      <th>13</th>\n",
       "      <td>0.252872</td>\n",
       "      <td>0.245656</td>\n",
       "      <td>-0.007216</td>\n",
       "      <td>61047</td>\n",
       "    </tr>\n",
       "    <tr>\n",
       "      <th>14</th>\n",
       "      <td>0.254169</td>\n",
       "      <td>0.238825</td>\n",
       "      <td>-0.015345</td>\n",
       "      <td>60686</td>\n",
       "    </tr>\n",
       "    <tr>\n",
       "      <th>15</th>\n",
       "      <td>0.255629</td>\n",
       "      <td>0.248829</td>\n",
       "      <td>-0.006799</td>\n",
       "      <td>61131</td>\n",
       "    </tr>\n",
       "    <tr>\n",
       "      <th>16</th>\n",
       "      <td>0.259590</td>\n",
       "      <td>0.249783</td>\n",
       "      <td>-0.009806</td>\n",
       "      <td>60891</td>\n",
       "    </tr>\n",
       "    <tr>\n",
       "      <th>17</th>\n",
       "      <td>0.255093</td>\n",
       "      <td>0.250000</td>\n",
       "      <td>-0.005093</td>\n",
       "      <td>60954</td>\n",
       "    </tr>\n",
       "    <tr>\n",
       "      <th>18</th>\n",
       "      <td>0.252333</td>\n",
       "      <td>0.243579</td>\n",
       "      <td>-0.008753</td>\n",
       "      <td>61020</td>\n",
       "    </tr>\n",
       "    <tr>\n",
       "      <th>19</th>\n",
       "      <td>0.256285</td>\n",
       "      <td>0.243739</td>\n",
       "      <td>-0.012547</td>\n",
       "      <td>61094</td>\n",
       "    </tr>\n",
       "    <tr>\n",
       "      <th>20</th>\n",
       "      <td>0.256112</td>\n",
       "      <td>0.236955</td>\n",
       "      <td>-0.019157</td>\n",
       "      <td>61370</td>\n",
       "    </tr>\n",
       "    <tr>\n",
       "      <th>21</th>\n",
       "      <td>0.260223</td>\n",
       "      <td>0.245094</td>\n",
       "      <td>-0.015129</td>\n",
       "      <td>60865</td>\n",
       "    </tr>\n",
       "    <tr>\n",
       "      <th>22</th>\n",
       "      <td>0.257447</td>\n",
       "      <td>0.244619</td>\n",
       "      <td>-0.012827</td>\n",
       "      <td>60864</td>\n",
       "    </tr>\n",
       "    <tr>\n",
       "      <th>23</th>\n",
       "      <td>0.257731</td>\n",
       "      <td>0.250219</td>\n",
       "      <td>-0.007512</td>\n",
       "      <td>60576</td>\n",
       "    </tr>\n",
       "  </tbody>\n",
       "</table>\n",
       "</div>"
      ],
      "text/plain": [
       "              control  treatment  difference  counts\n",
       "hour_of_day                                         \n",
       "1            0.256202   0.248167   -0.008035   60946\n",
       "2            0.257548   0.245752   -0.011796   60914\n",
       "3            0.258780   0.240200   -0.018579   61001\n",
       "4            0.257286   0.245275   -0.012011   60726\n",
       "5            0.255323   0.249406   -0.005917   60594\n",
       "6            0.256004   0.240294   -0.015710   61030\n",
       "7            0.254987   0.243200   -0.011788   60828\n",
       "8            0.260981   0.246604   -0.014377   60799\n",
       "9            0.256202   0.248308   -0.007894   60644\n",
       "10           0.258786   0.246485   -0.012302   60871\n",
       "11           0.257567   0.251020   -0.006547   60737\n",
       "12           0.256715   0.244992   -0.011723   61211\n",
       "13           0.252872   0.245656   -0.007216   61047\n",
       "14           0.254169   0.238825   -0.015345   60686\n",
       "15           0.255629   0.248829   -0.006799   61131\n",
       "16           0.259590   0.249783   -0.009806   60891\n",
       "17           0.255093   0.250000   -0.005093   60954\n",
       "18           0.252333   0.243579   -0.008753   61020\n",
       "19           0.256285   0.243739   -0.012547   61094\n",
       "20           0.256112   0.236955   -0.019157   61370\n",
       "21           0.260223   0.245094   -0.015129   60865\n",
       "22           0.257447   0.244619   -0.012827   60864\n",
       "23           0.257731   0.250219   -0.007512   60576"
      ]
     },
     "metadata": {},
     "output_type": "display_data"
    },
    {
     "name": "stdout",
     "output_type": "stream",
     "text": [
      "\n",
      "Estimate of ATE (perfect stratification) = -0.01117\n"
     ]
    }
   ],
   "source": [
    "# Calculate an estimate of the ATE for each day of the week.\n",
    "STRATA_VARIABLE = 'hour_of_day'\n",
    "conversion_rates_by_strata = df.groupby([STRATA_VARIABLE, 'd'])['y'].mean().unstack(-1)\n",
    "conversion_rates_by_strata.columns = ['control', 'treatment']\n",
    "conversion_rates_by_strata['difference'] = conversion_rates_by_strata.eval(\"treatment - control\")\n",
    "\n",
    "# Calculate the number of units in each stratum\n",
    "counts_by_strata = df.groupby([STRATA_VARIABLE])['y'].count()\n",
    "\n",
    "conversion_rates_by_strata['counts'] = counts_by_strata\n",
    "\n",
    "display(conversion_rates_by_strata)\n",
    "\n",
    "# Calculate the *weighted-average* of the estimates.\n",
    "# Note that in this very simple case we would get an unbiased estimate even\n",
    "# if we did not weight the average. However, the weighted average has two advantages:\n",
    "# (1) it gives a more precise estimate and a test with more power, and (2)\n",
    "# if the treatment effects vary by strata it is still unbiased for the ATE.\n",
    "print(\"\\nEstimate of ATE (perfect stratification) = {:.5f}\".format(\n",
    "      (conversion_rates_by_strata.eval(\"difference * counts\").sum() / conversion_rates_by_strata['counts'].sum()))\n",
    ")"
   ]
  },
  {
   "cell_type": "code",
   "execution_count": 73,
   "metadata": {},
   "outputs": [
    {
     "data": {
      "text/plain": [
       "<matplotlib.axes._subplots.AxesSubplot at 0x7fc4805bc450>"
      ]
     },
     "execution_count": 73,
     "metadata": {},
     "output_type": "execute_result"
    },
    {
     "data": {
      "image/png": "[encoded data removed]",
      "text/plain": [
       "<Figure size 1008x432 with 1 Axes>"
      ]
     },
     "metadata": {},
     "output_type": "display_data"
    }
   ],
   "source": [
    "round(df.groupby(['d', 'date'])['y0'].mean(),2).unstack(0).plot(kind = 'bar', figsize = (14,6))"
   ]
  },
  {
   "cell_type": "code",
   "execution_count": 76,
   "metadata": {},
   "outputs": [
    {
     "data": {
      "text/plain": [
       "Text(0, 0.5, 'E[Y0]')"
      ]
     },
     "execution_count": 76,
     "metadata": {},
     "output_type": "execute_result"
    },
    {
     "data": {
      "image/png": "[encoded data removed]",
      "text/plain": [
       "<Figure size 1008x432 with 1 Axes>"
      ]
     },
     "metadata": {},
     "output_type": "display_data"
    }
   ],
   "source": [
    "round(df.groupby(['d', 'day_of_week'])['y0'].mean(),2).unstack(0).plot(kind = 'bar', figsize = (14,6))\n",
    "plt.ylabel('E[Y0]')"
   ]
  },
  {
   "cell_type": "code",
   "execution_count": 77,
   "metadata": {},
   "outputs": [
    {
     "data": {
      "text/plain": [
       "Text(0, 0.5, 'E[Y0]')"
      ]
     },
     "execution_count": 77,
     "metadata": {},
     "output_type": "execute_result"
    },
    {
     "data": {
      "image/png": "[encoded data removed]",
      "text/plain": [
       "<Figure size 1008x432 with 1 Axes>"
      ]
     },
     "metadata": {},
     "output_type": "display_data"
    }
   ],
   "source": [
    "round(df.groupby(['d', 'hour_of_day'])['y0'].mean(),2).unstack(0).plot(kind = 'bar', figsize = (14,6))\n",
    "plt.ylabel('E[Y0]')"
   ]
  },
  {
   "cell_type": "markdown",
   "metadata": {},
   "source": [
    "### Modify the data-generating process so that the treatment effect also varies by the day of the week. Let’s imagine that since weekend visitors are less likely to convert they are generally less interested, so they also have a lower treatment effect. To make this very stark set the treatment effect to 0.005 on the weekend and 0.10 on weekdays. Implementing this in the DGP looks very similar to the conversion rate weekly cyclicality. You can adapt the function ‘daily_conversion_rates‘ and be sure to change the ‘ATE‘ variable from a constant to an array. Show these results: (i) Calculate the true ATE in the data, (ii) estimate the ATE using a regression with ‘day_of_week‘ dummy variables, and (iii) estimate the ATE using a perfect stratification on ‘day_of_week‘. Which of the two estimators gives an unbiased estimate? What did you learn from this?"
   ]
  },
  {
   "cell_type": "code",
   "execution_count": 80,
   "metadata": {},
   "outputs": [],
   "source": [
    "def generate_one_experiment_varying_ATE():\n",
    "  # Average number of users of the site per day\n",
    "  avg_N_per_day = 100000\n",
    "\n",
    "  # Set experiment to last for 14 days\n",
    "  length_of_experiment = 14\n",
    "  dates = np.arange(0, length_of_experiment)\n",
    "\n",
    "  # This function causes our treatment percentage to go from 5% to 50%.\n",
    "  def treatment_percent(date):\n",
    "    if date <= 4:\n",
    "      return 0.05\n",
    "    else:\n",
    "      return 0.50\n",
    "\n",
    "  # Conversion on the weekend is 20 pp lower.\n",
    "  def daily_conversion_rates(day_of_week):\n",
    "    if day_of_week in [5, 6]:\n",
    "      return 0.10\n",
    "    else:\n",
    "      return 0.30\n",
    "\n",
    "  # Determine the number of units on each day (use a Poisson distribution for convenience).\n",
    "  N_each_day = np.random.poisson(avg_N_per_day, size=length_of_experiment)\n",
    "\n",
    "  # Generate a row for each unit determined in the previous step.\n",
    "  dates_of_units = np.concatenate(\n",
    "      [dates[ii] * np.ones(shape=N) for ii, N in np.ndenumerate(N_each_day)]\n",
    "  )\n",
    "\n",
    "  # Make a dataframe tracking the date on which each unit visited the site\n",
    "  # and the day of the week.\n",
    "  df = pd.DataFrame({\n",
    "      'date': dates_of_units.astype('int'),\n",
    "      'day_of_week': np.mod(dates_of_units, 7).astype('int8')\n",
    "  })\n",
    "  # Number the units from 0 through N.\n",
    "  # We assume that each unit is a distinct individual human.\n",
    "  df['unit'] = df.index.values\n",
    "\n",
    "  def daily_ATE(day_of_week):\n",
    "    if day_of_week in [5, 6]:\n",
    "      return  0.005\n",
    "    else:\n",
    "      return 0.10\n",
    "\n",
    "  p_y0 = df['day_of_week'].apply(daily_conversion_rates)\n",
    "  ATE = df['day_of_week'].apply(daily_ATE)\n",
    "  df['y0'] = np.random.binomial(n=1, p=p_y0).astype('int8')\n",
    "  df['y1'] = np.random.binomial(n=1, p=p_y0 + ATE).astype('int8')\n",
    "\n",
    "  # Apply the function that determines the percentage treated on each day.\n",
    "  df['treatment_percent_by_day'] = df['date'].apply(treatment_percent)\n",
    "  df['d'] = np.random.binomial(n=1, p=df['treatment_percent_by_day']).astype('int8')\n",
    "  df['y'] = df.eval(\"d * y1 + (1 - d) * y0\")\n",
    "\n",
    "  df['hour_of_day'] = np.random.randint(1, 24, size=df.shape[0])\n",
    "\n",
    "  return df"
   ]
  },
  {
   "cell_type": "code",
   "execution_count": 82,
   "metadata": {},
   "outputs": [],
   "source": [
    "df = generate_one_experiment_varying_ATE()"
   ]
  },
  {
   "cell_type": "code",
   "execution_count": 85,
   "metadata": {},
   "outputs": [
    {
     "name": "stdout",
     "output_type": "stream",
     "text": [
      "Estimate of NATE = 0.01816\n"
     ]
    }
   ],
   "source": [
    "r = sfa.ols(\"y ~ d\", df).fit(cov_type='HC1')\n",
    "print(\"Estimate of NATE = {:.5f}\".format(r.params['d']))"
   ]
  },
  {
   "cell_type": "code",
   "execution_count": 84,
   "metadata": {},
   "outputs": [
    {
     "data": {
      "text/plain": [
       "0.018158553000688804"
      ]
     },
     "execution_count": 84,
     "metadata": {},
     "output_type": "execute_result"
    }
   ],
   "source": [
    "NATE = df.query('d == 1')['y1'].mean() - df.query('d == 0')['y0'].mean()\n",
    "NATE"
   ]
  },
  {
   "cell_type": "code",
   "execution_count": 93,
   "metadata": {},
   "outputs": [
    {
     "data": {
      "text/plain": [
       "0.07208771624172805"
      ]
     },
     "execution_count": 93,
     "metadata": {},
     "output_type": "execute_result"
    }
   ],
   "source": [
    "ATE = (df['y1'] - df['y0']).mean()\n",
    "ATE"
   ]
  },
  {
   "cell_type": "code",
   "execution_count": 96,
   "metadata": {},
   "outputs": [
    {
     "data": {
      "text/plain": [
       "Text(0, 0.5, 'E[Y0]')"
      ]
     },
     "execution_count": 96,
     "metadata": {},
     "output_type": "execute_result"
    },
    {
     "data": {
      "image/png": "[encoded data removed]",
      "text/plain": [
       "<Figure size 1008x432 with 1 Axes>"
      ]
     },
     "metadata": {},
     "output_type": "display_data"
    }
   ],
   "source": [
    "round(df.groupby('d')['y0'].mean(),2).plot(kind = 'bar', figsize = (14,6))\n",
    "plt.ylabel('E[Y0]')"
   ]
  },
  {
   "cell_type": "code",
   "execution_count": 89,
   "metadata": {},
   "outputs": [
    {
     "data": {
      "text/plain": [
       "Text(0, 0.5, 'E[Y0]')"
      ]
     },
     "execution_count": 89,
     "metadata": {},
     "output_type": "execute_result"
    },
    {
     "data": {
      "image/png": "[encoded data removed]",
      "text/plain": [
       "<Figure size 1008x432 with 1 Axes>"
      ]
     },
     "metadata": {},
     "output_type": "display_data"
    }
   ],
   "source": [
    "round(df.groupby(['d','day_of_week'])['y0'].mean(),2).unstack(0).plot(kind = 'bar', figsize = (14,6))\n",
    "plt.ylabel('E[Y0]')"
   ]
  },
  {
   "cell_type": "code",
   "execution_count": 94,
   "metadata": {},
   "outputs": [
    {
     "name": "stdout",
     "output_type": "stream",
     "text": [
      "Estimate of ATE = 0.06719\n",
      "                            OLS Regression Results                            \n",
      "==============================================================================\n",
      "Dep. Variable:             Conversion   R-squared:                       0.058\n",
      "Model:                            OLS   Adj. R-squared:                  0.058\n",
      "Method:                 Least Squares   F-statistic:                 1.679e+04\n",
      "Date:                Sat, 22 Feb 2020   Prob (F-statistic):               0.00\n",
      "Time:                        18:47:33   Log-Likelihood:            -7.9670e+05\n",
      "No. Observations:             1400516   AIC:                         1.593e+06\n",
      "Df Residuals:                 1400508   BIC:                         1.594e+06\n",
      "Df Model:                           7                                         \n",
      "Covariance Type:                  HC1                                         \n",
      "=======================================================================================\n",
      "                          coef    std err          z      P>|z|      [0.025      0.975]\n",
      "---------------------------------------------------------------------------------------\n",
      "Intercept               0.3091      0.001    291.212      0.000       0.307       0.311\n",
      "C(day_of_week)[T.1]     0.0005      0.001      0.308      0.758      -0.002       0.003\n",
      "C(day_of_week)[T.2]    -0.0003      0.001     -0.202      0.840      -0.003       0.003\n",
      "C(day_of_week)[T.3]    -0.0003      0.001     -0.172      0.863      -0.003       0.003\n",
      "C(day_of_week)[T.4]    -0.0009      0.001     -0.604      0.546      -0.004       0.002\n",
      "C(day_of_week)[T.5]    -0.2399      0.001   -189.893      0.000      -0.242      -0.237\n",
      "C(day_of_week)[T.6]    -0.2402      0.001   -190.216      0.000      -0.243      -0.238\n",
      "d                       0.0672      0.001     85.332      0.000       0.066       0.069\n",
      "==============================================================================\n",
      "Omnibus:                   295546.614   Durbin-Watson:                   1.997\n",
      "Prob(Omnibus):                  0.000   Jarque-Bera (JB):           252056.109\n",
      "Skew:                           0.951   Prob(JB):                         0.00\n",
      "Kurtosis:                       2.163   Cond. No.                         8.35\n",
      "==============================================================================\n",
      "\n",
      "Warnings:\n",
      "[1] Standard Errors are heteroscedasticity robust (HC1)\n"
     ]
    }
   ],
   "source": [
    "r = sfa.ols(\"y ~ d + C(day_of_week)\", df).fit(cov_type='HC1')\n",
    "\n",
    "print(\"Estimate of ATE = {:.5f}\".format(r.params['d']))\n",
    "print(r.summary(yname=\"Conversion\"))"
   ]
  },
  {
   "cell_type": "code",
   "execution_count": 95,
   "metadata": {},
   "outputs": [
    {
     "data": {
      "text/html": [
       "<div>\n",
       "<style scoped>\n",
       "    .dataframe tbody tr th:only-of-type {\n",
       "        vertical-align: middle;\n",
       "    }\n",
       "\n",
       "    .dataframe tbody tr th {\n",
       "        vertical-align: top;\n",
       "    }\n",
       "\n",
       "    .dataframe thead th {\n",
       "        text-align: right;\n",
       "    }\n",
       "</style>\n",
       "<table border=\"1\" class=\"dataframe\">\n",
       "  <thead>\n",
       "    <tr style=\"text-align: right;\">\n",
       "      <th></th>\n",
       "      <th>control</th>\n",
       "      <th>treatment</th>\n",
       "      <th>difference</th>\n",
       "      <th>counts</th>\n",
       "    </tr>\n",
       "    <tr>\n",
       "      <th>day_of_week</th>\n",
       "      <th></th>\n",
       "      <th></th>\n",
       "      <th></th>\n",
       "      <th></th>\n",
       "    </tr>\n",
       "  </thead>\n",
       "  <tbody>\n",
       "    <tr>\n",
       "      <th>0</th>\n",
       "      <td>0.300647</td>\n",
       "      <td>0.398654</td>\n",
       "      <td>0.098007</td>\n",
       "      <td>200358</td>\n",
       "    </tr>\n",
       "    <tr>\n",
       "      <th>1</th>\n",
       "      <td>0.300481</td>\n",
       "      <td>0.400724</td>\n",
       "      <td>0.100243</td>\n",
       "      <td>200745</td>\n",
       "    </tr>\n",
       "    <tr>\n",
       "      <th>2</th>\n",
       "      <td>0.300527</td>\n",
       "      <td>0.397960</td>\n",
       "      <td>0.097432</td>\n",
       "      <td>200414</td>\n",
       "    </tr>\n",
       "    <tr>\n",
       "      <th>3</th>\n",
       "      <td>0.299348</td>\n",
       "      <td>0.401164</td>\n",
       "      <td>0.101815</td>\n",
       "      <td>199995</td>\n",
       "    </tr>\n",
       "    <tr>\n",
       "      <th>4</th>\n",
       "      <td>0.299829</td>\n",
       "      <td>0.397611</td>\n",
       "      <td>0.097782</td>\n",
       "      <td>199038</td>\n",
       "    </tr>\n",
       "    <tr>\n",
       "      <th>5</th>\n",
       "      <td>0.100962</td>\n",
       "      <td>0.104548</td>\n",
       "      <td>0.003585</td>\n",
       "      <td>199911</td>\n",
       "    </tr>\n",
       "    <tr>\n",
       "      <th>6</th>\n",
       "      <td>0.100648</td>\n",
       "      <td>0.104346</td>\n",
       "      <td>0.003698</td>\n",
       "      <td>200055</td>\n",
       "    </tr>\n",
       "  </tbody>\n",
       "</table>\n",
       "</div>"
      ],
      "text/plain": [
       "              control  treatment  difference  counts\n",
       "day_of_week                                         \n",
       "0            0.300647   0.398654    0.098007  200358\n",
       "1            0.300481   0.400724    0.100243  200745\n",
       "2            0.300527   0.397960    0.097432  200414\n",
       "3            0.299348   0.401164    0.101815  199995\n",
       "4            0.299829   0.397611    0.097782  199038\n",
       "5            0.100962   0.104548    0.003585  199911\n",
       "6            0.100648   0.104346    0.003698  200055"
      ]
     },
     "metadata": {},
     "output_type": "display_data"
    },
    {
     "name": "stdout",
     "output_type": "stream",
     "text": [
      "\n",
      "Estimate of ATE (perfect stratification) = 0.07181\n"
     ]
    }
   ],
   "source": [
    "# Calculate an estimate of the ATE for each day of the week.\n",
    "STRATA_VARIABLE = 'day_of_week'\n",
    "conversion_rates_by_strata = df.groupby([STRATA_VARIABLE, 'd'])['y'].mean().unstack(-1)\n",
    "conversion_rates_by_strata.columns = ['control', 'treatment']\n",
    "conversion_rates_by_strata['difference'] = conversion_rates_by_strata.eval(\"treatment - control\")\n",
    "\n",
    "# Calculate the number of units in each stratum\n",
    "counts_by_strata = df.groupby([STRATA_VARIABLE])['y'].count()\n",
    "\n",
    "conversion_rates_by_strata['counts'] = counts_by_strata\n",
    "\n",
    "display(conversion_rates_by_strata)\n",
    "\n",
    "# Calculate the *weighted-average* of the estimates.\n",
    "# Note that in this very simple case we would get an unbiased estimate even\n",
    "# if we did not weight the average. However, the weighted average has two advantages:\n",
    "# (1) it gives a more precise estimate and a test with more power, and (2)\n",
    "# if the treatment effects vary by strata it is still unbiased for the ATE.\n",
    "print(\"\\nEstimate of ATE (perfect stratification) = {:.5f}\".format(\n",
    "      (conversion_rates_by_strata.eval(\"difference * counts\").sum() / conversion_rates_by_strata['counts'].sum()))\n",
    ")"
   ]
  },
  {
   "cell_type": "markdown",
   "metadata": {
    "colab_type": "text",
    "id": "ElomCIsjZ5np"
   },
   "source": [
    "---\n",
    "---\n",
    "# Bias case 2: Non-compliance and \"exposure\" to treatment\n",
    "\n",
    "## Course notes\n",
    "\n",
    "For more background on the topic of non-compliance, see the course notes available at: [https://kyleco.github.io/lessons/lesson-04](https://kyleco.github.io/lessons/lesson-04).\n",
    "\n",
    "This case demonstrates another common practical complication. Imagine again that we are running the non-profit website for charitable giving. We are interested in whether users will donate when they visit the site. The site has numerous pages. On one of these pages we are running an experiment (an A/B test), with _control_ and _treatment_ versions. The treatment version has new messaging that we hope will increase the probability of donation. This is the \"page\" of interest for the rest of the experiment. It is the one on which the treatment is operative.\n",
    "\n",
    "Let's suppose that in our experiment we *assign* all visitors to the site to treatment or control. Specifically, for each visitor we \"flip a 50/50 coin\" and set a piece of data in the browser's memory that assigns the visitor to see the control version or treatment version if they happen to go to the page in question. In our causal inference notation, visitors assigned to the control version of the page have $Z_i = 0$ while those assigned to the treatment have $Z_i=1$.\n",
    "\n",
    "However, some visitors to the site may may never visit this particular page. So even if we *assign* a visitor to the treatment group, that visitor may never actually be exposed to the treatment. The visitors that are actually exposed to the treatment page have $D_i=1$. All others have $D_i=0$.\n",
    "\n",
    "The data-generating process has these additional important features:\n",
    "\n",
    "- The average treatment effect is 0.20, meaning that if a person views the treatment version of the page, his behavior will be influenced such that the probability of donation is increased by 0.20.\n",
    "- Each user has an individual level of `charitability` drawn from a specific distribution.\n",
    "- More charitable users are more likely to visit the page.\n",
    "- Higher `charitability` also *directly, behaviorally* increases the probability of donation. has *a direct effect** on donation.\n",
    "\n",
    "Functional form details of the data-generating process:\n",
    "\n",
    "- `charitability` $ \\sim \\text{Normal(0, 1)} $\n",
    "- $ P(\\text{viewed_page}|\\text{charitability}) = \\text{logit}^{-1} (\\text{charitability}) $\n",
    "- $ P(\\text{viewed_page}) = 0.50 $\n",
    "- $ P(Y^0=1|\\text{charitability}) = \\min(\\text{logit}^{-1} (\\text{charitability} - 1), 0.50) $\n",
    "\n"
   ]
  },
  {
   "cell_type": "code",
   "execution_count": 99,
   "metadata": {
    "colab": {},
    "colab_type": "code",
    "id": "jfNpVGLVaH4t"
   },
   "outputs": [],
   "source": [
    "def generate_one_web_experiment(N, seed=94115):\n",
    "  \"\"\"The data-generating process for this example.\"\"\"\n",
    "  if seed is not None:\n",
    "    np.random.seed(seed)\n",
    "  \n",
    "  units = np.arange(0, N)\n",
    "  coin_flip = np.random.binomial(n=1, p=0.5, size=N)\n",
    "  ATE = 0.20\n",
    "  \n",
    "  charitability = np.random.normal(loc=0, scale=1, size=N)\n",
    "  p_donate_baseline = np.clip(scipy.special.expit(charitability - 1), 0, 0.5)\n",
    "\n",
    "  # Did the user view the page on which the experiment is operative?\n",
    "  viewed_page = np.random.binomial(n=1, p=scipy.special.expit(charitability))\n",
    "  saw_treatment_page = coin_flip * viewed_page\n",
    "\n",
    "  Y0 = np.random.binomial(n=1, p=p_donate_baseline, size=N)\n",
    "  Y1 = np.random.binomial(n=1, p=p_donate_baseline + ATE, size=N)\n",
    "  \n",
    "  Y = Y1 * saw_treatment_page + (1 - saw_treatment_page) * Y0\n",
    "\n",
    "  df = pd.DataFrame({\n",
    "      'unit': units,\n",
    "      'charitability': charitability,\n",
    "      'coin_flip': coin_flip,\n",
    "      'viewed_page': viewed_page,\n",
    "      'saw_treatment_page': saw_treatment_page,\n",
    "      'y0': Y0,\n",
    "      'y1': Y1,\n",
    "      'y': Y\n",
    "  })\n",
    "  return df"
   ]
  },
  {
   "cell_type": "markdown",
   "metadata": {
    "colab_type": "text",
    "id": "yX0rTvQkKB9K"
   },
   "source": [
    "## Identification investigation\n",
    "\n",
    "This is an identification analysis, so we extend the sample size to 1 million to approximate \"infinite data\". We generate the dataset with a fixed seed for the random number generator.\n",
    "\n",
    "We use the data set to calculate estimates using each of the four different methods: (1) as-treated, (2) per-protocol, (3) intent-to-treat (ITT), and (4) complier average causal effect (CACE / LATE). The analyses are all computed using regression to help highlight the differences between each approach. \n",
    "\n",
    "For descriptions of these methods see the lecture notes:\n",
    "\n",
    "[https://kyleco.github.io/lessons/lesson-04#estimating-treatment-effects-when-there-is-one-sided-non-compliance](https://kyleco.github.io/lessons/lesson-04#estimating-treatment-effects-when-there-is-one-sided-non-compliance).\n",
    "\n",
    "_Note that [`df.query`](https://pandas.pydata.org/pandas-docs/version/0.22.0/generated/pandas.DataFrame.query.html) is a method for subsetting a data frame according to a specific condition._\n"
   ]
  },
  {
   "cell_type": "code",
   "execution_count": 100,
   "metadata": {
    "colab": {},
    "colab_type": "code",
    "id": "z0LS-new_-pH"
   },
   "outputs": [],
   "source": [
    "# Generate a fixed data set\n",
    "df = generate_one_web_experiment(N=10 ** 6, seed=94115)\n",
    "\n",
    "# The four analysis methods:\n",
    "# Regression lets us compute them conveniently.\n",
    "r_as_treated = sfa.ols(\"y ~ saw_treatment_page\", df).fit(cov_type='HC1')\n",
    "r_per_protocol = sfa.ols(\"y ~ saw_treatment_page\", df.query(\"saw_treatment_page == coin_flip\")).fit(cov_type='HC1')\n",
    "r_itt = sfa.ols(\"y ~ coin_flip\", df).fit(cov_type='HC1')\n",
    "r_cace = sfa.ols(\"y ~ coin_flip\", df.query(\"viewed_page == 1\")).fit(cov_type='HC1')"
   ]
  },
  {
   "cell_type": "code",
   "execution_count": 101,
   "metadata": {
    "colab": {
     "base_uri": "https://localhost:8080/",
     "height": 281
    },
    "colab_type": "code",
    "id": "8I2J2D77jpFI",
    "outputId": "45c65cc7-d6b0-4bbd-f554-006a7d79511b"
   },
   "outputs": [
    {
     "data": {
      "text/html": [
       "Estimation methods<br><table style=\"text-align:center\"><tr><td colspan=\"5\" style=\"border-bottom: 1px solid black\"></td></tr><tr><td style=\"text-align:left\"></td><td colspan=\"4\"><em>Dependent variable: P(Donation)</em></td></tr><tr><td style=\"text-align:left\"></td><tr><td></td><td colspan=\"1\">As-treated</td><td colspan=\"1\">Per-protocol</td><td colspan=\"1\">ITT</td><td colspan=\"1\">CACE</td></tr><tr><td style=\"text-align:left\"></td><td>(1)</td><td>(2)</td><td>(3)</td><td>(4)</td></tr><tr><td colspan=\"5\" style=\"border-bottom: 1px solid black\"></td></tr><tr><td style=\"text-align:left\">Intercept</td><td>0.264<sup>***</sup></td><td>0.284<sup>***</sup></td><td>0.284<sup>***</sup></td><td>0.344<sup>***</sup></td></tr><tr><td style=\"text-align:left\"></td><td>(0.001)</td><td>(0.001)</td><td>(0.001)</td><td>(0.001)</td></tr><tr><td style=\"text-align:left\">coin_flip</td><td></td><td></td><td>0.1<sup>***</sup></td><td>0.201<sup>***</sup></td></tr><tr><td style=\"text-align:left\"></td><td></td><td></td><td>(0.001)</td><td>(0.001)</td></tr><tr><td style=\"text-align:left\">saw_treatment_page</td><td>0.281<sup>***</sup></td><td>0.261<sup>***</sup></td><td></td><td></td></tr><tr><td style=\"text-align:left\"></td><td>(0.001)</td><td>(0.001)</td><td></td><td></td></tr><td colspan=\"5\" style=\"border-bottom: 1px solid black\"></td></tr><tr><td style=\"text-align: left\">Observations</td><td>1000000.0</td><td>749736.0</td><td>1000000.0</td><td>499848.0</td></tr><tr><td colspan=\"5\" style=\"border-bottom: 1px solid black\"></td></tr></table>"
      ],
      "text/plain": [
       "<IPython.core.display.HTML object>"
      ]
     },
     "execution_count": 101,
     "metadata": {},
     "output_type": "execute_result"
    }
   ],
   "source": [
    "\n",
    "# Display all the results side-by-side in a table.\n",
    "table = Stargazer([r_as_treated, r_per_protocol, r_itt, r_cace])\n",
    "table.custom_columns(['As-treated', 'Per-protocol', 'ITT', 'CACE'], [1, 1, 1, 1])\n",
    "table.title_text = \"Estimation methods\"\n",
    "table.show_header = True\n",
    "table.dep_var_name = 'Dependent variable: P(Donation)'\n",
    "table.show_degrees_of_freedom(False)\n",
    "table.show_footer = True\n",
    "table.show_r2 = False\n",
    "table.show_adj_r2 = False\n",
    "table.show_residual_std_err = False\n",
    "table.show_f_statistic = False\n",
    "table.show_dof = False\n",
    "table.show_notes = False\n",
    "HTML(table.render_html())"
   ]
  },
  {
   "cell_type": "markdown",
   "metadata": {},
   "source": [
    "# Use the ITT regression, but include ‘viewed_page‘ as control variable. Try also including ‘charitability‘ as a control variable. Do these let you identify the ATE? What do you learn from this?"
   ]
  },
  {
   "cell_type": "code",
   "execution_count": 108,
   "metadata": {},
   "outputs": [
    {
     "data": {
      "text/plain": [
       "0.09984916283276238"
      ]
     },
     "execution_count": 108,
     "metadata": {},
     "output_type": "execute_result"
    }
   ],
   "source": [
    "r_itt = sfa.ols(\"y ~ coin_flip + viewed_page\", df).fit(cov_type='HC1')\n",
    "ATE = r_itt.params['coin_flip']\n",
    "ATE"
   ]
  },
  {
   "cell_type": "code",
   "execution_count": 111,
   "metadata": {},
   "outputs": [
    {
     "data": {
      "text/plain": [
       "0.10027988771311823"
      ]
     },
     "execution_count": 111,
     "metadata": {},
     "output_type": "execute_result"
    }
   ],
   "source": [
    "r_itt = sfa.ols(\"y ~ coin_flip + viewed_page + charitability\", df).fit(cov_type='HC1')\n",
    "ATE = r_itt.params['coin_flip']\n",
    "ATE"
   ]
  },
  {
   "cell_type": "markdown",
   "metadata": {
    "colab_type": "text",
    "id": "Ou8dwHuJAAZQ"
   },
   "source": [
    "## Results from the four analysis methods\n",
    "\n",
    "The table below shows the estimates from each of the methods. The estimate of the causal effect is either under `saw_treatment_page` or `coin_flip` depending on the method.\n",
    "\n",
    "\n"
   ]
  },
  {
   "cell_type": "markdown",
   "metadata": {
    "colab_type": "text",
    "id": "rndgGMAW0wNV"
   },
   "source": [
    "---\n",
    "---\n",
    "# Bias case 3: Charitability influences viewing probability *and treatment effect*\n",
    "\n",
    "## Set up data-generating process for problem set 4\n",
    "\n",
    "Now we make the data-generating process more intuitive. The new data-generating process is like the last one except the advertisement has a stronger behavioral effect on _more charitable_ visitors. To be specific, each user has an `ITE` (individual treatment effect) that is a function of their charitability. A visitor with an average level of charitability will have an `ITE=0.15`, meaning that if they see treatment ad their probability of donation will be 0.15 greater than if they saw the control ad. Visitors with a very high level of charitability (\"Good Guy Greg\") can have an `ITE` of up to 0.30. Conversely, visitors with a very low level of charitability can have an `ITE` as low as zero (\"Scumbag Steve\").\n",
    "\n",
    "\n",
    "The key difference is that we replaced `ATE` with `ITE = 0.3 * scipy.special.expit(charitability)`. In mathematical terms we have:\n",
    "\n",
    "- $ \\text{ITE}_i = 0.30 * \\text{logit}^{-1} (\\text{charitability}_i) $\n",
    "- $ \\text{ITE}_i \\in (0, 0.30) $."
   ]
  },
  {
   "cell_type": "code",
   "execution_count": 142,
   "metadata": {
    "colab": {},
    "colab_type": "code",
    "id": "zxBwvwX_sesJ"
   },
   "outputs": [],
   "source": [
    "# Heterogenous view probabilities and treatment effects\n",
    "def generate_one_web_experiment_ite(N, seed=94115):\n",
    "  \"\"\"The data-generating process for the problem set.\"\"\"\n",
    "  if seed is not None:\n",
    "    np.random.seed(seed)\n",
    "  \n",
    "  units = np.arange(0, N)\n",
    "  coin_flip = np.random.binomial(n=1, p=0.5, size=N)\n",
    "  \n",
    "  charitability = np.random.normal(loc=0, scale=1, size=N)\n",
    "  p_donate_baseline = np.clip(scipy.special.expit(charitability - 1), 0, 0.5)\n",
    "\n",
    "  # Did the user view the page on which the experiment is operative?\n",
    "  viewed_page = np.random.binomial(n=1, p=scipy.special.expit(charitability))\n",
    "  saw_treatment_page = coin_flip * viewed_page\n",
    "\n",
    "  ITE = 0.30 * scipy.special.expit(charitability)\n",
    "\n",
    "  Y0 = np.random.binomial(n=1, p=p_donate_baseline, size=N)\n",
    "  Y1 = np.random.binomial(n=1, p=p_donate_baseline + ITE, size=N)\n",
    "  \n",
    "  Y = Y1 * saw_treatment_page + (1 - saw_treatment_page) * Y0\n",
    "\n",
    "  df = pd.DataFrame({\n",
    "      'unit': units,\n",
    "      'coin_flip': coin_flip,\n",
    "      'viewed_page': viewed_page,\n",
    "      'saw_treatment_page': saw_treatment_page,\n",
    "      'y0': Y0,\n",
    "      'y1': Y1,\n",
    "      'y': Y\n",
    "  })\n",
    "  return df"
   ]
  },
  {
   "cell_type": "code",
   "execution_count": 143,
   "metadata": {},
   "outputs": [
    {
     "data": {
      "text/plain": [
       "0.14884599999999998"
      ]
     },
     "execution_count": 143,
     "metadata": {},
     "output_type": "execute_result"
    }
   ],
   "source": [
    "ATE = df['y1'].mean() - df['y0'].mean()\n",
    "ATE"
   ]
  },
  {
   "cell_type": "code",
   "execution_count": 144,
   "metadata": {},
   "outputs": [
    {
     "data": {
      "text/plain": [
       "0.148846"
      ]
     },
     "execution_count": 144,
     "metadata": {},
     "output_type": "execute_result"
    }
   ],
   "source": [
    "ATE = (df['y1'] - df['y0']).mean()\n",
    "ATE"
   ]
  },
  {
   "cell_type": "markdown",
   "metadata": {},
   "source": [
    "# Make a table of all four analysis approaches. Relate it to the last problem. What do you learn from this? "
   ]
  },
  {
   "cell_type": "code",
   "execution_count": 145,
   "metadata": {},
   "outputs": [
    {
     "data": {
      "text/html": [
       "Estimation methods<br><table style=\"text-align:center\"><tr><td colspan=\"5\" style=\"border-bottom: 1px solid black\"></td></tr><tr><td style=\"text-align:left\"></td><td colspan=\"4\"><em>Dependent variable: P(Donation)</em></td></tr><tr><td style=\"text-align:left\"></td><tr><td></td><td colspan=\"1\">As-treated</td><td colspan=\"1\">Per-protocol</td><td colspan=\"1\">ITT</td><td colspan=\"1\">CACE</td></tr><tr><td style=\"text-align:left\"></td><td>(1)</td><td>(2)</td><td>(3)</td><td>(4)</td></tr><tr><td colspan=\"5\" style=\"border-bottom: 1px solid black\"></td></tr><tr><td style=\"text-align:left\">Intercept</td><td>0.264<sup>***</sup></td><td>0.284<sup>***</sup></td><td>0.284<sup>***</sup></td><td>0.344<sup>***</sup></td></tr><tr><td style=\"text-align:left\"></td><td>(0.001)</td><td>(0.001)</td><td>(0.001)</td><td>(0.001)</td></tr><tr><td style=\"text-align:left\">coin_flip</td><td></td><td></td><td>0.087<sup>***</sup></td><td>0.175<sup>***</sup></td></tr><tr><td style=\"text-align:left\"></td><td></td><td></td><td>(0.001)</td><td>(0.001)</td></tr><tr><td style=\"text-align:left\">saw_treatment_page</td><td>0.256<sup>***</sup></td><td>0.235<sup>***</sup></td><td></td><td></td></tr><tr><td style=\"text-align:left\"></td><td>(0.001)</td><td>(0.001)</td><td></td><td></td></tr><td colspan=\"5\" style=\"border-bottom: 1px solid black\"></td></tr><tr><td style=\"text-align: left\">Observations</td><td>1000000.0</td><td>749736.0</td><td>1000000.0</td><td>499848.0</td></tr><tr><td colspan=\"5\" style=\"border-bottom: 1px solid black\"></td></tr></table>"
      ],
      "text/plain": [
       "<IPython.core.display.HTML object>"
      ]
     },
     "execution_count": 145,
     "metadata": {},
     "output_type": "execute_result"
    }
   ],
   "source": [
    "# Generate a fixed data set\n",
    "df = generate_one_web_experiment_ite(N=10 ** 6, seed=94115)\n",
    "\n",
    "# The four analysis methods:\n",
    "# Regression lets us compute them conveniently.\n",
    "r_as_treated = sfa.ols(\"y ~ saw_treatment_page\", df).fit(cov_type='HC1')\n",
    "r_per_protocol = sfa.ols(\"y ~ saw_treatment_page\", df.query(\"saw_treatment_page == coin_flip\")).fit(cov_type='HC1')\n",
    "r_itt = sfa.ols(\"y ~ coin_flip\", df).fit(cov_type='HC1')\n",
    "r_cace = sfa.ols(\"y ~ coin_flip\", df.query(\"viewed_page == 1\")).fit(cov_type='HC1')\n",
    "\n",
    "\n",
    "# Display all the results side-by-side in a table.\n",
    "table = Stargazer([r_as_treated, r_per_protocol, r_itt, r_cace])\n",
    "table.custom_columns(['As-treated', 'Per-protocol', 'ITT', 'CACE'], [1, 1, 1, 1])\n",
    "table.title_text = \"Estimation methods\"\n",
    "table.show_header = True\n",
    "table.dep_var_name = 'Dependent variable: P(Donation)'\n",
    "table.show_degrees_of_freedom(False)\n",
    "table.show_footer = True\n",
    "table.show_r2 = False\n",
    "table.show_adj_r2 = False\n",
    "table.show_residual_std_err = False\n",
    "table.show_f_statistic = False\n",
    "table.show_dof = False\n",
    "table.show_notes = False\n",
    "HTML(table.render_html())"
   ]
  },
  {
   "cell_type": "code",
   "execution_count": 176,
   "metadata": {},
   "outputs": [
    {
     "data": {
      "text/plain": [
       "0.17616005891346284"
      ]
     },
     "execution_count": 176,
     "metadata": {},
     "output_type": "execute_result"
    }
   ],
   "source": [
    "CACE = df.query('coin_flip == saw_treatment_page' and 'saw_treatment_page == 1').eval('y1 - y0').mean()\n",
    "CACE"
   ]
  },
  {
   "cell_type": "code",
   "execution_count": 186,
   "metadata": {},
   "outputs": [
    {
     "data": {
      "text/plain": [
       "0.49959409903983426"
      ]
     },
     "execution_count": 186,
     "metadata": {},
     "output_type": "execute_result"
    }
   ],
   "source": [
    "proportion_compliers = df.query('coin_flip == saw_treatment_page' and 'saw_treatment_page == 1').count()/df.query('coin_flip == 1').count()\n",
    "proportion_compliers['unit']"
   ]
  },
  {
   "cell_type": "code",
   "execution_count": null,
   "metadata": {},
   "outputs": [],
   "source": []
  }
 ],
 "metadata": {
  "colab": {
   "collapsed_sections": [],
   "machine_shape": "hm",
   "name": "lecture-04-practical_sources_of_bias.ipynb",
   "provenance": []
  },
  "kernelspec": {
   "display_name": "Python 3",
   "language": "python",
   "name": "python3"
  },
  "language_info": {
   "codemirror_mode": {
    "name": "ipython",
    "version": 3
   },
   "file_extension": ".py",
   "mimetype": "text/x-python",
   "name": "python",
   "nbconvert_exporter": "python",
   "pygments_lexer": "ipython3",
   "version": "3.7.4"
  }
 },
 "nbformat": 4,
 "nbformat_minor": 1
}
