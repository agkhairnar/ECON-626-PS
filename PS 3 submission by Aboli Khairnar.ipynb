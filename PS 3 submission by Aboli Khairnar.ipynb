{
 "cells": [
  {
   "cell_type": "code",
   "execution_count": 102,
   "metadata": {},
   "outputs": [],
   "source": [
    "%matplotlib inline\n",
    "import pandas as pd\n",
    "import numpy as np\n",
    "import statsmodels.formula.api as sfa\n",
    "from statsmodels.iolib.summary2 import summary_col\n",
    "from tqdm import tqdm_notebook\n",
    "\n",
    "import matplotlib.pyplot as plt\n",
    "plt.rcParams.update({\n",
    "    \"lines.color\": \"white\",\n",
    "    \"patch.edgecolor\": \"white\",\n",
    "    \"text.color\": \"black\",\n",
    "    \"axes.facecolor\": \"white\",\n",
    "    \"axes.edgecolor\": \"lightgray\",\n",
    "    \"axes.labelcolor\": \"white\",\n",
    "    \"xtick.color\": \"white\",\n",
    "    \"ytick.color\": \"white\",\n",
    "    \"grid.color\": \"lightgray\",\n",
    "    \"figure.facecolor\": \"black\",\n",
    "    \"figure.edgecolor\": \"black\",\n",
    "    \"savefig.facecolor\": \"black\",\n",
    "    \"savefig.edgecolor\": \"black\"})"
   ]
  },
  {
   "cell_type": "markdown",
   "metadata": {},
   "source": [
    "# 1"
   ]
  },
  {
   "cell_type": "markdown",
   "metadata": {},
   "source": [
    "# 1.1"
   ]
  },
  {
   "cell_type": "code",
   "execution_count": 2,
   "metadata": {},
   "outputs": [
    {
     "name": "stdout",
     "output_type": "stream",
     "text": [
      "reached_b4goal    0.553319\n",
      "rem_any           0.611578\n",
      "dtype: float64\n"
     ]
    }
   ],
   "source": [
    "# Load the data and check out the key variables\n",
    "rem = pd.read_csv(\"https://raw.githubusercontent.com/kyleco/kyleco.github.io/master/data/analysis_dataallcountries.csv\")\n",
    "\n",
    "# We see that 55% of clients reached the goal and 61% received the reminder treatment.\n",
    "print(rem[['reached_b4goal', 'rem_any']].mean())"
   ]
  },
  {
   "cell_type": "code",
   "execution_count": 3,
   "metadata": {},
   "outputs": [
    {
     "name": "stderr",
     "output_type": "stream",
     "text": [
      "/home/aboli/anaconda3/lib/python3.7/site-packages/statsmodels/compat/pandas.py:49: FutureWarning: The Panel class is removed from pandas. Accessing it from the top-level namespace will also be removed in the next version\n",
      "  data_klasses = (pandas.Series, pandas.DataFrame, pandas.Panel)\n"
     ]
    }
   ],
   "source": [
    "# Set up our variables\n",
    "randfeature = \"highint rewardint joint dc joint_single\"\n",
    "covariates = \"female  highschool_completed married inc_7d wealthy hyperbolic spent_b4isaved saved_asmuch missing_female missing_age missing_highschool_completed missing_married missing_saved_asmuch missing_spent_b4isaved\"\n",
    "\n",
    "Xrandfeature = \"+\".join(randfeature.split())\n",
    "Xfull = \"+\".join(randfeature.split() + covariates.split())\n",
    "\n",
    "# NOTE: In a LPM in Statsmodels the outcome has to be a float!\n",
    "# It will complain if this is an int!\n",
    "rem['reached_b4goal'] = rem['reached_b4goal'].astype('float')\n",
    "rem['female'] = rem['female'].astype('float')\n",
    "\n",
    "\n",
    "\n",
    "formula_col3 = \"reached_b4goal ~ rem_any + {Xs} + C(country)\".format(Xs=Xrandfeature)\n",
    "r_col3 = sfa.ols(formula_col3, data=rem).fit(cov_type='HC1')\n",
    "\n",
    "formula_col4 = \"reached_b4goal ~ rem_any + {Xs} + C(depart) + C(provincia) + C(marketer) + C(branch) + C(country)\".format(Xs=Xfull)\n",
    "r_col4 = sfa.ols(formula_col4, data=rem).fit(cov_type='HC1')\n",
    "\n",
    "# Let's do a really simple model with only country dummies as controls\n",
    "formula_simple = \"reached_b4goal ~ rem_any + C(country)\"\n",
    "r_simple = sfa.ols(formula_simple, data=rem).fit(cov_type='HC1')\n",
    "\n",
    "# Simplest possible model. Bivariate!\n",
    "formula_biv = \"reached_b4goal ~ rem_any\"\n",
    "r_biv = sfa.ols(formula_biv, data=rem).fit(cov_type='HC1')"
   ]
  },
  {
   "cell_type": "code",
   "execution_count": 4,
   "metadata": {},
   "outputs": [
    {
     "name": "stdout",
     "output_type": "stream",
     "text": [
      "                            OLS Regression Results                            \n",
      "==============================================================================\n",
      "Dep. Variable:         reached_b4goal   R-squared:                       0.067\n",
      "Model:                            OLS   Adj. R-squared:                  0.067\n",
      "Method:                 Least Squares   F-statistic:                     163.4\n",
      "Date:                Thu, 13 Feb 2020   Prob (F-statistic):          3.20e-264\n",
      "Time:                        16:42:12   Log-Likelihood:                -9293.0\n",
      "No. Observations:               13560   AIC:                         1.860e+04\n",
      "Df Residuals:                   13551   BIC:                         1.867e+04\n",
      "Df Model:                           8                                         \n",
      "Covariance Type:                  HC1                                         \n",
      "===================================================================================\n",
      "                      coef    std err          z      P>|z|      [0.025      0.975]\n",
      "-----------------------------------------------------------------------------------\n",
      "Intercept           0.6628      0.012     55.544      0.000       0.639       0.686\n",
      "C(country)[T.2]    -0.1144      0.011    -10.660      0.000      -0.135      -0.093\n",
      "C(country)[T.3]    -0.4871      0.026    -18.592      0.000      -0.538      -0.436\n",
      "rem_any             0.0319      0.009      3.480      0.001       0.014       0.050\n",
      "highint            -0.0017      0.026     -0.066      0.947      -0.052       0.049\n",
      "rewardint           0.0462      0.027      1.716      0.086      -0.007       0.099\n",
      "joint               0.0036      0.027      0.132      0.895      -0.050       0.057\n",
      "dc                  0.0120      0.025      0.478      0.632      -0.037       0.061\n",
      "joint_single       -0.0354      0.026     -1.387      0.165      -0.086       0.015\n",
      "==============================================================================\n",
      "Omnibus:                      146.664   Durbin-Watson:                   1.915\n",
      "Prob(Omnibus):                  0.000   Jarque-Bera (JB):             1789.817\n",
      "Skew:                          -0.259   Prob(JB):                         0.00\n",
      "Kurtosis:                       1.297   Cond. No.                         16.1\n",
      "==============================================================================\n",
      "\n",
      "Warnings:\n",
      "[1] Standard Errors are heteroscedasticity robust (HC1) \n",
      "                             OLS Regression Results                            \n",
      "==============================================================================\n",
      "Dep. Variable:         reached_b4goal   R-squared:                       0.108\n",
      "Model:                            OLS   Adj. R-squared:                  0.105\n",
      "Method:                 Least Squares   F-statistic:                 2.496e+04\n",
      "Date:                Thu, 13 Feb 2020   Prob (F-statistic):               0.00\n",
      "Time:                        16:42:12   Log-Likelihood:                -8987.8\n",
      "No. Observations:               13560   AIC:                         1.809e+04\n",
      "Df Residuals:                   13504   BIC:                         1.851e+04\n",
      "Df Model:                          55                                         \n",
      "Covariance Type:                  HC1                                         \n",
      "================================================================================================\n",
      "                                   coef    std err          z      P>|z|      [0.025      0.975]\n",
      "------------------------------------------------------------------------------------------------\n",
      "Intercept                        0.5494      0.047     11.768      0.000       0.458       0.641\n",
      "C(depart)[T.1]                  -0.2187      0.092     -2.366      0.018      -0.400      -0.038\n",
      "C(depart)[T.2]                  -0.0346      0.020     -1.719      0.086      -0.074       0.005\n",
      "C(depart)[T.3]                  -0.0459      0.018     -2.619      0.009      -0.080      -0.012\n",
      "C(depart)[T.4]                   0.0373      0.016      2.312      0.021       0.006       0.069\n",
      "C(depart)[T.5]                   0.2436      0.018     13.577      0.000       0.208       0.279\n",
      "C(depart)[T.6]                   0.0188      0.028      0.670      0.503      -0.036       0.074\n",
      "C(depart)[T.7]                  -0.1465      0.016     -8.990      0.000      -0.178      -0.115\n",
      "C(depart)[T.8]                   0.1518      0.023      6.474      0.000       0.106       0.198\n",
      "C(provincia)[T.1]                0.1515      0.045      3.348      0.001       0.063       0.240\n",
      "C(provincia)[T.2]                0.1500      0.254      0.590      0.555      -0.348       0.648\n",
      "C(provincia)[T.3]                0.1086      0.115      0.941      0.347      -0.118       0.335\n",
      "C(provincia)[T.4]               -0.0452      0.318     -0.142      0.887      -0.669       0.578\n",
      "C(provincia)[T.5]                0.4421      0.046      9.651      0.000       0.352       0.532\n",
      "C(provincia)[T.6]                0.4563      0.046     10.023      0.000       0.367       0.546\n",
      "C(provincia)[T.7]                0.4725      0.048      9.925      0.000       0.379       0.566\n",
      "C(provincia)[T.8]               -0.4946      0.045    -10.881      0.000      -0.584      -0.405\n",
      "C(provincia)[T.9]                0.0994      0.163      0.611      0.541      -0.219       0.418\n",
      "C(provincia)[T.10]              -0.0422      0.340     -0.124      0.901      -0.709       0.625\n",
      "C(provincia)[T.11]              -0.5264      0.045    -11.675      0.000      -0.615      -0.438\n",
      "C(marketer)[T.1]                -0.1420      0.049     -2.889      0.004      -0.238      -0.046\n",
      "C(marketer)[T.2]                -0.1099      0.050     -2.209      0.027      -0.207      -0.012\n",
      "C(marketer)[T.3]                -0.1037      0.053     -1.939      0.052      -0.209       0.001\n",
      "C(marketer)[T.4]                 0.0064      0.060      0.106      0.915      -0.112       0.125\n",
      "C(marketer)[T.5]                 0.0025      0.050      0.050      0.960      -0.096       0.101\n",
      "C(marketer)[T.6]                 0.0277      0.049      0.562      0.574      -0.069       0.124\n",
      "C(marketer)[T.7]                -0.0447      0.041     -1.086      0.278      -0.125       0.036\n",
      "C(marketer)[T.8]                 0.0615      0.040      1.552      0.121      -0.016       0.139\n",
      "C(marketer)[T.9]                -0.0258      0.112     -0.229      0.819      -0.246       0.195\n",
      "C(marketer)[T.10]                0.0035      0.049      0.072      0.943      -0.093       0.100\n",
      "C(marketer)[T.11]                0.0247      0.052      0.474      0.636      -0.078       0.127\n",
      "C(marketer)[T.12]               -0.1341      0.050     -2.685      0.007      -0.232      -0.036\n",
      "C(marketer)[T.13]                0.3334      0.184      1.815      0.069      -0.027       0.693\n",
      "C(marketer)[T.14]               -0.0462      0.053     -0.877      0.380      -0.150       0.057\n",
      "C(marketer)[T.15]               -0.0223      0.045     -0.500      0.617      -0.110       0.065\n",
      "C(marketer)[T.16]               -0.0594      0.046     -1.286      0.199      -0.150       0.031\n",
      "C(branch)[T.1]                  -0.1522      0.035     -4.328      0.000      -0.221      -0.083\n",
      "C(branch)[T.2]                  -0.0992      0.027     -3.679      0.000      -0.152      -0.046\n",
      "C(branch)[T.3]                   0.0229      0.032      0.717      0.474      -0.040       0.086\n",
      "C(country)[T.2]                  0.0058      0.042      0.139      0.890      -0.077       0.089\n",
      "C(country)[T.3]                 -0.2285      0.041     -5.629      0.000      -0.308      -0.149\n",
      "rem_any                          0.0319      0.009      3.560      0.000       0.014       0.049\n",
      "highint                         -0.0108      0.026     -0.421      0.674      -0.061       0.039\n",
      "rewardint                        0.0428      0.027      1.596      0.110      -0.010       0.095\n",
      "joint                            0.0008      0.027      0.030      0.976      -0.053       0.054\n",
      "dc                               0.0132      0.025      0.529      0.597      -0.036       0.062\n",
      "joint_single                    -0.0370      0.025     -1.462      0.144      -0.087       0.013\n",
      "female                           0.0147      0.009      1.702      0.089      -0.002       0.032\n",
      "highschool_completed            -0.0380      0.010     -3.925      0.000      -0.057      -0.019\n",
      "married                          0.0411      0.012      3.353      0.001       0.017       0.065\n",
      "inc_7d                        5.671e-05      0.000      0.336      0.737      -0.000       0.000\n",
      "wealthy                         -0.0315      0.016     -1.934      0.053      -0.063       0.000\n",
      "hyperbolic                       0.0230      0.032      0.727      0.467      -0.039       0.085\n",
      "spent_b4isaved                   0.0005      0.029      0.017      0.986      -0.056       0.057\n",
      "saved_asmuch                    -0.0308      0.032     -0.971      0.331      -0.093       0.031\n",
      "missing_female                   0.0086      0.142      0.061      0.951      -0.269       0.286\n",
      "missing_age                      0.0340      0.036      0.952      0.341      -0.036       0.104\n",
      "missing_highschool_completed    -0.1482      0.079     -1.868      0.062      -0.304       0.007\n",
      "missing_married                  0.0377      0.134      0.280      0.779      -0.226       0.301\n",
      "missing_saved_asmuch            -0.0358      0.029     -1.230      0.219      -0.093       0.021\n",
      "missing_spent_b4isaved          -0.0358      0.029     -1.230      0.219      -0.093       0.021\n",
      "==============================================================================\n",
      "Omnibus:                      120.762   Durbin-Watson:                   1.993\n",
      "Prob(Omnibus):                  0.000   Jarque-Bera (JB):             1469.303\n",
      "Skew:                          -0.234   Prob(JB):                         0.00\n",
      "Kurtosis:                       1.457   Cond. No.                     1.08e+16\n",
      "==============================================================================\n",
      "\n",
      "Warnings:\n",
      "[1] Standard Errors are heteroscedasticity robust (HC1)\n",
      "[2] The smallest eigenvalue is 5.15e-26. This might indicate that there are\n",
      "strong multicollinearity problems or that the design matrix is singular.\n"
     ]
    },
    {
     "name": "stderr",
     "output_type": "stream",
     "text": [
      "/home/aboli/anaconda3/lib/python3.7/site-packages/statsmodels/base/model.py:1532: ValueWarning: covariance of constraints does not have full rank. The number of constraints is 60, but rank is 52\n",
      "  'rank is %d' % (J, J_), ValueWarning)\n"
     ]
    }
   ],
   "source": [
    "print(r_col3.summary(),'\\n', r_col4.summary())"
   ]
  },
  {
   "cell_type": "code",
   "execution_count": 5,
   "metadata": {},
   "outputs": [
    {
     "name": "stdout",
     "output_type": "stream",
     "text": [
      "Reproducing table 4 in Karlan et al. 2016\n",
      "\n",
      "========================================\n",
      "                   Column 3    Column 4 \n",
      "                  (in paper)  (in paper)\n",
      "----------------------------------------\n",
      "rem_any          0.031855*** 0.031861***\n",
      "                 (0.009153)  (0.008950) \n",
      "R-squared        0.0671      0.1082     \n",
      "No. observations 13560       13560      \n",
      "No. coefficients 9           61         \n",
      "========================================\n",
      "Standard errors in parentheses.\n",
      "* p<.1, ** p<.05, ***p<.01\n"
     ]
    }
   ],
   "source": [
    "info_dict={'R-squared' : lambda x: f\"{x.rsquared:0.4f}\",\n",
    "           'No. observations' : lambda x: f\"{int(x.nobs):d}\",\n",
    "           'No. coefficients': lambda x: f\"{x.params.shape[0]}\"\n",
    "          }\n",
    "\n",
    "results_table = summary_col(results=[r_col3, r_col4],\n",
    "                            float_format='%0.6f',\n",
    "                            stars = True,\n",
    "                            model_names=[\n",
    "                                'Column 3\\n(in paper)',\n",
    "                                'Column 4\\n(in paper)'\n",
    "                            ],\n",
    "                            info_dict=info_dict,\n",
    "                            regressor_order=['rem_any'],\n",
    "                            drop_omitted=True)\n",
    "\n",
    "print(\"Reproducing table 4 in Karlan et al. 2016\")\n",
    "print(results_table)"
   ]
  },
  {
   "cell_type": "markdown",
   "metadata": {},
   "source": [
    "# 2"
   ]
  },
  {
   "cell_type": "code",
   "execution_count": 54,
   "metadata": {},
   "outputs": [
    {
     "name": "stdout",
     "output_type": "stream",
     "text": [
      "grad_high_school    0.497935\n",
      "d                   0.611799\n",
      "y0                  0.300074\n",
      "y1                  0.323378\n",
      "y                   0.321608\n",
      "dtype: float64\n"
     ]
    }
   ],
   "source": [
    "# This cell contains the \"data-generating process.\"\n",
    "# We will make it up, but try to create something close to\n",
    "# what we saw in the Karlan experiment above.\n",
    "# That will help us get a better sense of how the regression is behaving.\n",
    "\n",
    "# Set the same size like the real data.\n",
    "N = 13560\n",
    "\n",
    "# Our \"control variable\" will be an indicator for graduating from high-school.\n",
    "grad_high_school = np.random.binomial(n=1, p=0.5, size=N)\n",
    "beta_hs = 0.1\n",
    "\n",
    "\n",
    "# Set the data-generating process to have on average\n",
    "# 61% of people in the treatment group, like in the paper.\n",
    "# Set the ATE to be 0.032, similar to what we see in the real data.\n",
    "D = np.random.binomial(n=1, p=0.61, size=N)\n",
    "ATE = 0.032\n",
    "\n",
    "# Generate the potential outcomes.\n",
    "# We have to be careful tha the probabilities remain in the valid\n",
    "# range [0, 1] or else we will get an error.\n",
    "baseline_probability = 0.25 + beta_hs * grad_high_school\n",
    "Y0 = np.random.binomial(n=1, p=baseline_probability)\n",
    "Y1 = np.random.binomial(n=1, p=baseline_probability + ATE * D)\n",
    "\n",
    "df = pd.DataFrame({\n",
    "    'grad_high_school': grad_high_school,\n",
    "    'd': D,\n",
    "    'y0': Y0,\n",
    "    'y1': Y1\n",
    "})\n",
    "df['y'] = df.eval(\"y1 * d + y0 * (1 - d)\")\n",
    "print(df.mean())"
   ]
  },
  {
   "cell_type": "code",
   "execution_count": 55,
   "metadata": {},
   "outputs": [
    {
     "name": "stdout",
     "output_type": "stream",
     "text": [
      "\n",
      "====================================\n",
      "                  Model 1   Model 2 \n",
      "------------------------------------\n",
      "d                0.0394*** 0.0398***\n",
      "                 (0.0082)  (0.0082) \n",
      "grad_high_school           0.1006***\n",
      "                           (0.0080) \n",
      "R-squared        0.0017    0.0133   \n",
      "No. observations 13560     13560    \n",
      "No. coefficients 2         3        \n",
      "====================================\n",
      "Standard errors in parentheses.\n",
      "* p<.1, ** p<.05, ***p<.01\n"
     ]
    }
   ],
   "source": [
    "# This cells fits two different models. \n",
    "# One model has the control variable and the other doesn't.\n",
    "\n",
    "# We call this model a bivariate one\n",
    "# because it is just a relationship between two variables.\n",
    "r_sim_biv = sfa.ols(\"y ~ d\", df).fit()\n",
    "\n",
    "# This model is more complex because it has an additional covariate\n",
    "# (aka control variable).\n",
    "r_sim_control = sfa.ols(\"y ~ d + grad_high_school\", df).fit()\n",
    "\n",
    "\n",
    "info_dict={'R-squared' : lambda x: f\"{x.rsquared:0.4f}\",\n",
    "           'No. observations' : lambda x: f\"{int(x.nobs):d}\",\n",
    "           'No. coefficients': lambda x: f\"{x.params.shape[0]}\"}\n",
    "\n",
    "results_table = summary_col(results=[r_sim_biv, r_sim_control],\n",
    "                            float_format='%0.4f',\n",
    "                            stars = True,\n",
    "                            model_names=[\n",
    "                                'Model 1',\n",
    "                                'Model 2',\n",
    "                            ],\n",
    "                            info_dict=info_dict,\n",
    "                            regressor_order=['d', 'grad_high_school'],\n",
    "                            drop_omitted=True)\n",
    "\n",
    "print(results_table)"
   ]
  },
  {
   "cell_type": "markdown",
   "metadata": {},
   "source": [
    "# 4."
   ]
  },
  {
   "cell_type": "code",
   "execution_count": 86,
   "metadata": {},
   "outputs": [],
   "source": [
    "def Model_fit(N = 13560, beta_hs = 0.35, ATE = 0.032):\n",
    "    params = locals().copy()\n",
    "  # Set the same size like the real data.\n",
    "\n",
    "    # Our \"control variable\" will be an indicator for graduating from high-school.\n",
    "    grad_high_school = np.random.binomial(n=1, p=0.5, size=N)\n",
    "    \n",
    "\n",
    "\n",
    "    # Set the data-generating process to have on average\n",
    "    # 61% of people in the treatment group, like in the paper.\n",
    "    # Set the ATE to be 0.032, similar to what we see in the real data.\n",
    "    D = np.random.binomial(n=1, p=0.61, size=N)\n",
    "    \n",
    "    # Generate the potential outcomes.\n",
    "    # We have to be careful tha the probabilities remain in the valid\n",
    "    # range [0, 1] or else we will get an error.\n",
    "    baseline_probability = 0.25 + beta_hs * grad_high_school\n",
    "    Y0 = np.random.binomial(n=1, p=baseline_probability)\n",
    "    Y1 = np.random.binomial(n=1, p=baseline_probability + ATE * D)\n",
    "\n",
    "    df = pd.DataFrame({\n",
    "    'grad_high_school': grad_high_school,\n",
    "    'd': D,\n",
    "    'y0': Y0,\n",
    "    'y1': Y1\n",
    "    })\n",
    "    df['y'] = df.eval(\"y1 * d + y0 * (1 - d)\")\n",
    "    \n",
    "    # This cells fits two different models. \n",
    "    # One model has the control variable and the other doesn't.\n",
    "\n",
    "    # We call this model a bivariate one\n",
    "    # because it is just a relationship between two variables.\n",
    "    Model1 = sfa.ols(\"y ~ d\", df).fit()\n",
    "    \n",
    "    Model2 = sfa.ols(\"y ~ d + grad_high_school\", df).fit()\n",
    "    \n",
    "    \n",
    "    results_table = [dict({\n",
    "      'Estimated coefficient of d': (result_reg.params['d']),\n",
    "      'Standard Error in d': (result_reg.bse['d']),\n",
    "      'P value': (result_reg.pvalues['d'])}, **params) for result_reg in (Model1, Model2)]\n",
    "    \n",
    "\n",
    "    return results_table\n",
    "\n"
   ]
  },
  {
   "cell_type": "code",
   "execution_count": 87,
   "metadata": {},
   "outputs": [
    {
     "data": {
      "text/plain": [
       "[{'Estimated coefficient of d': 0.029251611645940135,\n",
       "  'Standard Error in d': 0.008792829062800754,\n",
       "  'P value': 0.0008809631689678,\n",
       "  'N': 13560,\n",
       "  'beta_hs': 0.35,\n",
       "  'ATE': 0.032},\n",
       " {'Estimated coefficient of d': 0.026581936112003324,\n",
       "  'Standard Error in d': 0.00827042804948169,\n",
       "  'P value': 0.0013116292954794173,\n",
       "  'N': 13560,\n",
       "  'beta_hs': 0.35,\n",
       "  'ATE': 0.032}]"
      ]
     },
     "execution_count": 87,
     "metadata": {},
     "output_type": "execute_result"
    }
   ],
   "source": [
    "Model_fit()"
   ]
  },
  {
   "cell_type": "code",
   "execution_count": 88,
   "metadata": {},
   "outputs": [],
   "source": [
    "B = 1000\n",
    "Repeated_sampling_results_Model1 = pd.DataFrame([Model_fit(N=N)[0] for _ in np.arange(0, B)])\n",
    "Repeated_sampling_results_Model2 = pd.DataFrame([Model_fit(N=N)[1] for _ in np.arange(0, B)])"
   ]
  },
  {
   "cell_type": "code",
   "execution_count": 89,
   "metadata": {},
   "outputs": [
    {
     "data": {
      "text/html": [
       "<div>\n",
       "<style scoped>\n",
       "    .dataframe tbody tr th:only-of-type {\n",
       "        vertical-align: middle;\n",
       "    }\n",
       "\n",
       "    .dataframe tbody tr th {\n",
       "        vertical-align: top;\n",
       "    }\n",
       "\n",
       "    .dataframe thead th {\n",
       "        text-align: right;\n",
       "    }\n",
       "</style>\n",
       "<table border=\"1\" class=\"dataframe\">\n",
       "  <thead>\n",
       "    <tr style=\"text-align: right;\">\n",
       "      <th></th>\n",
       "      <th>Estimated coefficient of d</th>\n",
       "      <th>Standard Error in d</th>\n",
       "      <th>P value</th>\n",
       "      <th>N</th>\n",
       "      <th>beta_hs</th>\n",
       "      <th>ATE</th>\n",
       "    </tr>\n",
       "  </thead>\n",
       "  <tbody>\n",
       "    <tr>\n",
       "      <th>count</th>\n",
       "      <td>1000.000000</td>\n",
       "      <td>1000.000000</td>\n",
       "      <td>1.000000e+03</td>\n",
       "      <td>1000.0</td>\n",
       "      <td>1.000000e+03</td>\n",
       "      <td>1.000000e+03</td>\n",
       "    </tr>\n",
       "    <tr>\n",
       "      <th>mean</th>\n",
       "      <td>0.031990</td>\n",
       "      <td>0.008745</td>\n",
       "      <td>1.061445e-02</td>\n",
       "      <td>13560.0</td>\n",
       "      <td>3.500000e-01</td>\n",
       "      <td>3.200000e-02</td>\n",
       "    </tr>\n",
       "    <tr>\n",
       "      <th>std</th>\n",
       "      <td>0.008667</td>\n",
       "      <td>0.000019</td>\n",
       "      <td>5.407759e-02</td>\n",
       "      <td>0.0</td>\n",
       "      <td>3.221258e-15</td>\n",
       "      <td>2.082710e-17</td>\n",
       "    </tr>\n",
       "    <tr>\n",
       "      <th>min</th>\n",
       "      <td>-0.000035</td>\n",
       "      <td>0.008684</td>\n",
       "      <td>6.401579e-14</td>\n",
       "      <td>13560.0</td>\n",
       "      <td>3.500000e-01</td>\n",
       "      <td>3.200000e-02</td>\n",
       "    </tr>\n",
       "    <tr>\n",
       "      <th>25%</th>\n",
       "      <td>0.026549</td>\n",
       "      <td>0.008732</td>\n",
       "      <td>1.742314e-05</td>\n",
       "      <td>13560.0</td>\n",
       "      <td>3.500000e-01</td>\n",
       "      <td>3.200000e-02</td>\n",
       "    </tr>\n",
       "    <tr>\n",
       "      <th>50%</th>\n",
       "      <td>0.032326</td>\n",
       "      <td>0.008744</td>\n",
       "      <td>2.184588e-04</td>\n",
       "      <td>13560.0</td>\n",
       "      <td>3.500000e-01</td>\n",
       "      <td>3.200000e-02</td>\n",
       "    </tr>\n",
       "    <tr>\n",
       "      <th>75%</th>\n",
       "      <td>0.037531</td>\n",
       "      <td>0.008758</td>\n",
       "      <td>2.412847e-03</td>\n",
       "      <td>13560.0</td>\n",
       "      <td>3.500000e-01</td>\n",
       "      <td>3.200000e-02</td>\n",
       "    </tr>\n",
       "    <tr>\n",
       "      <th>max</th>\n",
       "      <td>0.065489</td>\n",
       "      <td>0.008805</td>\n",
       "      <td>9.967724e-01</td>\n",
       "      <td>13560.0</td>\n",
       "      <td>3.500000e-01</td>\n",
       "      <td>3.200000e-02</td>\n",
       "    </tr>\n",
       "  </tbody>\n",
       "</table>\n",
       "</div>"
      ],
      "text/plain": [
       "       Estimated coefficient of d  Standard Error in d       P value        N  \\\n",
       "count                 1000.000000          1000.000000  1.000000e+03   1000.0   \n",
       "mean                     0.031990             0.008745  1.061445e-02  13560.0   \n",
       "std                      0.008667             0.000019  5.407759e-02      0.0   \n",
       "min                     -0.000035             0.008684  6.401579e-14  13560.0   \n",
       "25%                      0.026549             0.008732  1.742314e-05  13560.0   \n",
       "50%                      0.032326             0.008744  2.184588e-04  13560.0   \n",
       "75%                      0.037531             0.008758  2.412847e-03  13560.0   \n",
       "max                      0.065489             0.008805  9.967724e-01  13560.0   \n",
       "\n",
       "            beta_hs           ATE  \n",
       "count  1.000000e+03  1.000000e+03  \n",
       "mean   3.500000e-01  3.200000e-02  \n",
       "std    3.221258e-15  2.082710e-17  \n",
       "min    3.500000e-01  3.200000e-02  \n",
       "25%    3.500000e-01  3.200000e-02  \n",
       "50%    3.500000e-01  3.200000e-02  \n",
       "75%    3.500000e-01  3.200000e-02  \n",
       "max    3.500000e-01  3.200000e-02  "
      ]
     },
     "execution_count": 89,
     "metadata": {},
     "output_type": "execute_result"
    }
   ],
   "source": [
    "Repeated_sampling_results_Model1.describe()"
   ]
  },
  {
   "cell_type": "code",
   "execution_count": 90,
   "metadata": {},
   "outputs": [
    {
     "data": {
      "text/html": [
       "<div>\n",
       "<style scoped>\n",
       "    .dataframe tbody tr th:only-of-type {\n",
       "        vertical-align: middle;\n",
       "    }\n",
       "\n",
       "    .dataframe tbody tr th {\n",
       "        vertical-align: top;\n",
       "    }\n",
       "\n",
       "    .dataframe thead th {\n",
       "        text-align: right;\n",
       "    }\n",
       "</style>\n",
       "<table border=\"1\" class=\"dataframe\">\n",
       "  <thead>\n",
       "    <tr style=\"text-align: right;\">\n",
       "      <th></th>\n",
       "      <th>Estimated coefficient of d</th>\n",
       "      <th>Standard Error in d</th>\n",
       "      <th>P value</th>\n",
       "      <th>N</th>\n",
       "      <th>beta_hs</th>\n",
       "      <th>ATE</th>\n",
       "    </tr>\n",
       "  </thead>\n",
       "  <tbody>\n",
       "    <tr>\n",
       "      <th>count</th>\n",
       "      <td>1000.000000</td>\n",
       "      <td>1000.000000</td>\n",
       "      <td>1.000000e+03</td>\n",
       "      <td>1000.0</td>\n",
       "      <td>1.000000e+03</td>\n",
       "      <td>1.000000e+03</td>\n",
       "    </tr>\n",
       "    <tr>\n",
       "      <th>mean</th>\n",
       "      <td>0.031818</td>\n",
       "      <td>0.008186</td>\n",
       "      <td>5.301303e-03</td>\n",
       "      <td>13560.0</td>\n",
       "      <td>3.500000e-01</td>\n",
       "      <td>3.200000e-02</td>\n",
       "    </tr>\n",
       "    <tr>\n",
       "      <th>std</th>\n",
       "      <td>0.007774</td>\n",
       "      <td>0.000031</td>\n",
       "      <td>2.866430e-02</td>\n",
       "      <td>0.0</td>\n",
       "      <td>3.221258e-15</td>\n",
       "      <td>2.082710e-17</td>\n",
       "    </tr>\n",
       "    <tr>\n",
       "      <th>min</th>\n",
       "      <td>0.004912</td>\n",
       "      <td>0.008098</td>\n",
       "      <td>4.231118e-13</td>\n",
       "      <td>13560.0</td>\n",
       "      <td>3.500000e-01</td>\n",
       "      <td>3.200000e-02</td>\n",
       "    </tr>\n",
       "    <tr>\n",
       "      <th>25%</th>\n",
       "      <td>0.026461</td>\n",
       "      <td>0.008164</td>\n",
       "      <td>6.151233e-06</td>\n",
       "      <td>13560.0</td>\n",
       "      <td>3.500000e-01</td>\n",
       "      <td>3.200000e-02</td>\n",
       "    </tr>\n",
       "    <tr>\n",
       "      <th>50%</th>\n",
       "      <td>0.031887</td>\n",
       "      <td>0.008186</td>\n",
       "      <td>9.893729e-05</td>\n",
       "      <td>13560.0</td>\n",
       "      <td>3.500000e-01</td>\n",
       "      <td>3.200000e-02</td>\n",
       "    </tr>\n",
       "    <tr>\n",
       "      <th>75%</th>\n",
       "      <td>0.037045</td>\n",
       "      <td>0.008207</td>\n",
       "      <td>1.223621e-03</td>\n",
       "      <td>13560.0</td>\n",
       "      <td>3.500000e-01</td>\n",
       "      <td>3.200000e-02</td>\n",
       "    </tr>\n",
       "    <tr>\n",
       "      <th>max</th>\n",
       "      <td>0.059212</td>\n",
       "      <td>0.008282</td>\n",
       "      <td>5.484891e-01</td>\n",
       "      <td>13560.0</td>\n",
       "      <td>3.500000e-01</td>\n",
       "      <td>3.200000e-02</td>\n",
       "    </tr>\n",
       "  </tbody>\n",
       "</table>\n",
       "</div>"
      ],
      "text/plain": [
       "       Estimated coefficient of d  Standard Error in d       P value        N  \\\n",
       "count                 1000.000000          1000.000000  1.000000e+03   1000.0   \n",
       "mean                     0.031818             0.008186  5.301303e-03  13560.0   \n",
       "std                      0.007774             0.000031  2.866430e-02      0.0   \n",
       "min                      0.004912             0.008098  4.231118e-13  13560.0   \n",
       "25%                      0.026461             0.008164  6.151233e-06  13560.0   \n",
       "50%                      0.031887             0.008186  9.893729e-05  13560.0   \n",
       "75%                      0.037045             0.008207  1.223621e-03  13560.0   \n",
       "max                      0.059212             0.008282  5.484891e-01  13560.0   \n",
       "\n",
       "            beta_hs           ATE  \n",
       "count  1.000000e+03  1.000000e+03  \n",
       "mean   3.500000e-01  3.200000e-02  \n",
       "std    3.221258e-15  2.082710e-17  \n",
       "min    3.500000e-01  3.200000e-02  \n",
       "25%    3.500000e-01  3.200000e-02  \n",
       "50%    3.500000e-01  3.200000e-02  \n",
       "75%    3.500000e-01  3.200000e-02  \n",
       "max    3.500000e-01  3.200000e-02  "
      ]
     },
     "execution_count": 90,
     "metadata": {},
     "output_type": "execute_result"
    }
   ],
   "source": [
    "Repeated_sampling_results_Model2.describe()"
   ]
  },
  {
   "cell_type": "markdown",
   "metadata": {},
   "source": [
    "# 5."
   ]
  },
  {
   "cell_type": "code",
   "execution_count": 127,
   "metadata": {},
   "outputs": [
    {
     "data": {
      "text/plain": [
       "Text(0.5, 1.0, 'Sampling distribution of estimated ATE \\n Model 2')"
      ]
     },
     "execution_count": 127,
     "metadata": {},
     "output_type": "execute_result"
    },
    {
     "data": {
      "image/png": "[encoded data removed]",
      "text/plain": [
       "<Figure size 1080x360 with 2 Axes>"
      ]
     },
     "metadata": {},
     "output_type": "display_data"
    }
   ],
   "source": [
    "fig, ax = plt.subplots(1,2, figsize = (15,5))\n",
    "Repeated_sampling_results_Model1['Estimated coefficient of d'].hist(bins = 20, density=True, ax =ax[0])\n",
    "ax[0].set_xlabel(\"Estimated ATE\", fontsize=12, color = 'white')\n",
    "ax[0].set_title(\"Sampling distribution of estimated ATE \\n Model 1\", color='white')\n",
    "\n",
    "Repeated_sampling_results_Model2['Estimated coefficient of d'].hist(bins = 20, density=True, ax =ax[1])\n",
    "ax[1].set_xlabel(\"Estimated ATE\", fontsize=12, color = 'white')\n",
    "ax[1].set_title(\"Sampling distribution of estimated ATE \\n Model 2\", color='white')"
   ]
  },
  {
   "cell_type": "markdown",
   "metadata": {},
   "source": [
    "# 1.2"
   ]
  },
  {
   "cell_type": "markdown",
   "metadata": {},
   "source": [
    "# 1."
   ]
  },
  {
   "cell_type": "code",
   "execution_count": 131,
   "metadata": {},
   "outputs": [],
   "source": [
    "def gen_shoe_data(N, block=False, person_variability=5):\n",
    "\n",
    "  # Make N people each with their own randomly wear rate in [0, person_variability].\n",
    "  people = np.arange(0, N)\n",
    "  r_person = np.random.uniform(0, person_variability, size=N)\n",
    "  \n",
    "  # Make left and right feet\n",
    "  df_left = pd.DataFrame({'i': people})\n",
    "  df_left['left_foot'] = 1\n",
    "  df_right = pd.DataFrame({'i': people})\n",
    "  df_right['left_foot'] = 0 \n",
    "  df = pd.concat([df_left, df_right], axis=0)\n",
    "  df['shoe'] = np.arange(0, df.shape[0])\n",
    "  \n",
    "  # Each of the person's feet will have the same Y0 (success probability)\n",
    "  df['r_y0'] = r_person[df['i']]\n",
    "  \n",
    "  # Treatment reduces wear rate by 0.20\n",
    "  ATE = -0.20\n",
    "  # Y outcomes are measures of shoe wear\n",
    "  Y0 = np.random.normal(loc=df['r_y0'])\n",
    "  Y1 = np.random.normal(loc=df['r_y0'] + ATE)\n",
    "  df['y0'] = Y0\n",
    "  df['y1'] = Y1\n",
    "  \n",
    "  P_treatment = 0.5\n",
    "  if block == False:\n",
    "    treatment_shoes = np.random.choice(df['shoe'], int(len(df['shoe']) * P_treatment), replace=False)\n",
    "    df['d'] = df['shoe'].isin(treatment_shoes).astype('float')\n",
    "  else:\n",
    "    # Treat left foot only\n",
    "    # In real life we would treat a random foot.\n",
    "    # Wouldn't do this in real life but it doesn't matter for the simulation.\n",
    "    df['d'] = df['left_foot']\n",
    "         \n",
    "  df['y'] = df.eval(\"y1 * d + y0 * (1 - d)\")\n",
    "  del df['y0']\n",
    "  del df['y1']\n",
    "  return df\n",
    "\n",
    "def estimate_ate(df):\n",
    "  means = df.groupby('d')['y'].mean()\n",
    "  return {'estimated_ate': means[1] - means[0]}\n",
    "\n",
    "\n",
    "def regression_ate(df, formula=\"y ~ d + r_y0\"):\n",
    "  r = sfa.ols(formula, df).fit()\n",
    "  return {\n",
    "      'estimated_ate': r.params['d'],\n",
    "      'estimated_ate_se': r.bse['d']\n",
    "  }"
   ]
  },
  {
   "cell_type": "code",
   "execution_count": 132,
   "metadata": {},
   "outputs": [
    {
     "data": {
      "application/vnd.jupyter.widget-view+json": {
       "model_id": "86d484993aa348b0b9b3bc195aff815c",
       "version_major": 2,
       "version_minor": 0
      },
      "text/plain": [
       "HBox(children=(IntProgress(value=0, max=500), HTML(value='')))"
      ]
     },
     "metadata": {},
     "output_type": "display_data"
    },
    {
     "name": "stdout",
     "output_type": "stream",
     "text": [
      "\n"
     ]
    },
    {
     "data": {
      "application/vnd.jupyter.widget-view+json": {
       "model_id": "9323afc850cf450b8ae7ef040e8f4b10",
       "version_major": 2,
       "version_minor": 0
      },
      "text/plain": [
       "HBox(children=(IntProgress(value=0, max=500), HTML(value='')))"
      ]
     },
     "metadata": {},
     "output_type": "display_data"
    },
    {
     "name": "stdout",
     "output_type": "stream",
     "text": [
      "\n"
     ]
    },
    {
     "data": {
      "application/vnd.jupyter.widget-view+json": {
       "model_id": "94e5aa80475c471ca7da19c5a419e860",
       "version_major": 2,
       "version_minor": 0
      },
      "text/plain": [
       "HBox(children=(IntProgress(value=0, max=500), HTML(value='')))"
      ]
     },
     "metadata": {},
     "output_type": "display_data"
    },
    {
     "name": "stdout",
     "output_type": "stream",
     "text": [
      "\n"
     ]
    },
    {
     "data": {
      "application/vnd.jupyter.widget-view+json": {
       "model_id": "c292ad93b7454983990c2d6c53a0c52c",
       "version_major": 2,
       "version_minor": 0
      },
      "text/plain": [
       "HBox(children=(IntProgress(value=0, max=500), HTML(value='')))"
      ]
     },
     "metadata": {},
     "output_type": "display_data"
    },
    {
     "name": "stdout",
     "output_type": "stream",
     "text": [
      "\n"
     ]
    },
    {
     "data": {
      "text/html": [
       "<div>\n",
       "<style scoped>\n",
       "    .dataframe tbody tr th:only-of-type {\n",
       "        vertical-align: middle;\n",
       "    }\n",
       "\n",
       "    .dataframe tbody tr th {\n",
       "        vertical-align: top;\n",
       "    }\n",
       "\n",
       "    .dataframe thead th {\n",
       "        text-align: right;\n",
       "    }\n",
       "</style>\n",
       "<table border=\"1\" class=\"dataframe\">\n",
       "  <thead>\n",
       "    <tr style=\"text-align: right;\">\n",
       "      <th></th>\n",
       "      <th>noblock</th>\n",
       "      <th>block</th>\n",
       "    </tr>\n",
       "  </thead>\n",
       "  <tbody>\n",
       "    <tr>\n",
       "      <th>count</th>\n",
       "      <td>500.000000</td>\n",
       "      <td>500.000000</td>\n",
       "    </tr>\n",
       "    <tr>\n",
       "      <th>mean</th>\n",
       "      <td>-0.204486</td>\n",
       "      <td>-0.198667</td>\n",
       "    </tr>\n",
       "    <tr>\n",
       "      <th>std</th>\n",
       "      <td>0.239379</td>\n",
       "      <td>0.141177</td>\n",
       "    </tr>\n",
       "    <tr>\n",
       "      <th>min</th>\n",
       "      <td>-0.848753</td>\n",
       "      <td>-0.658208</td>\n",
       "    </tr>\n",
       "    <tr>\n",
       "      <th>25%</th>\n",
       "      <td>-0.365802</td>\n",
       "      <td>-0.296020</td>\n",
       "    </tr>\n",
       "    <tr>\n",
       "      <th>50%</th>\n",
       "      <td>-0.210571</td>\n",
       "      <td>-0.195772</td>\n",
       "    </tr>\n",
       "    <tr>\n",
       "      <th>75%</th>\n",
       "      <td>-0.051753</td>\n",
       "      <td>-0.094184</td>\n",
       "    </tr>\n",
       "    <tr>\n",
       "      <th>max</th>\n",
       "      <td>0.497206</td>\n",
       "      <td>0.200633</td>\n",
       "    </tr>\n",
       "  </tbody>\n",
       "</table>\n",
       "</div>"
      ],
      "text/plain": [
       "          noblock       block\n",
       "count  500.000000  500.000000\n",
       "mean    -0.204486   -0.198667\n",
       "std      0.239379    0.141177\n",
       "min     -0.848753   -0.658208\n",
       "25%     -0.365802   -0.296020\n",
       "50%     -0.210571   -0.195772\n",
       "75%     -0.051753   -0.094184\n",
       "max      0.497206    0.200633"
      ]
     },
     "execution_count": 132,
     "metadata": {},
     "output_type": "execute_result"
    }
   ],
   "source": [
    "# Generate simulated data sets without blocking and with blocking\n",
    "B = 500\n",
    "inter_person_variability = 5\n",
    "# Generate simulated data sets without blocking and with blocking\n",
    "noblock = [gen_shoe_data(100, False, inter_person_variability) \n",
    "      for _ in tqdm_notebook(np.arange(0, B))]\n",
    "block = [gen_shoe_data(100, True, inter_person_variability) for _ in tqdm_notebook(np.arange(0, B))]\n",
    "# Estimate the ATE of each data set\n",
    "m_noblock = pd.DataFrame([estimate_ate(d) for d in tqdm_notebook(noblock)])\n",
    "m_block = pd.DataFrame([estimate_ate(d) for d in tqdm_notebook(block)])\n",
    "# Show results\n",
    "results = pd.concat([\n",
    "    m_noblock['estimated_ate'].describe(),\n",
    "    m_block['estimated_ate'].describe()\n",
    "], axis=1)\n",
    "results.columns = ['noblock', 'block']\n",
    "results"
   ]
  },
  {
   "cell_type": "markdown",
   "metadata": {},
   "source": [
    "# 3."
   ]
  },
  {
   "cell_type": "code",
   "execution_count": 143,
   "metadata": {},
   "outputs": [
    {
     "data": {
      "application/vnd.jupyter.widget-view+json": {
       "model_id": "d9dccd86be5a4fea96e07bfc24af2624",
       "version_major": 2,
       "version_minor": 0
      },
      "text/plain": [
       "HBox(children=(IntProgress(value=0, max=500), HTML(value='')))"
      ]
     },
     "metadata": {},
     "output_type": "display_data"
    },
    {
     "data": {
      "application/vnd.jupyter.widget-view+json": {
       "model_id": "b827049cea4a43d0ab031b855d8074dd",
       "version_major": 2,
       "version_minor": 0
      },
      "text/plain": [
       "HBox(children=(IntProgress(value=0, max=500), HTML(value='')))"
      ]
     },
     "metadata": {},
     "output_type": "display_data"
    },
    {
     "data": {
      "application/vnd.jupyter.widget-view+json": {
       "model_id": "dc371a01880d4238957d2278c3cb72e4",
       "version_major": 2,
       "version_minor": 0
      },
      "text/plain": [
       "HBox(children=(IntProgress(value=0, max=500), HTML(value='')))"
      ]
     },
     "metadata": {},
     "output_type": "display_data"
    },
    {
     "data": {
      "application/vnd.jupyter.widget-view+json": {
       "model_id": "34a92a1887804917b2833eb2806f921e",
       "version_major": 2,
       "version_minor": 0
      },
      "text/plain": [
       "HBox(children=(IntProgress(value=0, max=500), HTML(value='')))"
      ]
     },
     "metadata": {},
     "output_type": "display_data"
    },
    {
     "data": {
      "application/vnd.jupyter.widget-view+json": {
       "model_id": "6d55a066b4754ccc8e9085c02ed76096",
       "version_major": 2,
       "version_minor": 0
      },
      "text/plain": [
       "HBox(children=(IntProgress(value=0, max=500), HTML(value='')))"
      ]
     },
     "metadata": {},
     "output_type": "display_data"
    },
    {
     "data": {
      "application/vnd.jupyter.widget-view+json": {
       "model_id": "192cf7889f264e349e35979831b232f0",
       "version_major": 2,
       "version_minor": 0
      },
      "text/plain": [
       "HBox(children=(IntProgress(value=0, max=500), HTML(value='')))"
      ]
     },
     "metadata": {},
     "output_type": "display_data"
    },
    {
     "data": {
      "application/vnd.jupyter.widget-view+json": {
       "model_id": "7c8fea1efeff4bb880782b9dfa1bbc0e",
       "version_major": 2,
       "version_minor": 0
      },
      "text/plain": [
       "HBox(children=(IntProgress(value=0, max=500), HTML(value='')))"
      ]
     },
     "metadata": {},
     "output_type": "display_data"
    },
    {
     "data": {
      "application/vnd.jupyter.widget-view+json": {
       "model_id": "2dc0afd786a346fe801427f6e38fd2d2",
       "version_major": 2,
       "version_minor": 0
      },
      "text/plain": [
       "HBox(children=(IntProgress(value=0, max=500), HTML(value='')))"
      ]
     },
     "metadata": {},
     "output_type": "display_data"
    },
    {
     "data": {
      "application/vnd.jupyter.widget-view+json": {
       "model_id": "cfecd12d1f3c40069277646621fdddb1",
       "version_major": 2,
       "version_minor": 0
      },
      "text/plain": [
       "HBox(children=(IntProgress(value=0, max=500), HTML(value='')))"
      ]
     },
     "metadata": {},
     "output_type": "display_data"
    },
    {
     "data": {
      "application/vnd.jupyter.widget-view+json": {
       "model_id": "175303d7f9084b2d9aca9a0a48304ed2",
       "version_major": 2,
       "version_minor": 0
      },
      "text/plain": [
       "HBox(children=(IntProgress(value=0, max=500), HTML(value='')))"
      ]
     },
     "metadata": {},
     "output_type": "display_data"
    },
    {
     "data": {
      "application/vnd.jupyter.widget-view+json": {
       "model_id": "b3204805c744490398de181b5ff59dba",
       "version_major": 2,
       "version_minor": 0
      },
      "text/plain": [
       "HBox(children=(IntProgress(value=0, max=500), HTML(value='')))"
      ]
     },
     "metadata": {},
     "output_type": "display_data"
    },
    {
     "data": {
      "application/vnd.jupyter.widget-view+json": {
       "model_id": "5df9c9e45c604b90bb8b14b37558be03",
       "version_major": 2,
       "version_minor": 0
      },
      "text/plain": [
       "HBox(children=(IntProgress(value=0, max=500), HTML(value='')))"
      ]
     },
     "metadata": {},
     "output_type": "display_data"
    },
    {
     "data": {
      "application/vnd.jupyter.widget-view+json": {
       "model_id": "96eae92789e64124b996d68fd8409e67",
       "version_major": 2,
       "version_minor": 0
      },
      "text/plain": [
       "HBox(children=(IntProgress(value=0, max=500), HTML(value='')))"
      ]
     },
     "metadata": {},
     "output_type": "display_data"
    },
    {
     "data": {
      "application/vnd.jupyter.widget-view+json": {
       "model_id": "74827ce1167b4319a1e6fa3437c62cfa",
       "version_major": 2,
       "version_minor": 0
      },
      "text/plain": [
       "HBox(children=(IntProgress(value=0, max=500), HTML(value='')))"
      ]
     },
     "metadata": {},
     "output_type": "display_data"
    },
    {
     "data": {
      "application/vnd.jupyter.widget-view+json": {
       "model_id": "23db42ad5a9d4eb98a713fe01f0f03a0",
       "version_major": 2,
       "version_minor": 0
      },
      "text/plain": [
       "HBox(children=(IntProgress(value=0, max=500), HTML(value='')))"
      ]
     },
     "metadata": {},
     "output_type": "display_data"
    },
    {
     "data": {
      "application/vnd.jupyter.widget-view+json": {
       "model_id": "3a547642def548649e5cce9ae3f3b2fd",
       "version_major": 2,
       "version_minor": 0
      },
      "text/plain": [
       "HBox(children=(IntProgress(value=0, max=500), HTML(value='')))"
      ]
     },
     "metadata": {},
     "output_type": "display_data"
    },
    {
     "data": {
      "application/vnd.jupyter.widget-view+json": {
       "model_id": "635142fcd0a8431b884417713ff74e6c",
       "version_major": 2,
       "version_minor": 0
      },
      "text/plain": [
       "HBox(children=(IntProgress(value=0, max=500), HTML(value='')))"
      ]
     },
     "metadata": {},
     "output_type": "display_data"
    },
    {
     "data": {
      "application/vnd.jupyter.widget-view+json": {
       "model_id": "a92d4416bbc74f059aaffe6190e22cfd",
       "version_major": 2,
       "version_minor": 0
      },
      "text/plain": [
       "HBox(children=(IntProgress(value=0, max=500), HTML(value='')))"
      ]
     },
     "metadata": {},
     "output_type": "display_data"
    },
    {
     "data": {
      "application/vnd.jupyter.widget-view+json": {
       "model_id": "39c45b4e7c0a4282b3682bdeab0e27db",
       "version_major": 2,
       "version_minor": 0
      },
      "text/plain": [
       "HBox(children=(IntProgress(value=0, max=500), HTML(value='')))"
      ]
     },
     "metadata": {},
     "output_type": "display_data"
    },
    {
     "data": {
      "application/vnd.jupyter.widget-view+json": {
       "model_id": "e9852a1788b14e2d96432aed027f14b0",
       "version_major": 2,
       "version_minor": 0
      },
      "text/plain": [
       "HBox(children=(IntProgress(value=0, max=500), HTML(value='')))"
      ]
     },
     "metadata": {},
     "output_type": "display_data"
    }
   ],
   "source": [
    "# Generate simulated data sets without blocking and with blocking\n",
    "B = 500\n",
    "inter_person_variability = [0, 1, 5, 10, 20]\n",
    "\n",
    "noblock_std = []\n",
    "block_std = []\n",
    "\n",
    "for i in inter_person_variability:\n",
    "    # Generate simulated data sets without blocking and with blocking\n",
    "    noblock = [gen_shoe_data(100, False, i) \n",
    "          for _ in tqdm_notebook(np.arange(0, B))]\n",
    "    block = [gen_shoe_data(100, True, i) for _ in tqdm_notebook(np.arange(0, B))]\n",
    "    # Estimate the ATE of each data set\n",
    "    m_noblock = pd.DataFrame([estimate_ate(d) for d in tqdm_notebook(noblock)])\n",
    "    m_block = pd.DataFrame([estimate_ate(d) for d in tqdm_notebook(block)])\n",
    "    # Show results\n",
    "    results = pd.concat([\n",
    "        m_noblock['estimated_ate'].describe(),\n",
    "        m_block['estimated_ate'].describe()\n",
    "    ], axis=1)\n",
    "    results.columns = ['noblock', 'block']\n",
    "    noblock_std.append(results.loc['std'][0])\n",
    "    block_std.append(results.loc['std'][1])\n",
    "    \n"
   ]
  },
  {
   "cell_type": "code",
   "execution_count": 149,
   "metadata": {},
   "outputs": [
    {
     "data": {
      "image/png": "[encoded data removed]",
      "text/plain": [
       "<Figure size 432x288 with 1 Axes>"
      ]
     },
     "metadata": {},
     "output_type": "display_data"
    }
   ],
   "source": [
    "plt.plot(inter_person_variability, noblock_std, 'r--',label ='Noblock')\n",
    "plt.plot(inter_person_variability, block_std, 'b--',label = 'Block')\n",
    "plt.title('title')\n",
    "plt.ylabel('Standard Deviation in ATE estimate')\n",
    "plt.xlabel('Variability')\n",
    "plt.legend()\n",
    "plt.show()"
   ]
  },
  {
   "cell_type": "markdown",
   "metadata": {},
   "source": [
    "# 5."
   ]
  },
  {
   "cell_type": "code",
   "execution_count": 150,
   "metadata": {},
   "outputs": [
    {
     "data": {
      "application/vnd.jupyter.widget-view+json": {
       "model_id": "e9770f7c004a445391b47f2ab91eac94",
       "version_major": 2,
       "version_minor": 0
      },
      "text/plain": [
       "HBox(children=(IntProgress(value=0, max=500), HTML(value='')))"
      ]
     },
     "metadata": {},
     "output_type": "display_data"
    },
    {
     "data": {
      "application/vnd.jupyter.widget-view+json": {
       "model_id": "956fc17f100e467c915ed708816a9d86",
       "version_major": 2,
       "version_minor": 0
      },
      "text/plain": [
       "HBox(children=(IntProgress(value=0, max=500), HTML(value='')))"
      ]
     },
     "metadata": {},
     "output_type": "display_data"
    },
    {
     "data": {
      "application/vnd.jupyter.widget-view+json": {
       "model_id": "5b0cb2ca183146e08a52e88e20a27cc0",
       "version_major": 2,
       "version_minor": 0
      },
      "text/plain": [
       "HBox(children=(IntProgress(value=0, max=500), HTML(value='')))"
      ]
     },
     "metadata": {},
     "output_type": "display_data"
    },
    {
     "data": {
      "application/vnd.jupyter.widget-view+json": {
       "model_id": "f9a0d574355e47058b562663ae7044f6",
       "version_major": 2,
       "version_minor": 0
      },
      "text/plain": [
       "HBox(children=(IntProgress(value=0, max=500), HTML(value='')))"
      ]
     },
     "metadata": {},
     "output_type": "display_data"
    },
    {
     "data": {
      "text/html": [
       "<div>\n",
       "<style scoped>\n",
       "    .dataframe tbody tr th:only-of-type {\n",
       "        vertical-align: middle;\n",
       "    }\n",
       "\n",
       "    .dataframe tbody tr th {\n",
       "        vertical-align: top;\n",
       "    }\n",
       "\n",
       "    .dataframe thead th {\n",
       "        text-align: right;\n",
       "    }\n",
       "</style>\n",
       "<table border=\"1\" class=\"dataframe\">\n",
       "  <thead>\n",
       "    <tr style=\"text-align: right;\">\n",
       "      <th></th>\n",
       "      <th>noblock</th>\n",
       "      <th>block</th>\n",
       "    </tr>\n",
       "  </thead>\n",
       "  <tbody>\n",
       "    <tr>\n",
       "      <th>count</th>\n",
       "      <td>500.000000</td>\n",
       "      <td>500.000000</td>\n",
       "    </tr>\n",
       "    <tr>\n",
       "      <th>mean</th>\n",
       "      <td>-0.193435</td>\n",
       "      <td>-0.188138</td>\n",
       "    </tr>\n",
       "    <tr>\n",
       "      <th>std</th>\n",
       "      <td>0.147357</td>\n",
       "      <td>0.146925</td>\n",
       "    </tr>\n",
       "    <tr>\n",
       "      <th>min</th>\n",
       "      <td>-0.643983</td>\n",
       "      <td>-0.568360</td>\n",
       "    </tr>\n",
       "    <tr>\n",
       "      <th>25%</th>\n",
       "      <td>-0.295718</td>\n",
       "      <td>-0.292733</td>\n",
       "    </tr>\n",
       "    <tr>\n",
       "      <th>50%</th>\n",
       "      <td>-0.195516</td>\n",
       "      <td>-0.185138</td>\n",
       "    </tr>\n",
       "    <tr>\n",
       "      <th>75%</th>\n",
       "      <td>-0.105597</td>\n",
       "      <td>-0.080748</td>\n",
       "    </tr>\n",
       "    <tr>\n",
       "      <th>max</th>\n",
       "      <td>0.231895</td>\n",
       "      <td>0.214301</td>\n",
       "    </tr>\n",
       "  </tbody>\n",
       "</table>\n",
       "</div>"
      ],
      "text/plain": [
       "          noblock       block\n",
       "count  500.000000  500.000000\n",
       "mean    -0.193435   -0.188138\n",
       "std      0.147357    0.146925\n",
       "min     -0.643983   -0.568360\n",
       "25%     -0.295718   -0.292733\n",
       "50%     -0.195516   -0.185138\n",
       "75%     -0.105597   -0.080748\n",
       "max      0.231895    0.214301"
      ]
     },
     "execution_count": 150,
     "metadata": {},
     "output_type": "execute_result"
    }
   ],
   "source": [
    "# Generate simulated data sets without blocking and with blocking\n",
    "B = 500\n",
    "inter_person_variability = 20\n",
    "# Generate simulated data sets without blocking and with blocking\n",
    "noblock = [gen_shoe_data(100, False, inter_person_variability) \n",
    "      for _ in tqdm_notebook(np.arange(0, B))]\n",
    "block = [gen_shoe_data(100, True, inter_person_variability) for _ in tqdm_notebook(np.arange(0, B))]\n",
    "# Estimate the ATE of each data set\n",
    "m_noblock = pd.DataFrame([regression_ate(d) for d in tqdm_notebook(noblock)])\n",
    "m_block = pd.DataFrame([regression_ate(d) for d in tqdm_notebook(block)])\n",
    "# Show results\n",
    "results = pd.concat([\n",
    "    m_noblock['estimated_ate'].describe(),\n",
    "    m_block['estimated_ate'].describe()\n",
    "], axis=1)\n",
    "results.columns = ['noblock', 'block']\n",
    "results"
   ]
  },
  {
   "cell_type": "code",
   "execution_count": 153,
   "metadata": {},
   "outputs": [
    {
     "data": {
      "application/vnd.jupyter.widget-view+json": {
       "model_id": "bc0f275757264efc9cd6264b7f21a946",
       "version_major": 2,
       "version_minor": 0
      },
      "text/plain": [
       "HBox(children=(IntProgress(value=0, max=500), HTML(value='')))"
      ]
     },
     "metadata": {},
     "output_type": "display_data"
    },
    {
     "data": {
      "application/vnd.jupyter.widget-view+json": {
       "model_id": "773c600014fb4166883e2d41f96fe127",
       "version_major": 2,
       "version_minor": 0
      },
      "text/plain": [
       "HBox(children=(IntProgress(value=0, max=500), HTML(value='')))"
      ]
     },
     "metadata": {},
     "output_type": "display_data"
    },
    {
     "data": {
      "text/html": [
       "<div>\n",
       "<style scoped>\n",
       "    .dataframe tbody tr th:only-of-type {\n",
       "        vertical-align: middle;\n",
       "    }\n",
       "\n",
       "    .dataframe tbody tr th {\n",
       "        vertical-align: top;\n",
       "    }\n",
       "\n",
       "    .dataframe thead th {\n",
       "        text-align: right;\n",
       "    }\n",
       "</style>\n",
       "<table border=\"1\" class=\"dataframe\">\n",
       "  <thead>\n",
       "    <tr style=\"text-align: right;\">\n",
       "      <th></th>\n",
       "      <th>noblock</th>\n",
       "      <th>block</th>\n",
       "    </tr>\n",
       "  </thead>\n",
       "  <tbody>\n",
       "    <tr>\n",
       "      <th>count</th>\n",
       "      <td>500.000000</td>\n",
       "      <td>500.000000</td>\n",
       "    </tr>\n",
       "    <tr>\n",
       "      <th>mean</th>\n",
       "      <td>-0.115036</td>\n",
       "      <td>-0.188138</td>\n",
       "    </tr>\n",
       "    <tr>\n",
       "      <th>std</th>\n",
       "      <td>0.854013</td>\n",
       "      <td>0.146925</td>\n",
       "    </tr>\n",
       "    <tr>\n",
       "      <th>min</th>\n",
       "      <td>-2.617298</td>\n",
       "      <td>-0.568360</td>\n",
       "    </tr>\n",
       "    <tr>\n",
       "      <th>25%</th>\n",
       "      <td>-0.734031</td>\n",
       "      <td>-0.292733</td>\n",
       "    </tr>\n",
       "    <tr>\n",
       "      <th>50%</th>\n",
       "      <td>-0.101706</td>\n",
       "      <td>-0.185138</td>\n",
       "    </tr>\n",
       "    <tr>\n",
       "      <th>75%</th>\n",
       "      <td>0.476481</td>\n",
       "      <td>-0.080748</td>\n",
       "    </tr>\n",
       "    <tr>\n",
       "      <th>max</th>\n",
       "      <td>2.553068</td>\n",
       "      <td>0.214301</td>\n",
       "    </tr>\n",
       "  </tbody>\n",
       "</table>\n",
       "</div>"
      ],
      "text/plain": [
       "          noblock       block\n",
       "count  500.000000  500.000000\n",
       "mean    -0.115036   -0.188138\n",
       "std      0.854013    0.146925\n",
       "min     -2.617298   -0.568360\n",
       "25%     -0.734031   -0.292733\n",
       "50%     -0.101706   -0.185138\n",
       "75%      0.476481   -0.080748\n",
       "max      2.553068    0.214301"
      ]
     },
     "execution_count": 153,
     "metadata": {},
     "output_type": "execute_result"
    }
   ],
   "source": [
    "m_noblock = pd.DataFrame([estimate_ate(d) for d in tqdm_notebook(noblock)])\n",
    "m_block = pd.DataFrame([estimate_ate(d) for d in tqdm_notebook(block)])\n",
    "# Show results\n",
    "results = pd.concat([\n",
    "    m_noblock['estimated_ate'].describe(),\n",
    "    m_block['estimated_ate'].describe()\n",
    "], axis=1)\n",
    "results.columns = ['noblock', 'block']\n",
    "results"
   ]
  },
  {
   "cell_type": "markdown",
   "metadata": {},
   "source": [
    "# 6."
   ]
  },
  {
   "cell_type": "markdown",
   "metadata": {},
   "source": [
    "Change score = Actual wear rate - historical wear rate\n",
    "ATE  = Average change score(Treatment) - Average change score(Control) "
   ]
  },
  {
   "cell_type": "code",
   "execution_count": 187,
   "metadata": {},
   "outputs": [],
   "source": [
    "def gen_shoe_data(N, block=False, person_variability=5):\n",
    "\n",
    "  # Make N people each with their own randomly wear rate in [0, person_variability].\n",
    "  people = np.arange(0, N)\n",
    "  r_person = np.random.uniform(0, person_variability, size=N)\n",
    "  # Make left and right feet\n",
    "  df_left = pd.DataFrame({'i': people})\n",
    "  df_left['left_foot'] = 1\n",
    "  df_right = pd.DataFrame({'i': people})\n",
    "  df_right['left_foot'] = 0 \n",
    "  df = pd.concat([df_left, df_right], axis=0)\n",
    "  df['shoe'] = np.arange(0, df.shape[0])\n",
    "  \n",
    "  # Each of the person's feet will have the same Y0 (success probability)\n",
    "  df['r_y0'] = r_person[df['i']]\n",
    "  # Treatment reduces wear rate by 0.20\n",
    "  ATE = -0.20\n",
    "  # Y outcomes are measures of shoe wear\n",
    "  Y0 = np.random.normal(loc=df['r_y0'])\n",
    "  Y0_hist = np.random.normal(loc=df['r_y0'])\n",
    "  Y1 = np.random.normal(loc=df['r_y0'] + ATE)\n",
    "  df['y0'] = Y0\n",
    "  df['y1'] = Y1\n",
    "  df['y0_hist'] = Y0_hist\n",
    "  P_treatment = 0.5\n",
    "  if block == False:\n",
    "    treatment_shoes = np.random.choice(df['shoe'], int(len(df['shoe']) * P_treatment), replace=False)\n",
    "    df['d'] = df['shoe'].isin(treatment_shoes).astype('float')\n",
    "  else:\n",
    "    # Treat left foot only\n",
    "    # In real life we would treat a random foot.\n",
    "    # Wouldn't do this in real life but it doesn't matter for the simulation.\n",
    "    df['d'] = df['left_foot']\n",
    "         \n",
    "  df['y'] = df.eval(\"y1 * d + y0 * (1 - d)\")\n",
    "  del df['y0']\n",
    "  del df['y1']\n",
    "  return df\n",
    "\n",
    "def estimate_ate(df):\n",
    "  means = df.groupby('d')['y'].mean()\n",
    "  return {'estimated_ate': means[1] - means[0]}\n",
    "\n",
    "\n",
    "def regression_ate(df, formula=\"y ~ d + r_y0\"):\n",
    "  r = sfa.ols(formula, df).fit()\n",
    "  return {\n",
    "      'estimated_ate': r.params['d'],\n",
    "      'estimated_ate_se': r.bse['d']\n",
    "  }"
   ]
  },
  {
   "cell_type": "code",
   "execution_count": 188,
   "metadata": {},
   "outputs": [
    {
     "data": {
      "application/vnd.jupyter.widget-view+json": {
       "model_id": "a3efeb8f4fa8446ab3d9540939e34787",
       "version_major": 2,
       "version_minor": 0
      },
      "text/plain": [
       "HBox(children=(IntProgress(value=0, max=500), HTML(value='')))"
      ]
     },
     "metadata": {},
     "output_type": "display_data"
    },
    {
     "data": {
      "application/vnd.jupyter.widget-view+json": {
       "model_id": "93ab582765df47b98d2dbaa2aab1e095",
       "version_major": 2,
       "version_minor": 0
      },
      "text/plain": [
       "HBox(children=(IntProgress(value=0, max=500), HTML(value='')))"
      ]
     },
     "metadata": {},
     "output_type": "display_data"
    }
   ],
   "source": [
    "# Generate simulated data sets without blocking and with blocking\n",
    "B = 500\n",
    "inter_person_variability = 20\n",
    "# Generate simulated data sets without blocking and with blocking\n",
    "noblock = [gen_shoe_data(100, False, inter_person_variability) \n",
    "      for _ in tqdm_notebook(np.arange(0, B))]\n",
    "block = [gen_shoe_data(100, True, inter_person_variability) for _ in tqdm_notebook(np.arange(0, B))]\n"
   ]
  },
  {
   "cell_type": "code",
   "execution_count": 189,
   "metadata": {},
   "outputs": [
    {
     "data": {
      "application/vnd.jupyter.widget-view+json": {
       "model_id": "aaafd1a8f475482e9168a1fb2017659a",
       "version_major": 2,
       "version_minor": 0
      },
      "text/plain": [
       "HBox(children=(IntProgress(value=0, max=500), HTML(value='')))"
      ]
     },
     "metadata": {},
     "output_type": "display_data"
    },
    {
     "data": {
      "application/vnd.jupyter.widget-view+json": {
       "model_id": "c0e0350e055b4d8f8e727148381dad3e",
       "version_major": 2,
       "version_minor": 0
      },
      "text/plain": [
       "HBox(children=(IntProgress(value=0, max=500), HTML(value='')))"
      ]
     },
     "metadata": {},
     "output_type": "display_data"
    },
    {
     "data": {
      "text/html": [
       "<div>\n",
       "<style scoped>\n",
       "    .dataframe tbody tr th:only-of-type {\n",
       "        vertical-align: middle;\n",
       "    }\n",
       "\n",
       "    .dataframe tbody tr th {\n",
       "        vertical-align: top;\n",
       "    }\n",
       "\n",
       "    .dataframe thead th {\n",
       "        text-align: right;\n",
       "    }\n",
       "</style>\n",
       "<table border=\"1\" class=\"dataframe\">\n",
       "  <thead>\n",
       "    <tr style=\"text-align: right;\">\n",
       "      <th></th>\n",
       "      <th>noblock</th>\n",
       "      <th>block</th>\n",
       "    </tr>\n",
       "  </thead>\n",
       "  <tbody>\n",
       "    <tr>\n",
       "      <th>count</th>\n",
       "      <td>500.000000</td>\n",
       "      <td>500.000000</td>\n",
       "    </tr>\n",
       "    <tr>\n",
       "      <th>mean</th>\n",
       "      <td>-0.201715</td>\n",
       "      <td>-0.204279</td>\n",
       "    </tr>\n",
       "    <tr>\n",
       "      <th>std</th>\n",
       "      <td>0.208575</td>\n",
       "      <td>0.195372</td>\n",
       "    </tr>\n",
       "    <tr>\n",
       "      <th>min</th>\n",
       "      <td>-0.708105</td>\n",
       "      <td>-0.683065</td>\n",
       "    </tr>\n",
       "    <tr>\n",
       "      <th>25%</th>\n",
       "      <td>-0.340564</td>\n",
       "      <td>-0.334003</td>\n",
       "    </tr>\n",
       "    <tr>\n",
       "      <th>50%</th>\n",
       "      <td>-0.195671</td>\n",
       "      <td>-0.197233</td>\n",
       "    </tr>\n",
       "    <tr>\n",
       "      <th>75%</th>\n",
       "      <td>-0.057213</td>\n",
       "      <td>-0.067955</td>\n",
       "    </tr>\n",
       "    <tr>\n",
       "      <th>max</th>\n",
       "      <td>0.468139</td>\n",
       "      <td>0.389933</td>\n",
       "    </tr>\n",
       "  </tbody>\n",
       "</table>\n",
       "</div>"
      ],
      "text/plain": [
       "          noblock       block\n",
       "count  500.000000  500.000000\n",
       "mean    -0.201715   -0.204279\n",
       "std      0.208575    0.195372\n",
       "min     -0.708105   -0.683065\n",
       "25%     -0.340564   -0.334003\n",
       "50%     -0.195671   -0.197233\n",
       "75%     -0.057213   -0.067955\n",
       "max      0.468139    0.389933"
      ]
     },
     "execution_count": 189,
     "metadata": {},
     "output_type": "execute_result"
    }
   ],
   "source": [
    "# Estimate the ATE of each data set\n",
    "def change_score_ATE(df):\n",
    "    df['change_score'] = df['y'] - df['y0_hist']\n",
    "    means = df.groupby('d')['change_score'].mean()\n",
    "    return {'estimated_ate': means[1] - means[0]}\n",
    "\n",
    "m_noblock = pd.DataFrame([change_score_ATE(d) for d in tqdm_notebook(noblock)])\n",
    "m_block = pd.DataFrame([change_score_ATE(d) for d in tqdm_notebook(block)])\n",
    "# Show results\n",
    "results = pd.concat([\n",
    "    m_noblock['estimated_ate'].describe(),\n",
    "    m_block['estimated_ate'].describe()\n",
    "], axis=1)\n",
    "results.columns = ['noblock', 'block']\n",
    "results"
   ]
  },
  {
   "cell_type": "markdown",
   "metadata": {},
   "source": [
    "# 7."
   ]
  },
  {
   "cell_type": "code",
   "execution_count": 169,
   "metadata": {},
   "outputs": [],
   "source": [
    "\n",
    "def gen_shoe_data_x(N, block=False, person_variability=5):\n",
    "\n",
    "    # Make N people each with their own randomly wear rate in [0, person_variability].\n",
    "    people = np.arange(0, N)\n",
    "    r_person = np.random.uniform(0, person_variability, size=N)\n",
    "  \n",
    "    # Make left and right feet\n",
    "    df_left = pd.DataFrame({'i': people})\n",
    "    df_left['left_foot'] = 1\n",
    "    df_right = pd.DataFrame({'i': people})\n",
    "    df_right['left_foot'] = 0 \n",
    "    df = pd.concat([df_left, df_right]*5, axis=0)\n",
    "    df['shoe'] = np.arange(0, df.shape[0])\n",
    "\n",
    "    # Each of the person's feet will have the same Y0 (success probability)\n",
    "    df['r_y0'] = r_person[df['i']]\n",
    "\n",
    "    # Treatment reduces wear rate by 0.20\n",
    "    ATE = -0.20\n",
    "    # Y outcomes are measures of shoe wear\n",
    "    Y0 = np.random.normal(loc=df['r_y0'])\n",
    "    Y1 = np.random.normal(loc=df['r_y0'] + ATE)\n",
    "    df['y0'] = Y0\n",
    "    df['y1'] = Y1\n",
    "\n",
    "    P_treatment = 0.5\n",
    "    if block == False:\n",
    "        treatment_shoes = np.random.choice(df['shoe'], int(len(df['shoe']) * P_treatment), replace=False)\n",
    "        df['d'] = df['shoe'].isin(treatment_shoes).astype('float')\n",
    "    else:\n",
    "        # Treat left foot only\n",
    "        # In real life we would treat a random foot.\n",
    "        # Wouldn't do this in real life but it doesn't matter for the simulation.\n",
    "        df['d'] = df['left_foot']\n",
    "\n",
    "    df['y'] = df.eval(\"y1 * d + y0 * (1 - d)\")\n",
    "    del df['y0']\n",
    "    del df['y1']\n",
    "    return df\n",
    "\n",
    "def estimate_ate(df):\n",
    "    means = df.groupby('d')['y'].mean()\n",
    "    return {'estimated_ate': means[1] - means[0]}\n",
    "\n",
    "\n",
    "def regression_ate(df, formula=\"y ~ d + r_y0\"):\n",
    "    r = sfa.ols(formula, df).fit()\n",
    "    return {\n",
    "      'estimated_ate': r.params['d'],\n",
    "      'estimated_ate_se': r.bse['d']\n",
    "  }\n",
    "\n"
   ]
  },
  {
   "cell_type": "code",
   "execution_count": 170,
   "metadata": {},
   "outputs": [
    {
     "data": {
      "application/vnd.jupyter.widget-view+json": {
       "model_id": "3a6dd9e5dc0249e398f2101029fd74b3",
       "version_major": 2,
       "version_minor": 0
      },
      "text/plain": [
       "HBox(children=(IntProgress(value=0, max=500), HTML(value='')))"
      ]
     },
     "metadata": {},
     "output_type": "display_data"
    },
    {
     "data": {
      "application/vnd.jupyter.widget-view+json": {
       "model_id": "dce3190208204d42a579d3ce7bd03add",
       "version_major": 2,
       "version_minor": 0
      },
      "text/plain": [
       "HBox(children=(IntProgress(value=0, max=500), HTML(value='')))"
      ]
     },
     "metadata": {},
     "output_type": "display_data"
    },
    {
     "data": {
      "application/vnd.jupyter.widget-view+json": {
       "model_id": "87917b59d8244f09a1eee3b41e9ae726",
       "version_major": 2,
       "version_minor": 0
      },
      "text/plain": [
       "HBox(children=(IntProgress(value=0, max=500), HTML(value='')))"
      ]
     },
     "metadata": {},
     "output_type": "display_data"
    },
    {
     "data": {
      "application/vnd.jupyter.widget-view+json": {
       "model_id": "fd3c67952bdd406da871d1fc21bcc16c",
       "version_major": 2,
       "version_minor": 0
      },
      "text/plain": [
       "HBox(children=(IntProgress(value=0, max=500), HTML(value='')))"
      ]
     },
     "metadata": {},
     "output_type": "display_data"
    },
    {
     "data": {
      "text/html": [
       "<div>\n",
       "<style scoped>\n",
       "    .dataframe tbody tr th:only-of-type {\n",
       "        vertical-align: middle;\n",
       "    }\n",
       "\n",
       "    .dataframe tbody tr th {\n",
       "        vertical-align: top;\n",
       "    }\n",
       "\n",
       "    .dataframe thead th {\n",
       "        text-align: right;\n",
       "    }\n",
       "</style>\n",
       "<table border=\"1\" class=\"dataframe\">\n",
       "  <thead>\n",
       "    <tr style=\"text-align: right;\">\n",
       "      <th></th>\n",
       "      <th>noblock</th>\n",
       "      <th>block</th>\n",
       "    </tr>\n",
       "  </thead>\n",
       "  <tbody>\n",
       "    <tr>\n",
       "      <th>count</th>\n",
       "      <td>500.000000</td>\n",
       "      <td>500.000000</td>\n",
       "    </tr>\n",
       "    <tr>\n",
       "      <th>mean</th>\n",
       "      <td>-0.204298</td>\n",
       "      <td>-0.192497</td>\n",
       "    </tr>\n",
       "    <tr>\n",
       "      <th>std</th>\n",
       "      <td>0.154098</td>\n",
       "      <td>0.135601</td>\n",
       "    </tr>\n",
       "    <tr>\n",
       "      <th>min</th>\n",
       "      <td>-0.691851</td>\n",
       "      <td>-0.599093</td>\n",
       "    </tr>\n",
       "    <tr>\n",
       "      <th>25%</th>\n",
       "      <td>-0.306842</td>\n",
       "      <td>-0.285514</td>\n",
       "    </tr>\n",
       "    <tr>\n",
       "      <th>50%</th>\n",
       "      <td>-0.200444</td>\n",
       "      <td>-0.197683</td>\n",
       "    </tr>\n",
       "    <tr>\n",
       "      <th>75%</th>\n",
       "      <td>-0.097968</td>\n",
       "      <td>-0.104501</td>\n",
       "    </tr>\n",
       "    <tr>\n",
       "      <th>max</th>\n",
       "      <td>0.270877</td>\n",
       "      <td>0.165247</td>\n",
       "    </tr>\n",
       "  </tbody>\n",
       "</table>\n",
       "</div>"
      ],
      "text/plain": [
       "          noblock       block\n",
       "count  500.000000  500.000000\n",
       "mean    -0.204298   -0.192497\n",
       "std      0.154098    0.135601\n",
       "min     -0.691851   -0.599093\n",
       "25%     -0.306842   -0.285514\n",
       "50%     -0.200444   -0.197683\n",
       "75%     -0.097968   -0.104501\n",
       "max      0.270877    0.165247"
      ]
     },
     "execution_count": 170,
     "metadata": {},
     "output_type": "execute_result"
    }
   ],
   "source": [
    "# Generate simulated data sets without blocking and with blocking\n",
    "B = 500\n",
    "inter_person_variability = 20\n",
    "# Generate simulated data sets without blocking and with blocking\n",
    "noblock = [gen_shoe_data_x(20, False, inter_person_variability) \n",
    "      for _ in tqdm_notebook(np.arange(0, B))]\n",
    "block = [gen_shoe_data_x(20, True, inter_person_variability) for _ in tqdm_notebook(np.arange(0, B))]\n",
    "# Estimate the ATE of each data set\n",
    "\n",
    "m_noblock = pd.DataFrame([regression_ate(d, \"y~d+C(i)\") for d in tqdm_notebook(noblock)])\n",
    "m_block = pd.DataFrame([regression_ate(d, \"y~d+C(i)\") for d in tqdm_notebook(block)])\n",
    "\n",
    "# Show results\n",
    "results = pd.concat([\n",
    "    m_noblock['estimated_ate'].describe(),\n",
    "    m_block['estimated_ate'].describe()\n",
    "], axis=1)\n",
    "results.columns = ['noblock', 'block']\n",
    "results"
   ]
  },
  {
   "cell_type": "markdown",
   "metadata": {},
   "source": [
    "# 2. Regression (30 points)"
   ]
  },
  {
   "cell_type": "markdown",
   "metadata": {},
   "source": [
    "# 1."
   ]
  },
  {
   "cell_type": "code",
   "execution_count": 267,
   "metadata": {},
   "outputs": [
    {
     "name": "stdout",
     "output_type": "stream",
     "text": [
      "grad_high_school    0.499926\n",
      "d                   0.609292\n",
      "y0                  0.298009\n",
      "y1                  0.310841\n",
      "y                   0.315118\n",
      "dtype: float64\n"
     ]
    }
   ],
   "source": [
    "# This cell contains the \"data-generating process.\"\n",
    "# We will make it up, but try to create something close to\n",
    "# what we saw in the Karlan experiment above.\n",
    "# That will help us get a better sense of how the regression is behaving.\n",
    "\n",
    "# Set the same size like the real data.\n",
    "N = 13560\n",
    "\n",
    "# Our \"control variable\" will be an indicator for graduating from high-school.\n",
    "grad_high_school = np.random.binomial(n=1, p=0.5, size=N)\n",
    "beta_hs = 0.1\n",
    "\n",
    "\n",
    "# Set the data-generating process to have on average\n",
    "# 61% of people in the treatment group, like in the paper.\n",
    "# Set the ATE to be 0.032, similar to what we see in the real data.\n",
    "D = np.random.binomial(n=1, p=0.61, size=N)\n",
    "ATE = 0.032\n",
    "\n",
    "# Generate the potential outcomes.\n",
    "# We have to be careful tha the probabilities remain in the valid\n",
    "# range [0, 1] or else we will get an error.\n",
    "baseline_probability = 0.25 + beta_hs * grad_high_school\n",
    "Y0 = np.random.binomial(n=1, p=baseline_probability)\n",
    "Y1 = np.random.binomial(n=1, p=baseline_probability + ATE * D)\n",
    "\n",
    "df = pd.DataFrame({\n",
    "    'grad_high_school': grad_high_school,\n",
    "    'd': D,\n",
    "    'y0': Y0,\n",
    "    'y1': Y1\n",
    "})\n",
    "df['y'] = df.eval(\"y1 * d + y0 * (1 - d)\")\n",
    "print(df.mean())"
   ]
  },
  {
   "cell_type": "code",
   "execution_count": 268,
   "metadata": {},
   "outputs": [
    {
     "name": "stdout",
     "output_type": "stream",
     "text": [
      "\n",
      "====================================\n",
      "                  Model 1   Model 2 \n",
      "------------------------------------\n",
      "d                0.0259*** 0.0268***\n",
      "                 (0.0081)  (0.0081) \n",
      "grad_high_school           0.0872***\n",
      "                           (0.0079) \n",
      "R-squared        0.0007    0.0096   \n",
      "No. coefficients 2         3        \n",
      "====================================\n",
      "Standard errors in parentheses.\n",
      "* p<.1, ** p<.05, ***p<.01\n"
     ]
    }
   ],
   "source": [
    "# This cells fits two different models. \n",
    "# One model has the control variable and the other doesn't.\n",
    "\n",
    "# We call this model a bivariate one\n",
    "# because it is just a relationship between two variables.\n",
    "r_sim_biv = sfa.ols(\"y ~ d\", df).fit(cov_type='HC1')\n",
    "\n",
    "# This model is more complex because it has an additional covariate\n",
    "# (aka control variable).\n",
    "r_sim_control = sfa.ols(\"y ~ d + grad_high_school\", df).fit(cov_type='HC1')\n",
    "\n",
    "\n",
    "info_dict={'R-squared' : lambda x: f\"{x.rsquared:0.4f}\",\n",
    "           'No. coefficients': lambda x: f\"{x.params.shape[0]}\"}\n",
    "\n",
    "results_table = summary_col(results=[r_sim_biv, r_sim_control],\n",
    "                            float_format='%0.4f',\n",
    "                            stars = True,\n",
    "                            model_names=[\n",
    "                                'Model 1',\n",
    "                                'Model 2',\n",
    "                            ],\n",
    "                            info_dict=info_dict,\n",
    "                            regressor_order=['d', 'grad_high_school'],\n",
    "                            drop_omitted=True)\n",
    "\n",
    "print(results_table)"
   ]
  },
  {
   "cell_type": "markdown",
   "metadata": {},
   "source": [
    "# 2."
   ]
  },
  {
   "cell_type": "code",
   "execution_count": 308,
   "metadata": {},
   "outputs": [],
   "source": [
    "def Model_fit(N = 13560, beta_hs = 0.35, ATE = 0.018):\n",
    "    params = locals().copy()\n",
    "  # Set the same size like the real data.\n",
    "\n",
    "    # Our \"control variable\" will be an indicator for graduating from high-school.\n",
    "    grad_high_school = np.random.binomial(n=1, p=0.5, size=N)\n",
    "    \n",
    "\n",
    "\n",
    "    # Set the data-generating process to have on average\n",
    "    # 61% of people in the treatment group, like in the paper.\n",
    "    # Set the ATE to be 0.032, similar to what we see in the real data.\n",
    "    D = np.random.binomial(n=1, p=0.61, size=N)\n",
    "    \n",
    "    # Generate the potential outcomes.\n",
    "    # We have to be careful tha the probabilities remain in the valid\n",
    "    # range [0, 1] or else we will get an error.\n",
    "    baseline_probability = 0.25 + beta_hs * grad_high_school\n",
    "    Y0 = np.random.binomial(n=1, p=baseline_probability)\n",
    "    Y1 = np.random.binomial(n=1, p=baseline_probability + ATE * D)\n",
    "\n",
    "    df = pd.DataFrame({\n",
    "    'grad_high_school': grad_high_school,\n",
    "    'd': D,\n",
    "    'y0': Y0,\n",
    "    'y1': Y1\n",
    "    })\n",
    "    df['y'] = df.eval(\"y1 * d + y0 * (1 - d)\")\n",
    "    \n",
    "    # This cells fits two different models. \n",
    "    # One model has the control variable and the other doesn't.\n",
    "\n",
    "    # We call this model a bivariate one\n",
    "    # because it is just a relationship between two variables.\n",
    "    Model1 = sfa.ols(\"y ~ d\", df).fit()\n",
    "    \n",
    "    Model2 = sfa.ols(\"y ~ d + grad_high_school\", df).fit()\n",
    "    \n",
    "    \n",
    "    results_table = [dict({\n",
    "      'Estimated coefficient of d': (result_reg.params['d']),\n",
    "      'Standard Error in d': (result_reg.bse['d']),\n",
    "      'P value': (result_reg.pvalues['d'])}, **params) for result_reg in (Model1, Model2)]\n",
    "    \n",
    "\n",
    "    return results_table\n",
    "\n"
   ]
  },
  {
   "cell_type": "code",
   "execution_count": 309,
   "metadata": {},
   "outputs": [
    {
     "data": {
      "application/vnd.jupyter.widget-view+json": {
       "model_id": "06921c9ee2744f6299440c32623dcbe3",
       "version_major": 2,
       "version_minor": 0
      },
      "text/plain": [
       "HBox(children=(IntProgress(value=0, max=1000), HTML(value='')))"
      ]
     },
     "metadata": {},
     "output_type": "display_data"
    },
    {
     "data": {
      "application/vnd.jupyter.widget-view+json": {
       "model_id": "5af8dd979f2546678052132cbd19b58e",
       "version_major": 2,
       "version_minor": 0
      },
      "text/plain": [
       "HBox(children=(IntProgress(value=0, max=1000), HTML(value='')))"
      ]
     },
     "metadata": {},
     "output_type": "display_data"
    }
   ],
   "source": [
    "B = 1000\n",
    "alpha = 0.05\n",
    "Model1_power = np.mean([1 if Model_fit(N=N)[0]['P value'] < alpha else 0 for _ in tqdm_notebook(np.arange(0, B))])\n",
    "Model2_power = np.mean([1 if Model_fit(N=N)[1]['P value'] < alpha else 0 for _ in tqdm_notebook(np.arange(0, B))])"
   ]
  },
  {
   "cell_type": "code",
   "execution_count": 315,
   "metadata": {},
   "outputs": [
    {
     "name": "stdout",
     "output_type": "stream",
     "text": [
      " Model1 Power 0.562 \n",
      " Model2 Power 0.608\n"
     ]
    }
   ],
   "source": [
    "print(' Model1 Power {} \\n Model2 Power {}'.format(Model1_power, Model2_power))"
   ]
  },
  {
   "cell_type": "markdown",
   "metadata": {},
   "source": [
    "# 3."
   ]
  },
  {
   "cell_type": "code",
   "execution_count": 316,
   "metadata": {},
   "outputs": [
    {
     "data": {
      "application/vnd.jupyter.widget-view+json": {
       "model_id": "79d697670a6143db8331d40b46ebcc8a",
       "version_major": 2,
       "version_minor": 0
      },
      "text/plain": [
       "HBox(children=(IntProgress(value=0, max=1000), HTML(value='')))"
      ]
     },
     "metadata": {},
     "output_type": "display_data"
    },
    {
     "data": {
      "application/vnd.jupyter.widget-view+json": {
       "model_id": "b29b0f3c1f9046c29afa1885c9fc4976",
       "version_major": 2,
       "version_minor": 0
      },
      "text/plain": [
       "HBox(children=(IntProgress(value=0, max=1000), HTML(value='')))"
      ]
     },
     "metadata": {},
     "output_type": "display_data"
    }
   ],
   "source": [
    "B = 1000\n",
    "alpha = 0.05\n",
    "Model1_power = np.mean([1 if Model_fit(beta_hs = 0.1)[0]['P value'] < alpha else 0 for _ in tqdm_notebook(np.arange(0, B))])\n",
    "Model2_power = np.mean([1 if Model_fit(beta_hs = 0.1)[1]['P value'] < alpha else 0 for _ in tqdm_notebook(np.arange(0, B))])"
   ]
  },
  {
   "cell_type": "code",
   "execution_count": 319,
   "metadata": {},
   "outputs": [
    {
     "name": "stdout",
     "output_type": "stream",
     "text": [
      " Model1 Power 0.624 \n",
      " Model2 Power 0.568\n"
     ]
    }
   ],
   "source": [
    "print(' Model1 Power {} \\n Model2 Power {}'.format(Model1_power, Model2_power))"
   ]
  },
  {
   "cell_type": "markdown",
   "metadata": {},
   "source": [
    "# 4."
   ]
  },
  {
   "cell_type": "code",
   "execution_count": 333,
   "metadata": {},
   "outputs": [],
   "source": [
    "def Model_fit(N = 13560, beta_hs = 0.35, ATE = 0.018):\n",
    "    params = locals().copy()\n",
    "  # Set the same size like the real data.\n",
    "\n",
    "    # Our \"control variable\" will be an indicator for graduating from high-school.\n",
    "    grad_high_school = np.random.binomial(n=1, p=0.5, size=N)\n",
    "    \n",
    "\n",
    "\n",
    "    # Set the data-generating process to have on average\n",
    "    # 61% of people in the treatment group, like in the paper.\n",
    "    # Set the ATE to be 0.032, similar to what we see in the real data.\n",
    "    D = np.random.binomial(n=1, p=0.61, size=N)\n",
    "    \n",
    "    # Generate the potential outcomes.\n",
    "    # We have to be careful tha the probabilities remain in the valid\n",
    "    # range [0, 1] or else we will get an error.\n",
    "    baseline_probability = 0.25 + beta_hs * grad_high_school\n",
    "    Y0 = np.random.binomial(n=1, p=baseline_probability)\n",
    "    Y1 = np.random.binomial(n=1, p=baseline_probability + ATE * D)\n",
    "\n",
    "    df = pd.DataFrame({\n",
    "    'grad_high_school': grad_high_school,\n",
    "    'd': D,\n",
    "    'y0': Y0,\n",
    "    'y1': Y1\n",
    "    })\n",
    "    df['y'] = df.eval(\"y1 * d + y0 * (1 - d)\")\n",
    "    return df.describe()"
   ]
  },
  {
   "cell_type": "code",
   "execution_count": 338,
   "metadata": {},
   "outputs": [
    {
     "data": {
      "text/plain": [
       "grad_high_school    0.501475\n",
       "d                   0.616519\n",
       "y0                  0.421460\n",
       "y1                  0.443068\n",
       "y                   0.437684\n",
       "Name: mean, dtype: float64"
      ]
     },
     "execution_count": 338,
     "metadata": {},
     "output_type": "execute_result"
    }
   ],
   "source": [
    "Model_fit(beta_hs = 0.35).loc['mean']"
   ]
  },
  {
   "cell_type": "code",
   "execution_count": 339,
   "metadata": {},
   "outputs": [
    {
     "data": {
      "text/plain": [
       "grad_high_school    0.503392\n",
       "d                   0.609587\n",
       "y0                  0.301327\n",
       "y1                  0.308776\n",
       "y                   0.309956\n",
       "Name: mean, dtype: float64"
      ]
     },
     "execution_count": 339,
     "metadata": {},
     "output_type": "execute_result"
    }
   ],
   "source": [
    "Model_fit(beta_hs = 0.1).loc['mean']"
   ]
  },
  {
   "cell_type": "code",
   "execution_count": 340,
   "metadata": {},
   "outputs": [
    {
     "data": {
      "text/plain": [
       "grad_high_school    0.502286\n",
       "d                   0.610841\n",
       "y0                  0.256637\n",
       "y1                  0.258776\n",
       "y                   0.263569\n",
       "Name: mean, dtype: float64"
      ]
     },
     "execution_count": 340,
     "metadata": {},
     "output_type": "execute_result"
    }
   ],
   "source": [
    "Model_fit(beta_hs = 0).loc['mean']"
   ]
  },
  {
   "cell_type": "markdown",
   "metadata": {},
   "source": [
    "# 3. Shoe tech experiment redux (20 points)"
   ]
  },
  {
   "cell_type": "markdown",
   "metadata": {},
   "source": [
    "# 1."
   ]
  },
  {
   "cell_type": "code",
   "execution_count": 341,
   "metadata": {},
   "outputs": [],
   "source": [
    "\n",
    "def gen_shoe_data(N, block=False, person_variability=20):\n",
    "\n",
    "  # Make N people each with their own randomly wear rate in [0, person_variability].\n",
    "  people = np.arange(0, N)\n",
    "  r_person = np.random.uniform(0, person_variability, size=N)\n",
    "  \n",
    "  # Make left and right feet\n",
    "  df_left = pd.DataFrame({'i': people})\n",
    "  df_left['left_foot'] = 1\n",
    "  df_right = pd.DataFrame({'i': people})\n",
    "  df_right['left_foot'] = 0 \n",
    "  df = pd.concat([df_left, df_right], axis=0)\n",
    "  df['shoe'] = np.arange(0, df.shape[0])\n",
    "  \n",
    "  # Each of the person's feet will have the same Y0 (success probability)\n",
    "  df['r_y0'] = r_person[np.array(df['i'])]\n",
    "  \n",
    "  # Treatment reduces wear rate by 0.20\n",
    "  ATE = -0.20\n",
    "  # Y outcomes are measures of shoe wear\n",
    "  Y0 = np.random.normal(loc=df['r_y0'])\n",
    "  Y1 = np.random.normal(loc=df['r_y0'] + ATE)\n",
    "  df['y0'] = Y0\n",
    "  df['y1'] = Y1\n",
    "  \n",
    "  P_treatment = 0.5\n",
    "  if block == False:\n",
    "    treatment_shoes = np.random.choice(df['shoe'], int(len(df['shoe']) * P_treatment), replace=False)\n",
    "    df['d'] = df['shoe'].isin(treatment_shoes).astype('float')\n",
    "  else:\n",
    "    # Treat left foot only\n",
    "    # In real life we would treat a random foot.\n",
    "    # Wouldn't do this in real life but it doesn't matter for the simulation.\n",
    "    df['d'] = df['left_foot']\n",
    "         \n",
    "  df['y'] = df.eval(\"y1 * d + y0 * (1 - d)\")\n",
    "  del df['y0']\n",
    "  del df['y1']\n",
    "  return df\n",
    "\n",
    "def estimate_ate(df):\n",
    "  means = df.groupby('d')['y'].mean()\n",
    "  return {'estimated_ate': means[1] - means[0]}\n",
    "\n",
    "\n",
    "def regression_ate(df, formula=\"y ~ d + r_y0\"):\n",
    "  r = sfa.ols(formula, df).fit()\n",
    "  return {\n",
    "      'estimated_ate': r.params['d'],\n",
    "      'estimated_ate_se': r.bse['d'],\n",
    "      'p_values' : r.pvalues['d']\n",
    "  }\n"
   ]
  },
  {
   "cell_type": "code",
   "execution_count": 356,
   "metadata": {},
   "outputs": [
    {
     "data": {
      "application/vnd.jupyter.widget-view+json": {
       "model_id": "71a5b03e69f049b59321d47d61bb70a4",
       "version_major": 2,
       "version_minor": 0
      },
      "text/plain": [
       "HBox(children=(IntProgress(value=0, max=500), HTML(value='')))"
      ]
     },
     "metadata": {},
     "output_type": "display_data"
    },
    {
     "data": {
      "application/vnd.jupyter.widget-view+json": {
       "model_id": "66483c1aeea8407b9d38541693097bb4",
       "version_major": 2,
       "version_minor": 0
      },
      "text/plain": [
       "HBox(children=(IntProgress(value=0, max=500), HTML(value='')))"
      ]
     },
     "metadata": {},
     "output_type": "display_data"
    },
    {
     "data": {
      "application/vnd.jupyter.widget-view+json": {
       "model_id": "ca0d81f460ab4b9e87b9b8ac420f2053",
       "version_major": 2,
       "version_minor": 0
      },
      "text/plain": [
       "HBox(children=(IntProgress(value=0, max=500), HTML(value='')))"
      ]
     },
     "metadata": {},
     "output_type": "display_data"
    },
    {
     "data": {
      "application/vnd.jupyter.widget-view+json": {
       "model_id": "2a93df8b3e614413bcd6b2819d448131",
       "version_major": 2,
       "version_minor": 0
      },
      "text/plain": [
       "HBox(children=(IntProgress(value=0, max=500), HTML(value='')))"
      ]
     },
     "metadata": {},
     "output_type": "display_data"
    },
    {
     "data": {
      "application/vnd.jupyter.widget-view+json": {
       "model_id": "92dd03078407410899268fc15dd5f596",
       "version_major": 2,
       "version_minor": 0
      },
      "text/plain": [
       "HBox(children=(IntProgress(value=0, max=500), HTML(value='')))"
      ]
     },
     "metadata": {},
     "output_type": "display_data"
    },
    {
     "data": {
      "application/vnd.jupyter.widget-view+json": {
       "model_id": "d7cd935c35fd4c6aaa2c5f0bbba1dab1",
       "version_major": 2,
       "version_minor": 0
      },
      "text/plain": [
       "HBox(children=(IntProgress(value=0, max=500), HTML(value='')))"
      ]
     },
     "metadata": {},
     "output_type": "display_data"
    }
   ],
   "source": [
    "# Generate simulated data sets without blocking and with blocking\n",
    "B = 500\n",
    "N = 100\n",
    "alpha = 0.05\n",
    "inter_person_variability = 20\n",
    "# Generate simulated data sets without blocking and with blocking\n",
    "\n",
    "noblock = [gen_shoe_data(N, False, inter_person_variability) for _ in tqdm_notebook(np.arange(0, B))]\n",
    "\n",
    "block = [gen_shoe_data(N, True, inter_person_variability) for _ in tqdm_notebook(np.arange(0, B))]\n",
    "\n",
    "\n",
    "m_block_power_without_control = np.mean([1 if regression_ate(d, formula = \"y ~ d\")['p_values']  < alpha else 0 for d in tqdm_notebook(block)])\n",
    "m_noblock_power_without_control = np.mean([1 if regression_ate(d, formula = \"y ~ d\")['p_values'] < alpha else 0 for d in tqdm_notebook(noblock)])\n",
    "\n",
    "m_block_power_with_control = np.mean([1 if regression_ate(d, formula=\"y ~ d + r_y0\")['p_values']  < alpha else 0 for d in tqdm_notebook(block)])\n",
    "m_noblock_power_with_control = np.mean([1 if regression_ate(d, formula=\"y ~ d + r_y0\")['p_values'] < alpha else 0 for d in tqdm_notebook(noblock)])\n"
   ]
  },
  {
   "cell_type": "code",
   "execution_count": 362,
   "metadata": {},
   "outputs": [
    {
     "name": "stdout",
     "output_type": "stream",
     "text": [
      "With Control: Power of blocking is 0.308 and nonblocking is 0.282\n"
     ]
    }
   ],
   "source": [
    "print('With Control: Power of blocking is {} and nonblocking is {}'.format(m_block_power_with_control,m_noblock_power_with_control))"
   ]
  },
  {
   "cell_type": "code",
   "execution_count": 361,
   "metadata": {},
   "outputs": [
    {
     "name": "stdout",
     "output_type": "stream",
     "text": [
      "Without Control: Power of blocking is 0.0 and nonblocking is 0.048\n"
     ]
    }
   ],
   "source": [
    "print('Without Control: Power of blocking is {} and nonblocking is {}'.format(m_block_power_without_control,m_noblock_power_without_control))"
   ]
  },
  {
   "cell_type": "markdown",
   "metadata": {},
   "source": [
    "# 4."
   ]
  },
  {
   "cell_type": "code",
   "execution_count": 381,
   "metadata": {},
   "outputs": [],
   "source": [
    "def gen_shoe_data(N = 100, block=False, person_variability=20):\n",
    "\n",
    "  # Make N people each with their own randomly wear rate in [0, person_variability].\n",
    "  people = np.arange(0, N)\n",
    "  r_person = np.random.uniform(0, person_variability, size=N)\n",
    "  # Make left and right feet\n",
    "  df_left = pd.DataFrame({'i': people})\n",
    "  df_left['left_foot'] = 1\n",
    "  df_right = pd.DataFrame({'i': people})\n",
    "  df_right['left_foot'] = 0 \n",
    "  df = pd.concat([df_left, df_right], axis=0)\n",
    "  df['shoe'] = np.arange(0, df.shape[0])\n",
    "  \n",
    "  # Each of the person's feet will have the same Y0 (success probability)\n",
    "  df['r_y0'] = r_person[df['i']]\n",
    "  # Treatment reduces wear rate by 0.20\n",
    "  ATE = -0.20\n",
    "  # Y outcomes are measures of shoe wear\n",
    "  Y0 = np.random.normal(loc=df['r_y0'])\n",
    "  Y0_hist = np.random.normal(loc=df['r_y0'])\n",
    "  Y1 = np.random.normal(loc=df['r_y0'] + ATE)\n",
    "  df['y0'] = Y0\n",
    "  df['y1'] = Y1\n",
    "  df['y0_hist'] = Y0_hist\n",
    "  P_treatment = 0.5\n",
    "  if block == False:\n",
    "    treatment_shoes = np.random.choice(df['shoe'], int(len(df['shoe']) * P_treatment), replace=False)\n",
    "    df['d'] = df['shoe'].isin(treatment_shoes).astype('float')\n",
    "  else:\n",
    "    # Treat left foot only\n",
    "    # In real life we would treat a random foot.\n",
    "    # Wouldn't do this in real life but it doesn't matter for the simulation.\n",
    "    df['d'] = df['left_foot']\n",
    "         \n",
    "  df['y'] = df.eval(\"y1 * d + y0 * (1 - d)\")\n",
    "  del df['y0']\n",
    "  del df['y1']\n",
    "  return df\n",
    "\n"
   ]
  },
  {
   "cell_type": "code",
   "execution_count": 383,
   "metadata": {},
   "outputs": [
    {
     "data": {
      "application/vnd.jupyter.widget-view+json": {
       "model_id": "c64a7502349b45f3b36c92ee050886b8",
       "version_major": 2,
       "version_minor": 0
      },
      "text/plain": [
       "HBox(children=(IntProgress(value=0, max=500), HTML(value='')))"
      ]
     },
     "metadata": {},
     "output_type": "display_data"
    },
    {
     "data": {
      "application/vnd.jupyter.widget-view+json": {
       "model_id": "3c0c74c363db48329835f6a87dfa59c8",
       "version_major": 2,
       "version_minor": 0
      },
      "text/plain": [
       "HBox(children=(IntProgress(value=0, max=500), HTML(value='')))"
      ]
     },
     "metadata": {},
     "output_type": "display_data"
    },
    {
     "data": {
      "application/vnd.jupyter.widget-view+json": {
       "model_id": "03b594db400f46ffb5a63444e131e909",
       "version_major": 2,
       "version_minor": 0
      },
      "text/plain": [
       "HBox(children=(IntProgress(value=0, max=500), HTML(value='')))"
      ]
     },
     "metadata": {},
     "output_type": "display_data"
    },
    {
     "data": {
      "application/vnd.jupyter.widget-view+json": {
       "model_id": "be480fcfa9b44e9e9bd3d75db84ce67c",
       "version_major": 2,
       "version_minor": 0
      },
      "text/plain": [
       "HBox(children=(IntProgress(value=0, max=500), HTML(value='')))"
      ]
     },
     "metadata": {},
     "output_type": "display_data"
    },
    {
     "name": "stdout",
     "output_type": "stream",
     "text": [
      "With change score: Power of blocking is 0.178 and nonblocking is 0.146\n"
     ]
    }
   ],
   "source": [
    "# Estimate the ATE of each data set\n",
    "from scipy import stats\n",
    "def tttest(df):\n",
    "    df['change_score'] = df['y'] - df['y0_hist']\n",
    "    p_value = stats.ttest_ind(df['change_score'][df['d'] == 1], df['change_score'][df['d'] == 0]).pvalue\n",
    "    return p_value\n",
    "\n",
    "B = 500\n",
    "\n",
    "noblock = [gen_shoe_data(100, False, 20) for _ in tqdm_notebook(np.arange(0, B))]\n",
    "\n",
    "block = [gen_shoe_data(100, True, 20) for _ in tqdm_notebook(np.arange(0, B))]\n",
    "\n",
    "m_noblock_power = np.mean([1 if tttest(d) < 0.05 else 0 for d in tqdm_notebook(noblock)])\n",
    "m_block_power = np.mean([1 if tttest(d) < 0.05 else 0 for d in tqdm_notebook(block)])\n",
    "\n",
    "print('With change score: Power of blocking is {} and nonblocking is {}'.format(m_block_power, m_noblock_power))"
   ]
  },
  {
   "cell_type": "markdown",
   "metadata": {},
   "source": [
    "# BONUS QUESTION:"
   ]
  },
  {
   "cell_type": "code",
   "execution_count": 399,
   "metadata": {},
   "outputs": [],
   "source": [
    "#Bonus\n",
    "def gen_shoe_data(N, block=False, person_variability=20):\n",
    "\n",
    "  # Make N people each with their own randomly wear rate in [0, person_variability].\n",
    "  people = np.arange(0, N)\n",
    "  r_person = np.random.uniform(0, person_variability, size=N)\n",
    "  \n",
    "  # Make left and right feet\n",
    "  df_left = pd.DataFrame({'i': people})\n",
    "  df_left['left_foot'] = 1\n",
    "  df_right = pd.DataFrame({'i': people})\n",
    "  df_right['left_foot'] = 0 \n",
    "  df = pd.concat([df_left, df_right], axis=0)\n",
    "  df['shoe'] = np.arange(0, df.shape[0])\n",
    "  \n",
    "  # Each of the person's feet will have the same Y0 (success probability)\n",
    "  df['r_y0'] = r_person[np.array(df['i'])]\n",
    "  \n",
    "  # Treatment reduces wear rate by 0.20\n",
    "  ATE = -0.20\n",
    "  # Y outcomes are measures of shoe wear\n",
    "  Y0 = np.random.normal(loc=df['r_y0'])\n",
    "  Y1 = np.random.normal(loc=df['r_y0'] + ATE)\n",
    "  df['y0'] = Y0\n",
    "  df['y1'] = Y1\n",
    "  \n",
    "  P_treatment = 0.5\n",
    "  if block == False:\n",
    "    treatment_shoes = np.random.choice(df['shoe'], int(len(df['shoe']) * P_treatment), replace=False)\n",
    "    df['d'] = df['shoe'].isin(treatment_shoes).astype('float')\n",
    "  else:\n",
    "    # Treat left foot only\n",
    "    # In real life we would treat a random foot.\n",
    "    # Wouldn't do this in real life but it doesn't matter for the simulation.\n",
    "    df['d'] = df['left_foot']\n",
    "         \n",
    "  df['y'] = df.eval(\"y1 * d + y0 * (1 - d)\")\n",
    "  del df['y0']\n",
    "  del df['y1']\n",
    "  return df\n",
    "\n",
    "def estimate_ate(df):\n",
    "  means = df.groupby('d')['y'].mean()\n",
    "  return {'estimated_ate': means[1] - means[0]}\n",
    "\n",
    "\n",
    "def regression_ate(df, formula=\"y ~ d + r_y0\"):\n",
    "  r = sfa.ols(formula, df).fit()\n",
    "  return {\n",
    "      'estimated_ate': r.params['d'],\n",
    "      'estimated_ate_se': r.bse['d'],\n",
    "      'p_values' : r.pvalues['d']\n",
    "  }\n",
    "\n"
   ]
  },
  {
   "cell_type": "code",
   "execution_count": 400,
   "metadata": {},
   "outputs": [
    {
     "data": {
      "application/vnd.jupyter.widget-view+json": {
       "model_id": "70f5b7b026b3433e9ab4b35d534a77e4",
       "version_major": 2,
       "version_minor": 0
      },
      "text/plain": [
       "HBox(children=(IntProgress(value=0, max=5000), HTML(value='')))"
      ]
     },
     "metadata": {},
     "output_type": "display_data"
    },
    {
     "data": {
      "application/vnd.jupyter.widget-view+json": {
       "model_id": "8ed12c926aaf48bb8da24f57b0d2dd30",
       "version_major": 2,
       "version_minor": 0
      },
      "text/plain": [
       "HBox(children=(IntProgress(value=0, max=5000), HTML(value='')))"
      ]
     },
     "metadata": {},
     "output_type": "display_data"
    },
    {
     "data": {
      "application/vnd.jupyter.widget-view+json": {
       "model_id": "164f113a2ecd474ebae92cd8b84c34f4",
       "version_major": 2,
       "version_minor": 0
      },
      "text/plain": [
       "HBox(children=(IntProgress(value=0, max=5000), HTML(value='')))"
      ]
     },
     "metadata": {},
     "output_type": "display_data"
    },
    {
     "data": {
      "application/vnd.jupyter.widget-view+json": {
       "model_id": "65912119d14b4e0faef9675ddcdb9827",
       "version_major": 2,
       "version_minor": 0
      },
      "text/plain": [
       "HBox(children=(IntProgress(value=0, max=5000), HTML(value='')))"
      ]
     },
     "metadata": {},
     "output_type": "display_data"
    },
    {
     "data": {
      "application/vnd.jupyter.widget-view+json": {
       "model_id": "3ae88bf1ae55490fadb25c6cec04a231",
       "version_major": 2,
       "version_minor": 0
      },
      "text/plain": [
       "HBox(children=(IntProgress(value=0, max=5000), HTML(value='')))"
      ]
     },
     "metadata": {},
     "output_type": "display_data"
    },
    {
     "data": {
      "application/vnd.jupyter.widget-view+json": {
       "model_id": "3636e697e78642afa8ada4e07404ef0e",
       "version_major": 2,
       "version_minor": 0
      },
      "text/plain": [
       "HBox(children=(IntProgress(value=0, max=5000), HTML(value='')))"
      ]
     },
     "metadata": {},
     "output_type": "display_data"
    },
    {
     "data": {
      "application/vnd.jupyter.widget-view+json": {
       "model_id": "e4388b97c58d4ee68e1f73d13c8e052c",
       "version_major": 2,
       "version_minor": 0
      },
      "text/plain": [
       "HBox(children=(IntProgress(value=0, max=5000), HTML(value='')))"
      ]
     },
     "metadata": {},
     "output_type": "display_data"
    },
    {
     "data": {
      "application/vnd.jupyter.widget-view+json": {
       "model_id": "8ae2f946183f45ae99ac840fab0f1c55",
       "version_major": 2,
       "version_minor": 0
      },
      "text/plain": [
       "HBox(children=(IntProgress(value=0, max=5000), HTML(value='')))"
      ]
     },
     "metadata": {},
     "output_type": "display_data"
    },
    {
     "name": "stdout",
     "output_type": "stream",
     "text": [
      "( m_block_power_without_control: 0.0 \n",
      ", m_noblock_power_without_control:0.0512 \n",
      ", m_block_power_with_control:0.2884 \n",
      ", m_noblock_power_with_control:0.297)\n"
     ]
    }
   ],
   "source": [
    "# Generate simulated data sets without blocking and with blocking\n",
    "B = 5000\n",
    "inter_person_variability = 20\n",
    "# Generate simulated data sets without blocking and with blocking\n",
    "noblock = [gen_shoe_data(100, False, inter_person_variability) \n",
    "      for _ in tqdm_notebook(np.arange(0, B))]\n",
    "block = [gen_shoe_data(100, True, inter_person_variability) for _ in tqdm_notebook(np.arange(0, B))]\n",
    "# Estimate the ATE of each data set\n",
    "\n",
    "m_block = pd.DataFrame([regression_ate(d, formula = \"y ~ d\") for d in tqdm_notebook(block)])\n",
    "m_noblock = pd.DataFrame([regression_ate(d) for d in tqdm_notebook(noblock)])\n",
    "\n",
    "m_block_power_without_control = np.mean([1 if regression_ate(d, formula = \"y ~ d\")['p_values']  < alpha else 0 for d in tqdm_notebook(block)])\n",
    "m_noblock_power_without_control = np.mean([1 if regression_ate(d, formula = \"y ~ d\")['p_values'] < alpha else 0 for d in tqdm_notebook(noblock)])\n",
    "\n",
    "m_block_power_with_control = np.mean([1 if regression_ate(d, formula=\"y ~ d + r_y0\")['p_values']  < alpha else 0 for d in tqdm_notebook(block)])\n",
    "m_noblock_power_with_control = np.mean([1 if regression_ate(d, formula=\"y ~ d + r_y0\")['p_values'] < alpha else 0 for d in tqdm_notebook(noblock)])\n",
    "\n",
    "print(\"( m_block_power_without_control: {} \\n, m_noblock_power_without_control:{} \\n, m_block_power_with_control:{} \\n, m_noblock_power_with_control:{})\".format(m_block_power_without_control, m_noblock_power_without_control, m_block_power_with_control, m_noblock_power_with_control))"
   ]
  },
  {
   "cell_type": "code",
   "execution_count": 401,
   "metadata": {},
   "outputs": [
    {
     "data": {
      "application/vnd.jupyter.widget-view+json": {
       "model_id": "b69df881299d409d80f13ba0d1666411",
       "version_major": 2,
       "version_minor": 0
      },
      "text/plain": [
       "HBox(children=(IntProgress(value=0, max=5000), HTML(value='')))"
      ]
     },
     "metadata": {},
     "output_type": "display_data"
    },
    {
     "data": {
      "application/vnd.jupyter.widget-view+json": {
       "model_id": "a51941adbf1c49779ec858cbbef40ee8",
       "version_major": 2,
       "version_minor": 0
      },
      "text/plain": [
       "HBox(children=(IntProgress(value=0, max=5000), HTML(value='')))"
      ]
     },
     "metadata": {},
     "output_type": "display_data"
    },
    {
     "data": {
      "application/vnd.jupyter.widget-view+json": {
       "model_id": "78e6d17b9b0d4166ba7866dc5fb39895",
       "version_major": 2,
       "version_minor": 0
      },
      "text/plain": [
       "HBox(children=(IntProgress(value=0, max=5000), HTML(value='')))"
      ]
     },
     "metadata": {},
     "output_type": "display_data"
    },
    {
     "data": {
      "application/vnd.jupyter.widget-view+json": {
       "model_id": "34748e07ec5243ed8f7608bd3e37c721",
       "version_major": 2,
       "version_minor": 0
      },
      "text/plain": [
       "HBox(children=(IntProgress(value=0, max=5000), HTML(value='')))"
      ]
     },
     "metadata": {},
     "output_type": "display_data"
    },
    {
     "data": {
      "application/vnd.jupyter.widget-view+json": {
       "model_id": "c9001560de8b48ce9bc484b34b5fce25",
       "version_major": 2,
       "version_minor": 0
      },
      "text/plain": [
       "HBox(children=(IntProgress(value=0, max=5000), HTML(value='')))"
      ]
     },
     "metadata": {},
     "output_type": "display_data"
    },
    {
     "data": {
      "application/vnd.jupyter.widget-view+json": {
       "model_id": "d2008945cc9b421da9c7f7d316ae97f8",
       "version_major": 2,
       "version_minor": 0
      },
      "text/plain": [
       "HBox(children=(IntProgress(value=0, max=5000), HTML(value='')))"
      ]
     },
     "metadata": {},
     "output_type": "display_data"
    },
    {
     "data": {
      "application/vnd.jupyter.widget-view+json": {
       "model_id": "44f83d43e17e40a08b4dda3d328ecf86",
       "version_major": 2,
       "version_minor": 0
      },
      "text/plain": [
       "HBox(children=(IntProgress(value=0, max=5000), HTML(value='')))"
      ]
     },
     "metadata": {},
     "output_type": "display_data"
    },
    {
     "data": {
      "application/vnd.jupyter.widget-view+json": {
       "model_id": "44e9937051d1459f852558b972225b38",
       "version_major": 2,
       "version_minor": 0
      },
      "text/plain": [
       "HBox(children=(IntProgress(value=0, max=5000), HTML(value='')))"
      ]
     },
     "metadata": {},
     "output_type": "display_data"
    },
    {
     "name": "stdout",
     "output_type": "stream",
     "text": [
      "( m_block_power_without_control: 0.0002 \n",
      ", m_noblock_power_without_control:0.0528 \n",
      ", m_block_power_with_control:0.0628 \n",
      ", m_noblock_power_with_control:0.06)\n"
     ]
    }
   ],
   "source": [
    "# Generate simulated data sets without blocking and with blocking\n",
    "B = 5000\n",
    "inter_person_variability = 20\n",
    "# Generate simulated data sets without blocking and with blocking\n",
    "\n",
    "noblock = [gen_shoe_data(N = 5, block=False, person_variability=20) for _ in tqdm_notebook(np.arange(0, B))]\n",
    "block = [gen_shoe_data(5, True, inter_person_variability) for _ in tqdm_notebook(np.arange(0, B))]\n",
    "# Estimate the ATE of each data set\n",
    "\n",
    "m_block = pd.DataFrame([regression_ate(d, formula = \"y ~ d\") for d in tqdm_notebook(block)])\n",
    "m_noblock = pd.DataFrame([regression_ate(d) for d in tqdm_notebook(noblock)])\n",
    "\n",
    "# Show results\n",
    "m_block_power_without_control = np.mean([1 if regression_ate(d, formula = \"y ~ d\")['p_values']  < alpha else 0 for d in tqdm_notebook(block)])\n",
    "m_noblock_power_without_control = np.mean([1 if regression_ate(d, formula = \"y ~ d\")['p_values'] < alpha else 0 for d in tqdm_notebook(noblock)])\n",
    "\n",
    "m_block_power_with_control = np.mean([1 if regression_ate(d, formula=\"y ~ d + r_y0\")['p_values']  < alpha else 0 for d in tqdm_notebook(block)])\n",
    "m_noblock_power_with_control = np.mean([1 if regression_ate(d, formula=\"y ~ d + r_y0\")['p_values'] < alpha else 0 for d in tqdm_notebook(noblock)])\n",
    "\n",
    "print(\"( m_block_power_without_control: {} \\n, m_noblock_power_without_control:{} \\n, m_block_power_with_control:{} \\n, m_noblock_power_with_control:{})\".format(m_block_power_without_control, m_noblock_power_without_control, m_block_power_with_control, m_noblock_power_with_control))"
   ]
  }
 ],
 "metadata": {
  "kernelspec": {
   "display_name": "Python 3",
   "language": "python",
   "name": "python3"
  },
  "language_info": {
   "codemirror_mode": {
    "name": "ipython",
    "version": 3
   },
   "file_extension": ".py",
   "mimetype": "text/x-python",
   "name": "python",
   "nbconvert_exporter": "python",
   "pygments_lexer": "ipython3",
   "version": "3.7.4"
  }
 },
 "nbformat": 4,
 "nbformat_minor": 2
}
